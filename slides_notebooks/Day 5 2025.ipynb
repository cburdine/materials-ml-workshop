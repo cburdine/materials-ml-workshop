{
 "cells": [
  {
   "cell_type": "markdown",
   "id": "34f8e3e7",
   "metadata": {
    "editable": true,
    "slideshow": {
     "slide_type": "slide"
    },
    "tags": []
   },
   "source": [
    "# Materials+ML Workshop Day 5\n",
    "\n",
    "![logo](logo.svg)\n"
   ]
  },
  {
   "cell_type": "markdown",
   "id": "7572813e",
   "metadata": {
    "editable": true,
    "slideshow": {
     "slide_type": "slide"
    },
    "tags": []
   },
   "source": [
    "## Day 5 Agenda:\n",
    "\n",
    "* Questions about Day 4 Material\n",
    "* Review of Day 4\n",
    "\n",
    "Content for today:"
   ]
  },
  {
   "cell_type": "markdown",
   "id": "2f48e2f1",
   "metadata": {
    "editable": true,
    "slideshow": {
     "slide_type": "fragment"
    },
    "tags": []
   },
   "source": [
    "* The Atomic Simulation Environment\n",
    "    * Building atomic structures\n",
    "    * Visualizing atomic structures"
   ]
  },
  {
   "cell_type": "markdown",
   "id": "bea039bc",
   "metadata": {
    "editable": true,
    "slideshow": {
     "slide_type": "fragment"
    },
    "tags": []
   },
   "source": [
    "* Python Materials Genomics (`pymatgen` with `ase`)\n",
    "    * Visualizing properties (band structure)\n",
    "* Using the Materials Project Database\n",
    "    * Querying material properties\n",
    "    * Getting crystal structure data"
   ]
  },
  {
   "cell_type": "markdown",
   "id": "fe1ccbbf",
   "metadata": {
    "editable": true,
    "slideshow": {
     "slide_type": "slide"
    },
    "tags": []
   },
   "source": [
    "## Background Survey\n",
    "\n",
    "<img src=\"survey_qr_2025.png\" width=400/>\n",
    "\n",
    "## [https://forms.gle/ArUHPp2C6TdLF5dQ7](https://forms.gle/ArUHPp2C6TdLF5dQ7)"
   ]
  },
  {
   "cell_type": "markdown",
   "id": "ad7b71a1",
   "metadata": {
    "editable": true,
    "slideshow": {
     "slide_type": "slide"
    },
    "tags": []
   },
   "source": [
    "## The Workshop Online Book:\n",
    "\n",
    "### [https://cburdine.github.io/materials-ml-workshop/](https://cburdine.github.io/materials-ml-workshop/)"
   ]
  },
  {
   "cell_type": "markdown",
   "id": "3466e435",
   "metadata": {
    "editable": true,
    "slideshow": {
     "slide_type": "slide"
    },
    "tags": []
   },
   "source": [
    "## Tentative Week 1 Schedule:\n",
    "\n",
    "<table>\n",
    "    <tr>\n",
    "        <td>Session</td>\n",
    "        <td>Date</td>\n",
    "        <td>Content</td>\n",
    "    </tr>\n",
    "    <tr>\n",
    "        <td>Day 1</td>\n",
    "        <td>06/09/2025 (2:00-4:00 PM)</td>\n",
    "        <td>Introduction, Python Data Types</td>\n",
    "    </r>\n",
    "    <tr>\n",
    "        <td>Day 2</td>\n",
    "        <td>06/10/2025 (2:00-4:00 PM)</td>\n",
    "        <td>Python Functions and Classes</td>\n",
    "    </tr>\n",
    "    <tr>\n",
    "        <td>Day 3</td>\n",
    "        <td>06/11/2025 (2:00-4:00 PM)</td>\n",
    "        <td>Scientific Computing with Numpy and Scipy</td>\n",
    "    </tr>\n",
    "    <tr>\n",
    "        <td>Day 4</td>\n",
    "        <td>06/12/2025 (2:00-4:00 PM)</td>\n",
    "        <td>Data Manipulation and Visualization</td>\n",
    "    </tr>\n",
    "    <tr>\n",
    "        <td><b>Day 5</b></td>\n",
    "        <td><b>06/13/2025 (2:00-4:00 PM)</b></td>\n",
    "        <td><b>Materials Science Packages, Introduction to ML</b></td>\n",
    "    </tr>\n",
    "</table>"
   ]
  },
  {
   "cell_type": "markdown",
   "id": "3359d847",
   "metadata": {
    "editable": true,
    "slideshow": {
     "slide_type": "slide"
    },
    "tags": []
   },
   "source": [
    "# Questions\n",
    "\n",
    "Material covered yesterday:\n",
    "* Pandas\n",
    "* Matplotlib"
   ]
  },
  {
   "cell_type": "markdown",
   "id": "5e2aba8d-f7dd-4d67-b3e2-d6455f3d7f3b",
   "metadata": {
    "editable": true,
    "slideshow": {
     "slide_type": "slide"
    },
    "tags": []
   },
   "source": [
    "# Review: Day 4"
   ]
  },
  {
   "cell_type": "markdown",
   "id": "476145df",
   "metadata": {
    "editable": true,
    "slideshow": {
     "slide_type": "subslide"
    },
    "tags": []
   },
   "source": [
    "## Pandas\n",
    "\n",
    "* Pandas is an open-source Python package for data manipulation and analysis.\n",
    "* It can be used for reading writing data to several different formats including:\n",
    "    * CSV (comma-separated values)\n",
    "    * Excel spreadsheets\n",
    "    * SQL databases"
   ]
  },
  {
   "cell_type": "markdown",
   "id": "2a23a564",
   "metadata": {
    "editable": true,
    "slideshow": {
     "slide_type": "fragment"
    },
    "tags": []
   },
   "source": [
    "* We can import pandas as follows:"
   ]
  },
  {
   "cell_type": "code",
   "execution_count": 1,
   "id": "def3509f",
   "metadata": {
    "editable": true,
    "slideshow": {
     "slide_type": "fragment"
    },
    "tags": []
   },
   "outputs": [],
   "source": [
    "import pandas as pd"
   ]
  },
  {
   "cell_type": "markdown",
   "id": "3e2dad39",
   "metadata": {
    "editable": true,
    "slideshow": {
     "slide_type": "subslide"
    },
    "tags": []
   },
   "source": [
    "## DataFrames\n",
    "\n",
    "* We can create Dataframes from Python dictionaries as follows:"
   ]
  },
  {
   "cell_type": "code",
   "execution_count": 2,
   "id": "4ba8efb1",
   "metadata": {
    "editable": true,
    "slideshow": {
     "slide_type": "fragment"
    },
    "tags": []
   },
   "outputs": [],
   "source": [
    "# Data on the first four elements of the periodic table:\n",
    "elements_data = {\n",
    "    'Element' : ['H', 'He', 'Li', 'Be'],\n",
    "    'Atomic Number' : [ 1, 2, 3, 4 ],\n",
    "    'Mass' : [ 1.008, 4.002, 6.940, 9.012],\n",
    "    'Electronegativity' : [ 2.20, 0.0, 0.98, 1.57 ]\n",
    "}\n",
    "\n",
    "# construct dataframe from data dictionary:\n",
    "df = pd.DataFrame(elements_data)"
   ]
  },
  {
   "cell_type": "code",
   "execution_count": 6,
   "id": "4ced1c50",
   "metadata": {
    "editable": true,
    "slideshow": {
     "slide_type": "subslide"
    },
    "tags": []
   },
   "outputs": [
    {
     "name": "stdout",
     "output_type": "stream",
     "text": [
      "[1.008 4.002 6.94  9.012]\n"
     ]
    }
   ],
   "source": [
    "import numpy as np\n",
    "\n",
    "# get the 'Mass' column and convert it to a numpy array:\n",
    "mass_series = df['Mass']\n",
    "mass_array = np.array(mass_series)\n",
    "\n",
    "print(mass_array)"
   ]
  },
  {
   "cell_type": "code",
   "execution_count": 28,
   "id": "1595556b",
   "metadata": {
    "editable": true,
    "slideshow": {
     "slide_type": "subslide"
    },
    "tags": []
   },
   "outputs": [
    {
     "data": {
      "text/html": [
       "<div>\n",
       "<style scoped>\n",
       "    .dataframe tbody tr th:only-of-type {\n",
       "        vertical-align: middle;\n",
       "    }\n",
       "\n",
       "    .dataframe tbody tr th {\n",
       "        vertical-align: top;\n",
       "    }\n",
       "\n",
       "    .dataframe thead th {\n",
       "        text-align: right;\n",
       "    }\n",
       "</style>\n",
       "<table border=\"1\" class=\"dataframe\">\n",
       "  <thead>\n",
       "    <tr style=\"text-align: right;\">\n",
       "      <th></th>\n",
       "      <th>Element</th>\n",
       "      <th>Atomic Number</th>\n",
       "      <th>Mass</th>\n",
       "      <th>Electronegativity</th>\n",
       "      <th>Estimated Mass</th>\n",
       "    </tr>\n",
       "  </thead>\n",
       "  <tbody>\n",
       "    <tr>\n",
       "      <th>0</th>\n",
       "      <td>H</td>\n",
       "      <td>1</td>\n",
       "      <td>1.008</td>\n",
       "      <td>2.20</td>\n",
       "      <td>2</td>\n",
       "    </tr>\n",
       "    <tr>\n",
       "      <th>1</th>\n",
       "      <td>He</td>\n",
       "      <td>2</td>\n",
       "      <td>4.002</td>\n",
       "      <td>0.00</td>\n",
       "      <td>4</td>\n",
       "    </tr>\n",
       "    <tr>\n",
       "      <th>2</th>\n",
       "      <td>Li</td>\n",
       "      <td>3</td>\n",
       "      <td>6.940</td>\n",
       "      <td>0.98</td>\n",
       "      <td>6</td>\n",
       "    </tr>\n",
       "    <tr>\n",
       "      <th>3</th>\n",
       "      <td>Be</td>\n",
       "      <td>4</td>\n",
       "      <td>9.012</td>\n",
       "      <td>1.57</td>\n",
       "      <td>8</td>\n",
       "    </tr>\n",
       "  </tbody>\n",
       "</table>\n",
       "</div>"
      ],
      "text/plain": [
       "  Element  Atomic Number   Mass  Electronegativity  Estimated Mass\n",
       "0       H              1  1.008               2.20               2\n",
       "1      He              2  4.002               0.00               4\n",
       "2      Li              3  6.940               0.98               6\n",
       "3      Be              4  9.012               1.57               8"
      ]
     },
     "metadata": {},
     "output_type": "display_data"
    }
   ],
   "source": [
    "# function for estimating mass:\n",
    "def amu_mass(n):\n",
    "    return 2*n\n",
    "\n",
    "# add an \"Estimated Mass\" column to the dataframe:\n",
    "df['Estimated Mass'] = \\\n",
    "    df['Atomic Number'].apply(amu_mass)\n",
    "display(df)"
   ]
  },
  {
   "cell_type": "markdown",
   "id": "6dbfe6c9",
   "metadata": {
    "editable": true,
    "slideshow": {
     "slide_type": "subslide"
    },
    "tags": []
   },
   "source": [
    "# Matplotlib\n",
    "\n",
    "* Matplotlib is a MATLAB-like plotting utility for creating publication-quality plots\n",
    "* In matplotlib, we typically import the `pyplot` subpackage with the alias `plt`:"
   ]
  },
  {
   "cell_type": "code",
   "execution_count": 8,
   "id": "852fdbd5",
   "metadata": {
    "editable": true,
    "slideshow": {
     "slide_type": "fragment"
    },
    "tags": []
   },
   "outputs": [],
   "source": [
    "import matplotlib.pyplot as plt"
   ]
  },
  {
   "cell_type": "code",
   "execution_count": 10,
   "id": "898190b4",
   "metadata": {
    "editable": true,
    "slideshow": {
     "slide_type": "subslide"
    },
    "tags": []
   },
   "outputs": [
    {
     "data": {
      "image/png": "[encoded data removed]",
      "text/plain": [
       "<Figure size 700x200 with 1 Axes>"
      ]
     },
     "metadata": {},
     "output_type": "display_data"
    }
   ],
   "source": [
    "# generate some data:\n",
    "data_x = np.linspace(0,8,10)\n",
    "data_y = np.sin(data_x)\n",
    "\n",
    "# create a new figure and plot data:\n",
    "plt.figure(figsize=(7,2))\n",
    "plt.grid()\n",
    "plt.plot(data_x, data_y, 'ro--')\n",
    "\n",
    "# add a title and show plot in notebook:\n",
    "plt.title('Example of a Line plot')\n",
    "plt.show()"
   ]
  },
  {
   "cell_type": "markdown",
   "id": "c83609c6",
   "metadata": {
    "editable": true,
    "slideshow": {
     "slide_type": "slide"
    },
    "tags": []
   },
   "source": [
    "## New Content:\n",
    "\n",
    "* Materials Science Python Packages:\n",
    "    * ASE (Atomic Simulation Environment)\n",
    "    * Pymatgen (Python Materials Genomics)\n",
    "    * Materials Project API\n",
    "    "
   ]
  },
  {
   "cell_type": "markdown",
   "id": "0408f890",
   "metadata": {
    "editable": true,
    "slideshow": {
     "slide_type": "slide"
    },
    "tags": []
   },
   "source": [
    "## Installing packages:"
   ]
  },
  {
   "cell_type": "markdown",
   "id": "ba6a05da",
   "metadata": {
    "editable": true,
    "slideshow": {
     "slide_type": "fragment"
    },
    "tags": []
   },
   "source": [
    "* Install ASE:\n",
    "```\n",
    "pip install ase\n",
    "```\n",
    "* Install ASE:\n",
    "```\n",
    "pip install pymatgen\n",
    "```\n",
    "* Install Materials Project API\n",
    "```\n",
    "pip install mp-api\n",
    "```"
   ]
  },
  {
   "cell_type": "code",
   "execution_count": 25,
   "id": "2afa06d3",
   "metadata": {
    "editable": true,
    "slideshow": {
     "slide_type": "subslide"
    },
    "tags": []
   },
   "outputs": [
    {
     "name": "stdout",
     "output_type": "stream",
     "text": [
      "Defaulting to user installation because normal site-packages is not writeable\n",
      "Requirement already satisfied: mp-api in /home/colin/.local/lib/python3.10/site-packages (0.33.3)\n",
      "Requirement already satisfied: msgpack in /usr/lib/python3/dist-packages (from mp-api) (1.0.3)\n",
      "Requirement already satisfied: typing-extensions>=3.7.4.1 in /home/colin/.local/lib/python3.10/site-packages (from mp-api) (4.2.0)\n",
      "Requirement already satisfied: pymatgen>=2022.3.7 in /home/colin/.local/lib/python3.10/site-packages (from mp-api) (2023.5.31)\n",
      "Requirement already satisfied: monty>=2021.3.12 in /home/colin/.local/lib/python3.10/site-packages (from mp-api) (2023.5.8)\n",
      "Requirement already satisfied: emmet-core>=0.54.0 in /home/colin/.local/lib/python3.10/site-packages (from mp-api) (0.57.1)\n",
      "Requirement already satisfied: setuptools in /usr/lib/python3/dist-packages (from mp-api) (59.6.0)\n",
      "Requirement already satisfied: requests>=2.23.0 in /usr/lib/python3/dist-packages (from mp-api) (2.25.1)\n",
      "Requirement already satisfied: spglib>=2.0.1 in /home/colin/.local/lib/python3.10/site-packages (from emmet-core>=0.54.0->mp-api) (2.0.2)\n",
      "Requirement already satisfied: pybtex~=0.24 in /home/colin/.local/lib/python3.10/site-packages (from emmet-core>=0.54.0->mp-api) (0.24.0)\n",
      "Requirement already satisfied: pydantic>=1.10.2 in /home/colin/.local/lib/python3.10/site-packages (from emmet-core>=0.54.0->mp-api) (1.10.9)\n",
      "Requirement already satisfied: ruamel.yaml>=0.17.0 in /home/colin/.local/lib/python3.10/site-packages (from pymatgen>=2022.3.7->mp-api) (0.17.32)\n",
      "Requirement already satisfied: networkx>=2.2 in /home/colin/.local/lib/python3.10/site-packages (from pymatgen>=2022.3.7->mp-api) (2.8.8)\n",
      "Requirement already satisfied: palettable>=3.1.1 in /home/colin/.local/lib/python3.10/site-packages (from pymatgen>=2022.3.7->mp-api) (3.3.3)\n",
      "Requirement already satisfied: scipy>=1.5.0 in /usr/lib/python3/dist-packages (from pymatgen>=2022.3.7->mp-api) (1.8.0)\n",
      "Requirement already satisfied: sympy in /usr/lib/python3/dist-packages (from pymatgen>=2022.3.7->mp-api) (1.9)\n",
      "Requirement already satisfied: tqdm in /home/colin/.local/lib/python3.10/site-packages (from pymatgen>=2022.3.7->mp-api) (4.64.0)\n",
      "Requirement already satisfied: numpy>=1.20.1 in /usr/lib/python3/dist-packages (from pymatgen>=2022.3.7->mp-api) (1.21.5)\n",
      "Requirement already satisfied: plotly>=4.5.0 in /home/colin/.local/lib/python3.10/site-packages (from pymatgen>=2022.3.7->mp-api) (5.15.0)\n",
      "Requirement already satisfied: uncertainties>=3.1.4 in /home/colin/.local/lib/python3.10/site-packages (from pymatgen>=2022.3.7->mp-api) (3.1.7)\n",
      "Requirement already satisfied: pandas in /home/colin/.local/lib/python3.10/site-packages (from pymatgen>=2022.3.7->mp-api) (1.4.4)\n",
      "Requirement already satisfied: tabulate in /home/colin/.local/lib/python3.10/site-packages (from pymatgen>=2022.3.7->mp-api) (0.9.0)\n",
      "Requirement already satisfied: matplotlib>=1.5 in /usr/lib/python3/dist-packages (from pymatgen>=2022.3.7->mp-api) (3.5.1)\n",
      "Requirement already satisfied: packaging in /usr/lib/python3/dist-packages (from plotly>=4.5.0->pymatgen>=2022.3.7->mp-api) (21.3)\n",
      "Requirement already satisfied: tenacity>=6.2.0 in /home/colin/.local/lib/python3.10/site-packages (from plotly>=4.5.0->pymatgen>=2022.3.7->mp-api) (8.2.2)\n",
      "Requirement already satisfied: PyYAML>=3.01 in /usr/lib/python3/dist-packages (from pybtex~=0.24->emmet-core>=0.54.0->mp-api) (5.4.1)\n",
      "Requirement already satisfied: six in /usr/lib/python3/dist-packages (from pybtex~=0.24->emmet-core>=0.54.0->mp-api) (1.16.0)\n",
      "Requirement already satisfied: latexcodec>=1.0.4 in /home/colin/.local/lib/python3.10/site-packages (from pybtex~=0.24->emmet-core>=0.54.0->mp-api) (2.0.1)\n",
      "Requirement already satisfied: ruamel.yaml.clib>=0.2.7 in /home/colin/.local/lib/python3.10/site-packages (from ruamel.yaml>=0.17.0->pymatgen>=2022.3.7->mp-api) (0.2.7)\n",
      "Requirement already satisfied: future in /home/colin/.local/lib/python3.10/site-packages (from uncertainties>=3.1.4->pymatgen>=2022.3.7->mp-api) (0.18.3)\n",
      "Requirement already satisfied: python-dateutil>=2.8.1 in /home/colin/.local/lib/python3.10/site-packages (from pandas->pymatgen>=2022.3.7->mp-api) (2.8.2)\n",
      "Requirement already satisfied: pytz>=2020.1 in /usr/lib/python3/dist-packages (from pandas->pymatgen>=2022.3.7->mp-api) (2022.1)\n",
      "Note: you may need to restart the kernel to use updated packages.\n"
     ]
    }
   ],
   "source": [
    "pip install ase pymatgen mp-api"
   ]
  },
  {
   "cell_type": "markdown",
   "id": "9041ea20",
   "metadata": {
    "editable": true,
    "slideshow": {
     "slide_type": "slide"
    },
    "tags": []
   },
   "source": [
    "## The Atomic Simulation Environment\n",
    "\n",
    "* ASE is a Python package for building, manipulating, and performing calculations on atomic structures\n",
    "* ASE provides interfaces to several different simulation platforms, such as:\n",
    "    * VASP\n",
    "    * Quantum ESPRESSO\n",
    "    * Q-Chem\n",
    "    * Gaussian"
   ]
  },
  {
   "cell_type": "markdown",
   "id": "f5c8deba",
   "metadata": {
    "editable": true,
    "slideshow": {
     "slide_type": "slide"
    },
    "tags": []
   },
   "source": [
    "## ASE Basics:\n",
    "\n",
    "* The fundamental data type in ASE is the `Atoms` object:\n",
    "\n",
    "    * `Atoms` represents a collection of Atoms in a molecular or crystalline structure.\n",
    "    * Material properties (such as the results of calculations) can be attached to Atoms instances"
   ]
  },
  {
   "cell_type": "markdown",
   "id": "2c30c50d",
   "metadata": {
    "editable": true,
    "slideshow": {
     "slide_type": "slide"
    },
    "tags": []
   },
   "source": [
    "* ASE has functionality for loading, exporting and viewing `Atoms` objects in different formats."
   ]
  },
  {
   "cell_type": "code",
   "execution_count": 25,
   "id": "fb3824b3",
   "metadata": {
    "editable": true,
    "slideshow": {
     "slide_type": "fragment"
    },
    "tags": []
   },
   "outputs": [
    {
     "data": {
      "text/html": [
       "<html>\n",
       "    <head>\n",
       "        <title>ASE atomic visualization</title>\n",
       "        <link rel=\"stylesheet\" type=\"text/css\"             href=\"https://www.x3dom.org/release/x3dom.css\"></link>\n",
       "        <script type=\"text/javascript\"             src=\"https://www.x3dom.org/release/x3dom.js\"></script>\n",
       "    </head>\n",
       "    <body>\n",
       "        <X3D width=\"400px\"; height=\"300px\";>\n",
       "\n",
       "<!--Inserting Generated X3D Scene-->\n",
       "<scene>\n",
       "  <viewpoint position=\"0 0 7.831669999999999\">\n",
       "    <group/>\n",
       "  </viewpoint>\n",
       "  <transform translation=\"-0.0 -0.0 -0.0\">\n",
       "    <group>\n",
       "      <group>\n",
       "        <transform translation=\"0 0 0\">\n",
       "          <shape>\n",
       "            <appearance>\n",
       "              <material diffuseColor=\"0 0 0\"/>\n",
       "            </appearance>\n",
       "            <lineset vertexCount=\"5\">\n",
       "              <coordinate point=\"0 0 0 0.0 0.0 0.0 0.0 0.0 0.0 0.0 0.0 0.0 0 0 0\"/>\n",
       "            </lineset>\n",
       "          </shape>\n",
       "        </transform>\n",
       "        <transform translation=\"0.0 0.0 0.0\">\n",
       "          <shape>\n",
       "            <appearance>\n",
       "              <material diffuseColor=\"0 0 0\"/>\n",
       "            </appearance>\n",
       "            <lineset vertexCount=\"5\">\n",
       "              <coordinate point=\"0 0 0 0.0 0.0 0.0 0.0 0.0 0.0 0.0 0.0 0.0 0 0 0\"/>\n",
       "            </lineset>\n",
       "          </shape>\n",
       "        </transform>\n",
       "        <transform translation=\"0 0 0\">\n",
       "          <shape>\n",
       "            <appearance>\n",
       "              <material diffuseColor=\"0 0 0\"/>\n",
       "            </appearance>\n",
       "            <lineset vertexCount=\"5\">\n",
       "              <coordinate point=\"0 0 0 0.0 0.0 0.0 0.0 0.0 0.0 0.0 0.0 0.0 0 0 0\"/>\n",
       "            </lineset>\n",
       "          </shape>\n",
       "        </transform>\n",
       "        <transform translation=\"0.0 0.0 0.0\">\n",
       "          <shape>\n",
       "            <appearance>\n",
       "              <material diffuseColor=\"0 0 0\"/>\n",
       "            </appearance>\n",
       "            <lineset vertexCount=\"5\">\n",
       "              <coordinate point=\"0 0 0 0.0 0.0 0.0 0.0 0.0 0.0 0.0 0.0 0.0 0 0 0\"/>\n",
       "            </lineset>\n",
       "          </shape>\n",
       "        </transform>\n",
       "      </group>\n",
       "      <group>\n",
       "        <transform translation=\"0.0 0.15456 0.0\">\n",
       "          <shape>\n",
       "            <appearance>\n",
       "              <material diffuseColor=\"0.565 0.565 0.565\"/>\n",
       "            </appearance>\n",
       "            <sphere radius=\"0.76\"/>\n",
       "          </shape>\n",
       "        </transform>\n",
       "        <transform translation=\"0.166384 1.360084 0.0\">\n",
       "          <shape>\n",
       "            <appearance>\n",
       "              <material diffuseColor=\"1.0 0.051 0.051\"/>\n",
       "            </appearance>\n",
       "            <sphere radius=\"0.66\"/>\n",
       "          </shape>\n",
       "        </transform>\n",
       "        <transform translation=\"-1.236449 -0.415036 0.0\">\n",
       "          <shape>\n",
       "            <appearance>\n",
       "              <material diffuseColor=\"1.0 0.051 0.051\"/>\n",
       "            </appearance>\n",
       "            <sphere radius=\"0.66\"/>\n",
       "          </shape>\n",
       "        </transform>\n",
       "        <transform translation=\"-1.867646 0.333582 0.0\">\n",
       "          <shape>\n",
       "            <appearance>\n",
       "              <material diffuseColor=\"1.0 1.0 1.0\"/>\n",
       "            </appearance>\n",
       "            <sphere radius=\"0.31\"/>\n",
       "          </shape>\n",
       "        </transform>\n",
       "        <transform translation=\"1.073776 -0.892748 0.0\">\n",
       "          <shape>\n",
       "            <appearance>\n",
       "              <material diffuseColor=\"0.565 0.565 0.565\"/>\n",
       "            </appearance>\n",
       "            <sphere radius=\"0.76\"/>\n",
       "          </shape>\n",
       "        </transform>\n",
       "        <transform translation=\"2.048189 -0.408135 0.0\">\n",
       "          <shape>\n",
       "            <appearance>\n",
       "              <material diffuseColor=\"1.0 1.0 1.0\"/>\n",
       "            </appearance>\n",
       "            <sphere radius=\"0.31\"/>\n",
       "          </shape>\n",
       "        </transform>\n",
       "        <transform translation=\"0.968661 -1.528353 0.881747\">\n",
       "          <shape>\n",
       "            <appearance>\n",
       "              <material diffuseColor=\"1.0 1.0 1.0\"/>\n",
       "            </appearance>\n",
       "            <sphere radius=\"0.31\"/>\n",
       "          </shape>\n",
       "        </transform>\n",
       "        <transform translation=\"0.968661 -1.528353 -0.881747\">\n",
       "          <shape>\n",
       "            <appearance>\n",
       "              <material diffuseColor=\"1.0 1.0 1.0\"/>\n",
       "            </appearance>\n",
       "            <sphere radius=\"0.31\"/>\n",
       "          </shape>\n",
       "        </transform>\n",
       "      </group>\n",
       "    </group>\n",
       "  </transform>\n",
       "</scene>\n",
       "<!--End of Inserted Scene-->\n",
       "\n",
       "        </X3D>\n",
       "    </body>\n",
       "</html>\n",
       "\n"
      ],
      "text/plain": [
       "<IPython.core.display.HTML object>"
      ]
     },
     "execution_count": 25,
     "metadata": {},
     "output_type": "execute_result"
    }
   ],
   "source": [
    "from ase.build import molecule\n",
    "from ase.visualize import view\n",
    "\n",
    "# build a common molecule:\n",
    "acetic_acid = molecule('CH3COOH')\n",
    "view(acetic_acid, viewer='x3d')"
   ]
  },
  {
   "cell_type": "markdown",
   "id": "20f61636",
   "metadata": {
    "editable": true,
    "slideshow": {
     "slide_type": "slide"
    },
    "tags": []
   },
   "source": [
    "## Tutorial: ASE - The Atomic Simulation Environment\n",
    "* Building simple molecules\n",
    "* Building inorganic structures\n",
    "    * MXenes\n",
    "    * Carbon Nanotubes"
   ]
  },
  {
   "cell_type": "markdown",
   "id": "8f23f8fd-fdf7-4758-bc1f-d093944df4ea",
   "metadata": {
    "editable": true,
    "slideshow": {
     "slide_type": "subslide"
    },
    "tags": []
   },
   "source": [
    "## Exercise: ASE - The Atomic Simulation Environment\n",
    "* Nitrogen-Vacancy Centers in Diamond\n"
   ]
  },
  {
   "cell_type": "markdown",
   "id": "bc5e16ce",
   "metadata": {
    "editable": true,
    "slideshow": {
     "slide_type": "slide"
    },
    "tags": []
   },
   "source": [
    "## The Materials Project\n",
    "\n",
    "* Register for an account at [https://next-gen.materialsproject.org/](https://next-gen.materialsproject.org/)"
   ]
  },
  {
   "cell_type": "markdown",
   "id": "3e20411f",
   "metadata": {
    "editable": true,
    "slideshow": {
     "slide_type": "slide"
    },
    "tags": []
   },
   "source": [
    "* Once you have registered, find your API key under _My Dashboard_:\n",
    "\n",
    "![mp api key](mp-api.png)"
   ]
  },
  {
   "cell_type": "markdown",
   "id": "61f51ded-9373-4da6-8e19-e8c1b54126cf",
   "metadata": {
    "editable": true,
    "slideshow": {
     "slide_type": "slide"
    },
    "tags": []
   },
   "source": [
    "* Once you have copied your API key, paste it into your notebook as a string:"
   ]
  },
  {
   "cell_type": "code",
   "execution_count": 30,
   "id": "646557ac-163f-4086-a1dc-4678e1d9978d",
   "metadata": {
    "editable": true,
    "slideshow": {
     "slide_type": "fragment"
    },
    "tags": []
   },
   "outputs": [],
   "source": [
    "# create a variable in your notebook with your API key\n",
    "MP_API_KEY = '< Paste your API key here. >'"
   ]
  },
  {
   "cell_type": "markdown",
   "id": "b18e88cc-98b8-4ef9-b666-1c48a93bc9d1",
   "metadata": {
    "editable": true,
    "slideshow": {
     "slide_type": "fragment"
    },
    "tags": []
   },
   "source": [
    "_Always avoid sharing your API key with others._"
   ]
  },
  {
   "cell_type": "markdown",
   "id": "ab19f262",
   "metadata": {
    "editable": true,
    "slideshow": {
     "slide_type": "slide"
    },
    "tags": []
   },
   "source": [
    "## Tutorial: Working with the Materials Project\n",
    "* We will examine the material \n",
    "YBa$_1$Cu$_2$O$_7$ (YBCO)\n",
    "* YBCO is a high-temperature superconductor\n",
    "* We will:\n",
    "    * Visualize the crystal structure\n",
    "    * Plot the Band Structure"
   ]
  },
  {
   "cell_type": "markdown",
   "id": "16d0cbcf-8f60-4d17-a8ef-97093d482a05",
   "metadata": {
    "editable": true,
    "slideshow": {
     "slide_type": "subslide"
    },
    "tags": []
   },
   "source": [
    "## Exercise: Working with the Materials Project\n",
    "\n",
    "* Visualize the DOS of YBa$_2$Cu$_3$O$_7$"
   ]
  },
  {
   "cell_type": "markdown",
   "id": "3bcef6a0",
   "metadata": {
    "editable": true,
    "slideshow": {
     "slide_type": "slide"
    },
    "tags": []
   },
   "source": [
    "# Questions\n",
    "\n",
    "* Any questions about Week 1 or Week 2 Content?"
   ]
  },
  {
   "cell_type": "markdown",
   "id": "bcf31739-f5e8-40ed-87f5-1da0e8ffc6b4",
   "metadata": {
    "editable": true,
    "slideshow": {
     "slide_type": "slide"
    },
    "tags": []
   },
   "source": [
    "## Additional Review: Statistics\n",
    "\n",
    "* Survey Results: Familiarity with statistics (1-10 Scale)\n",
    "\n",
    "<img src=\"stats_survey_2025.png\" width=600/>\n",
    "\n"
   ]
  },
  {
   "cell_type": "markdown",
   "id": "13f7f37b-6d01-44ff-9b53-c0952ce3ca05",
   "metadata": {
    "editable": true,
    "slideshow": {
     "slide_type": "slide"
    },
    "tags": []
   },
   "source": [
    "## Additional Review: Linear Algebra\n",
    "\n",
    "* Survey Results: Familiarity with Linear Algebra (1-10 Scale)\n",
    "\n",
    "<img src=\"linalg_survey_2025.png\" width=600/>"
   ]
  },
  {
   "cell_type": "markdown",
   "id": "57d4261f",
   "metadata": {
    "editable": true,
    "slideshow": {
     "slide_type": "slide"
    },
    "tags": []
   },
   "source": [
    "## Recommended Reading:\n",
    "* Introduction to Machine Learning\n",
    "    * Statistics Review (as needed)\n",
    "    * Mathematics Review (as needed)\n",
    "* Supervised Learning\n",
    "\n",
    "If possible, try to do the exercises.\n",
    "Bring your questions to our next meeting (next Monday)."
   ]
  }
 ],
 "metadata": {
  "kernelspec": {
   "display_name": "Python 3 (ipykernel)",
   "language": "python",
   "name": "python3"
  },
  "language_info": {
   "codemirror_mode": {
    "name": "ipython",
    "version": 3
   },
   "file_extension": ".py",
   "mimetype": "text/x-python",
   "name": "python",
   "nbconvert_exporter": "python",
   "pygments_lexer": "ipython3",
   "version": "3.10.12"
  }
 },
 "nbformat": 4,
 "nbformat_minor": 5
}
