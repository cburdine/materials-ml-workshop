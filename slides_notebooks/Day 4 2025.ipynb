{
 "cells": [
  {
   "cell_type": "markdown",
   "id": "34f8e3e7",
   "metadata": {
    "editable": true,
    "slideshow": {
     "slide_type": "slide"
    },
    "tags": []
   },
   "source": [
    "# Materials+ML Workshop Day 4\n",
    "\n",
    "![logo](logo.svg)\n"
   ]
  },
  {
   "cell_type": "markdown",
   "id": "7572813e",
   "metadata": {
    "editable": true,
    "slideshow": {
     "slide_type": "slide"
    },
    "tags": []
   },
   "source": [
    "## Day 4 Agenda:\n",
    "\n",
    "* Questions about Day 3 Material\n",
    "* Review of Day 3\n",
    "\n",
    "Content for today:"
   ]
  },
  {
   "cell_type": "markdown",
   "id": "2f48e2f1",
   "metadata": {
    "editable": true,
    "slideshow": {
     "slide_type": "fragment"
    },
    "tags": []
   },
   "source": [
    "* Data Manipulation:\n",
    "    * The Pandas Package\n",
    "    * Working with DataFrames\n",
    "* Visualizing Data\n",
    "    * The Matplotlib package\n",
    "    * Visualizing 1D data\n",
    "    * Visualizing 2D and 3D data"
   ]
  },
  {
   "cell_type": "markdown",
   "id": "fe1ccbbf",
   "metadata": {
    "editable": true,
    "slideshow": {
     "slide_type": "skip"
    },
    "tags": []
   },
   "source": [
    "## Background Survey\n",
    "\n",
    "<img src=\"survey_qr_2025.png\" width=400/>\n",
    "\n",
    "## [https://forms.gle/ArUHPp2C6TdLF5dQ7](https://forms.gle/ArUHPp2C6TdLF5dQ7)"
   ]
  },
  {
   "cell_type": "markdown",
   "id": "ad7b71a1",
   "metadata": {
    "editable": true,
    "slideshow": {
     "slide_type": "skip"
    },
    "tags": []
   },
   "source": [
    "## The Workshop Online Book:\n",
    "\n",
    "### [https://cburdine.github.io/materials-ml-workshop/](https://cburdine.github.io/materials-ml-workshop/)"
   ]
  },
  {
   "cell_type": "markdown",
   "id": "3466e435",
   "metadata": {
    "editable": true,
    "slideshow": {
     "slide_type": "slide"
    },
    "tags": []
   },
   "source": [
    "## Tentative Week 1 Schedule:\n",
    "\n",
    "<table>\n",
    "    <tr>\n",
    "        <td>Session</td>\n",
    "        <td>Date</td>\n",
    "        <td>Content</td>\n",
    "    </tr>\n",
    "    <tr>\n",
    "        <td>Day 1</td>\n",
    "        <td>06/09/2025 (2:00-4:00 PM)</td>\n",
    "        <td>Introduction, Python Data Types</td>\n",
    "    </r>\n",
    "    <tr>\n",
    "        <td>Day 2</td>\n",
    "        <td>06/10/2025 (2:00-4:00 PM)</td>\n",
    "        <td>Python Functions and Classes</td>\n",
    "    </tr>\n",
    "    <tr>\n",
    "        <td>Day 3</td>\n",
    "        <td>06/11/2025 (2:00-4:00 PM)</td>\n",
    "        <td>Scientific Computing with Numpy and Scipy</td>\n",
    "    </tr>\n",
    "    <tr>\n",
    "        <td><b>Day 4</b></td>\n",
    "        <td><b>06/12/2025 (2:00-4:00 PM)</b></td>\n",
    "        <td><b>Data Manipulation and Visualization</b></td>\n",
    "    </tr>\n",
    "    <tr>\n",
    "        <td>Day 5</td>\n",
    "        <td>06/13/2025 (2:00-4:00 PM)</td>\n",
    "        <td>Materials Science Packages, Introduction to ML</td>\n",
    "    </tr>\n",
    "</table>"
   ]
  },
  {
   "cell_type": "markdown",
   "id": "3359d847",
   "metadata": {
    "editable": true,
    "slideshow": {
     "slide_type": "slide"
    },
    "tags": []
   },
   "source": [
    "# Questions\n",
    "\n",
    "Material covered yesterday:\n",
    "* Installing Python packages\n",
    "* Numpy\n",
    "* Scipy"
   ]
  },
  {
   "cell_type": "markdown",
   "id": "226f53d0-ada3-4294-8d32-399b31a89d27",
   "metadata": {
    "editable": true,
    "slideshow": {
     "slide_type": "slide"
    },
    "tags": []
   },
   "source": [
    "# Review: Day 3"
   ]
  },
  {
   "cell_type": "markdown",
   "id": "7f5d7f60",
   "metadata": {
    "editable": true,
    "slideshow": {
     "slide_type": "subslide"
    },
    "tags": []
   },
   "source": [
    "## Numpy Package\n",
    "\n",
    "* Numpy supplies mathematical functions (such as `sin(x)`, `exp(x)`, etc.)\n",
    "* Numpy arrays (`numpy.ndarray`) are multi-dimensional data structures\n",
    "* These arrays can represent vectors, matrices, tensors, etc."
   ]
  },
  {
   "cell_type": "markdown",
   "id": "6d51004d",
   "metadata": {
    "editable": true,
    "slideshow": {
     "slide_type": "subslide"
    },
    "tags": []
   },
   "source": [
    "* Creating Numpy arrays:"
   ]
  },
  {
   "cell_type": "code",
   "execution_count": 1,
   "id": "53fa215f",
   "metadata": {
    "editable": true,
    "slideshow": {
     "slide_type": "fragment"
    },
    "tags": []
   },
   "outputs": [
    {
     "name": "stdout",
     "output_type": "stream",
     "text": [
      "[1. 2. 3. 4.]\n",
      "[[1 2 3]\n",
      " [4 5 6]\n",
      " [7 8 9]]\n"
     ]
    }
   ],
   "source": [
    "import numpy as np\n",
    "\n",
    "# create a 1D array:\n",
    "x = np.array([1.0, 2.0, 3.0, 4.0])\n",
    "print(x)\n",
    "\n",
    "# create a 2D array (matrix):\n",
    "X = np.array([\n",
    "    [1,2,3],\n",
    "    [4,5,6],\n",
    "    [7,8,9]\n",
    "])\n",
    "print(X)"
   ]
  },
  {
   "cell_type": "markdown",
   "id": "2aa8d44d",
   "metadata": {
    "editable": true,
    "slideshow": {
     "slide_type": "subslide"
    },
    "tags": []
   },
   "source": [
    "* Every array has an instance variable `shape`\n",
    "* The length of the tuple is the dimension of the array\n",
    "* The entries in the tuple represent the size of the array along each axis (i.e. dimension)"
   ]
  },
  {
   "cell_type": "code",
   "execution_count": 2,
   "id": "d1646abd",
   "metadata": {
    "editable": true,
    "slideshow": {
     "slide_type": "fragment"
    },
    "tags": []
   },
   "outputs": [
    {
     "name": "stdout",
     "output_type": "stream",
     "text": [
      "(4,)\n",
      "(3, 3)\n",
      "(3, 2, 2)\n"
     ]
    }
   ],
   "source": [
    "# x is a 1D array of length 4:\n",
    "print(x.shape)\n",
    "\n",
    "# X is a 3x3 matrix:\n",
    "print(X.shape)\n",
    "\n",
    "# create an array of zeros with a 3x2x2 shape:\n",
    "S = np.zeros((3,2,2))\n",
    "print(S.shape)"
   ]
  },
  {
   "cell_type": "markdown",
   "id": "bc9defcb",
   "metadata": {
    "editable": true,
    "slideshow": {
     "slide_type": "subslide"
    },
    "tags": []
   },
   "source": [
    "* Numpy arrays can be indexed like Python lists, but with some added features:"
   ]
  },
  {
   "cell_type": "code",
   "execution_count": 3,
   "id": "ec5ce86e",
   "metadata": {
    "editable": true,
    "slideshow": {
     "slide_type": "fragment"
    },
    "tags": []
   },
   "outputs": [
    {
     "name": "stdout",
     "output_type": "stream",
     "text": [
      "[[1 2 3]\n",
      " [4 5 6]\n",
      " [7 8 9]]\n",
      "Accessing X[0]:\n",
      "[1 2 3]\n",
      "Accessing X[0,2]:\n",
      "3\n",
      "Accessing X[:,0]:\n",
      "[1 4 7]\n"
     ]
    }
   ],
   "source": [
    "X = np.array(range(1,10)).reshape((3,3))\n",
    "print(X)\n",
    "\n",
    "# access row 0:\n",
    "print('Accessing X[0]:')\n",
    "print(X[0])\n",
    "\n",
    "# access row 0, column 2:\n",
    "print('Accessing X[0,2]:')\n",
    "print(X[0,2])\n",
    "\n",
    "# access column 0:\n",
    "print('Accessing X[:,0]:')\n",
    "print(X[:,0])"
   ]
  },
  {
   "cell_type": "markdown",
   "id": "0acf304e",
   "metadata": {
    "editable": true,
    "slideshow": {
     "slide_type": "subslide"
    },
    "tags": []
   },
   "source": [
    "* All math operations on arrays are performed elementwise\n",
    "* Numpy support matrix multiplications with the `@` operator"
   ]
  },
  {
   "cell_type": "code",
   "execution_count": 4,
   "id": "57dc180d",
   "metadata": {
    "editable": true,
    "slideshow": {
     "slide_type": "fragment"
    },
    "tags": []
   },
   "outputs": [
    {
     "name": "stdout",
     "output_type": "stream",
     "text": [
      "A:\n",
      " [[1 2]\n",
      " [3 4]]\n",
      "D:\n",
      " [[1 0]\n",
      " [0 2]]\n",
      "[[2 2]\n",
      " [3 6]]\n",
      "[[1 4]\n",
      " [3 8]]\n"
     ]
    }
   ],
   "source": [
    "A = np.array(range(1,5)).reshape(2,2)\n",
    "D = np.diag([1,2])\n",
    "\n",
    "print('A:\\n', A)\n",
    "print('D:\\n', D)\n",
    "\n",
    "# elementwise addition:\n",
    "print(A + D)\n",
    "\n",
    "# matrix multiplication:\n",
    "print(A @ D)"
   ]
  },
  {
   "cell_type": "markdown",
   "id": "7001044d",
   "metadata": {
    "editable": true,
    "slideshow": {
     "slide_type": "subslide"
    },
    "tags": []
   },
   "source": [
    "* One important `numpy` function we will use a lot today is `np.linspace`:"
   ]
  },
  {
   "cell_type": "code",
   "execution_count": 5,
   "id": "952c4944",
   "metadata": {
    "editable": true,
    "slideshow": {
     "slide_type": "fragment"
    },
    "tags": []
   },
   "outputs": [
    {
     "name": "stdout",
     "output_type": "stream",
     "text": [
      "[ 0.  1.  2.  3.  4.  5.  6.  7.  8.  9. 10.]\n"
     ]
    }
   ],
   "source": [
    "start = 0.0\n",
    "end = 10.0\n",
    "n_pts = 11\n",
    "\n",
    "# create a 1D array of uniform points:\n",
    "x_pts = np.linspace(start, end, n_pts)\n",
    "print(x_pts)"
   ]
  },
  {
   "cell_type": "markdown",
   "id": "98f53780",
   "metadata": {
    "editable": true,
    "slideshow": {
     "slide_type": "subslide"
    },
    "tags": []
   },
   "source": [
    "## Scipy Package\n",
    "* Scipy provides many useful subpackages for scientific computing"
   ]
  },
  {
   "cell_type": "markdown",
   "id": "7d89309d",
   "metadata": {
    "editable": true,
    "slideshow": {
     "slide_type": "fragment"
    },
    "tags": []
   },
   "source": [
    "* Subpackages you may find useful include:\n",
    "    * `scipy.constants`: physical constants, unit conversions\n",
    "    * `scipy.optimize`:  functions for optimization and root finding\n",
    "    * `scipy.integrate`: functions numerical integration\n",
    "    * `scipy.stats`: statistical analysis functions\n",
    "    * `scipy.special`: special functions (e.g. Bessel functions)"
   ]
  },
  {
   "cell_type": "markdown",
   "id": "c83609c6",
   "metadata": {
    "editable": true,
    "slideshow": {
     "slide_type": "slide"
    },
    "tags": []
   },
   "source": [
    "## New Content:\n",
    "\n",
    "* More Python packages:\n",
    "    * Pandas (\"Panel Datasets\")\n",
    "    * Matplotlib (\"MATLAB-like plotting library\")"
   ]
  },
  {
   "cell_type": "markdown",
   "id": "862e4c1b-bb94-409a-b627-66d5f71d05a6",
   "metadata": {
    "editable": true,
    "slideshow": {
     "slide_type": "slide"
    },
    "tags": []
   },
   "source": [
    "## Checking if Packages are installed\n",
    "\n",
    "* The quickest way to check if a package is installed on your system is to import it:"
   ]
  },
  {
   "cell_type": "code",
   "execution_count": 6,
   "id": "0c183ca3-7173-4468-b102-d1df811d9f63",
   "metadata": {
    "editable": true,
    "slideshow": {
     "slide_type": "fragment"
    },
    "tags": []
   },
   "outputs": [],
   "source": [
    "import matplotlib"
   ]
  },
  {
   "cell_type": "code",
   "execution_count": 7,
   "id": "32148b92-22e6-4053-9395-29608b73531a",
   "metadata": {
    "editable": true,
    "slideshow": {
     "slide_type": "fragment"
    },
    "tags": []
   },
   "outputs": [],
   "source": [
    "import pandas"
   ]
  },
  {
   "cell_type": "markdown",
   "id": "418350a3",
   "metadata": {
    "editable": true,
    "slideshow": {
     "slide_type": "slide"
    },
    "tags": []
   },
   "source": [
    "## Installing Pandas:"
   ]
  },
  {
   "cell_type": "code",
   "execution_count": 8,
   "id": "c4a49c25",
   "metadata": {
    "editable": true,
    "slideshow": {
     "slide_type": "fragment"
    },
    "tags": []
   },
   "outputs": [
    {
     "name": "stdout",
     "output_type": "stream",
     "text": [
      "Requirement already satisfied: pandas in /media/colin/Shared/colin/git/materials-ml-workshop/env/lib/python3.10/site-packages (2.2.3)\n",
      "Requirement already satisfied: tzdata>=2022.7 in /media/colin/Shared/colin/git/materials-ml-workshop/env/lib/python3.10/site-packages (from pandas) (2023.3)\n",
      "Requirement already satisfied: pytz>=2020.1 in /media/colin/Shared/colin/git/materials-ml-workshop/env/lib/python3.10/site-packages (from pandas) (2023.3)\n",
      "Requirement already satisfied: python-dateutil>=2.8.2 in /media/colin/Shared/colin/git/materials-ml-workshop/env/lib/python3.10/site-packages (from pandas) (2.8.2)\n",
      "Requirement already satisfied: numpy>=1.22.4 in /media/colin/Shared/colin/git/materials-ml-workshop/env/lib/python3.10/site-packages (from pandas) (2.2.6)\n",
      "Requirement already satisfied: six>=1.5 in /media/colin/Shared/colin/git/materials-ml-workshop/env/lib/python3.10/site-packages (from python-dateutil>=2.8.2->pandas) (1.16.0)\n"
     ]
    }
   ],
   "source": [
    "!pip install pandas"
   ]
  },
  {
   "cell_type": "markdown",
   "id": "c8439d7c-df57-407d-a9ec-0127601724b8",
   "metadata": {
    "editable": true,
    "slideshow": {
     "slide_type": "slide"
    },
    "tags": []
   },
   "source": [
    "## Installing Matplotlib:"
   ]
  },
  {
   "cell_type": "code",
   "execution_count": 9,
   "id": "debd6f73",
   "metadata": {
    "editable": true,
    "slideshow": {
     "slide_type": "fragment"
    },
    "tags": []
   },
   "outputs": [
    {
     "name": "stdout",
     "output_type": "stream",
     "text": [
      "Requirement already satisfied: matplotlib in /media/colin/Shared/colin/git/materials-ml-workshop/env/lib/python3.10/site-packages (3.10.3)\n",
      "Requirement already satisfied: packaging>=20.0 in /media/colin/Shared/colin/git/materials-ml-workshop/env/lib/python3.10/site-packages (from matplotlib) (23.1)\n",
      "Requirement already satisfied: pillow>=8 in /media/colin/Shared/colin/git/materials-ml-workshop/env/lib/python3.10/site-packages (from matplotlib) (9.5.0)\n",
      "Requirement already satisfied: numpy>=1.23 in /media/colin/Shared/colin/git/materials-ml-workshop/env/lib/python3.10/site-packages (from matplotlib) (2.2.6)\n",
      "Requirement already satisfied: pyparsing>=2.3.1 in /media/colin/Shared/colin/git/materials-ml-workshop/env/lib/python3.10/site-packages (from matplotlib) (2.4.7)\n",
      "Requirement already satisfied: fonttools>=4.22.0 in /media/colin/Shared/colin/git/materials-ml-workshop/env/lib/python3.10/site-packages (from matplotlib) (4.39.4)\n",
      "Requirement already satisfied: cycler>=0.10 in /media/colin/Shared/colin/git/materials-ml-workshop/env/lib/python3.10/site-packages (from matplotlib) (0.11.0)\n",
      "Requirement already satisfied: python-dateutil>=2.7 in /media/colin/Shared/colin/git/materials-ml-workshop/env/lib/python3.10/site-packages (from matplotlib) (2.8.2)\n",
      "Requirement already satisfied: contourpy>=1.0.1 in /media/colin/Shared/colin/git/materials-ml-workshop/env/lib/python3.10/site-packages (from matplotlib) (1.0.7)\n",
      "Requirement already satisfied: kiwisolver>=1.3.1 in /media/colin/Shared/colin/git/materials-ml-workshop/env/lib/python3.10/site-packages (from matplotlib) (1.4.4)\n",
      "Requirement already satisfied: six>=1.5 in /media/colin/Shared/colin/git/materials-ml-workshop/env/lib/python3.10/site-packages (from python-dateutil>=2.7->matplotlib) (1.16.0)\n"
     ]
    }
   ],
   "source": [
    "!pip install matplotlib"
   ]
  },
  {
   "cell_type": "markdown",
   "id": "476145df",
   "metadata": {
    "editable": true,
    "slideshow": {
     "slide_type": "slide"
    },
    "tags": []
   },
   "source": [
    "## Pandas\n",
    "\n",
    "* Pandas is an open-source Python package for data manipulation and analysis.\n",
    "* It can be used for reading writing data to several different formats including:\n",
    "    * CSV (comma-separated values)\n",
    "    * Excel spreadsheets\n",
    "    * SQL databases"
   ]
  },
  {
   "cell_type": "markdown",
   "id": "2a23a564",
   "metadata": {
    "editable": true,
    "slideshow": {
     "slide_type": "fragment"
    },
    "tags": []
   },
   "source": [
    "* We can import pandas as follows:"
   ]
  },
  {
   "cell_type": "code",
   "execution_count": 10,
   "id": "def3509f",
   "metadata": {
    "editable": true,
    "slideshow": {
     "slide_type": "fragment"
    },
    "tags": []
   },
   "outputs": [],
   "source": [
    "import pandas as pd"
   ]
  },
  {
   "cell_type": "markdown",
   "id": "3e2dad39",
   "metadata": {
    "editable": true,
    "slideshow": {
     "slide_type": "slide"
    },
    "tags": []
   },
   "source": [
    "## DataFrames\n",
    "* Pandas introduces the `DataFrame` type for manipulating data\n",
    "* We can create DataFrames from Python dictionaries as follows:"
   ]
  },
  {
   "cell_type": "code",
   "execution_count": 13,
   "id": "4ba8efb1",
   "metadata": {
    "editable": true,
    "slideshow": {
     "slide_type": "fragment"
    },
    "tags": []
   },
   "outputs": [],
   "source": [
    "# Data on the first four elements of the periodic table:\n",
    "elements_data = {\n",
    "    'Element' : ['H', 'He', 'Li', 'Be'],\n",
    "    'Atomic Number' : [ 1, 2, 3, 4 ],\n",
    "    'Mass' : [ 1.008, 4.002, 6.940, 9.012],\n",
    "    'Electronegativity' : [ 2.20, 0.0, 0.98, 1.57 ]\n",
    "}\n",
    "\n",
    "# construct dataframe from data dictionary:\n",
    "df = pd.DataFrame(elements_data)"
   ]
  },
  {
   "cell_type": "markdown",
   "id": "5a18665c",
   "metadata": {
    "editable": true,
    "slideshow": {
     "slide_type": "slide"
    },
    "tags": []
   },
   "source": [
    "## Tutorial: Working with Pandas DataFrames\n",
    "\n",
    "* Accessing Dataframe columns\n",
    "* Filtering Dataframes\n",
    "* Transforming Data\n",
    "* Importing and exporting data"
   ]
  },
  {
   "cell_type": "markdown",
   "id": "d482efb8-141e-48ea-b550-6669a2b7e1f4",
   "metadata": {
    "editable": true,
    "slideshow": {
     "slide_type": "subslide"
    },
    "tags": []
   },
   "source": [
    "## Exercise: Working with Pandas DataFrames\n",
    "\n",
    "* Exploring the Periodic Table\n",
    "    * Download the Periodic Table [CSV file](https://gist.github.com/GoodmanSciences/c2dd862cd38f21b0ad36b8f96b4bf1ee/archive/1d92663004489a5b6926e944c1b3d9ec5c40900e.zip).\n",
    "    * Answer the following questions:\n",
    "        * What fraction of elements in the Periodic Table were discovered before 1900?\n",
    "        * Which elements have at least 100 isotopes?\n",
    "        * What is the average atomic mass of the radioactive elements?"
   ]
  },
  {
   "cell_type": "markdown",
   "id": "6dbfe6c9",
   "metadata": {
    "editable": true,
    "slideshow": {
     "slide_type": "slide"
    },
    "tags": []
   },
   "source": [
    "## Matplotlib\n",
    "\n",
    "* Matplotlib is a MATLAB-like plotting utility for creating publication-quality plots\n",
    "* In matplotlib, we typically import the `pyplot` subpackage with the alias `plt`:"
   ]
  },
  {
   "cell_type": "code",
   "execution_count": 12,
   "id": "852fdbd5",
   "metadata": {
    "editable": true,
    "slideshow": {
     "slide_type": "fragment"
    },
    "tags": []
   },
   "outputs": [],
   "source": [
    "import matplotlib.pyplot as plt"
   ]
  },
  {
   "cell_type": "markdown",
   "id": "3e5fa9de",
   "metadata": {
    "editable": true,
    "slideshow": {
     "slide_type": "slide"
    },
    "tags": []
   },
   "source": [
    "## Tutorial: Plotting with Matplotlib\n",
    "\n",
    "* Plotting 1D data\n",
    "* Styling plots\n",
    "* Adding axes labels, titles, legends\n",
    "* Typesetting\n",
    "* Plotting in 3D\n",
    "* Saving figures"
   ]
  },
  {
   "cell_type": "markdown",
   "id": "183aa4d9-af3c-4f75-b04b-c635f70fcfec",
   "metadata": {
    "editable": true,
    "slideshow": {
     "slide_type": "subslide"
    },
    "tags": []
   },
   "source": [
    "## Exercises: Plotting with Matplotlib\n",
    "\n",
    "* Histograms\n",
    "* Chaotic Dynamical Systems"
   ]
  },
  {
   "cell_type": "markdown",
   "id": "57d4261f",
   "metadata": {
    "editable": true,
    "slideshow": {
     "slide_type": "slide"
    },
    "tags": []
   },
   "source": [
    "## Recommended Reading:\n",
    "* Materials Science Python Packages\n",
    "\n",
    "Bring your questions to our next meeting tomorrow!"
   ]
  }
 ],
 "metadata": {
  "celltoolbar": "Slideshow",
  "kernelspec": {
   "display_name": "Python 3 (ipykernel)",
   "language": "python",
   "name": "python3"
  },
  "language_info": {
   "codemirror_mode": {
    "name": "ipython",
    "version": 3
   },
   "file_extension": ".py",
   "mimetype": "text/x-python",
   "name": "python",
   "nbconvert_exporter": "python",
   "pygments_lexer": "ipython3",
   "version": "3.10.12"
  }
 },
 "nbformat": 4,
 "nbformat_minor": 5
}
