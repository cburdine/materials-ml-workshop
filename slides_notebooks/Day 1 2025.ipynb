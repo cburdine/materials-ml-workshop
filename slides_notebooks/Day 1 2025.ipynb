{
 "cells": [
  {
   "cell_type": "markdown",
   "id": "34f8e3e7",
   "metadata": {
    "editable": true,
    "slideshow": {
     "slide_type": "slide"
    },
    "tags": []
   },
   "source": [
    "# Welcome to the Materials+ML Workshop\n",
    "\n",
    "![logo](logo.svg)\n"
   ]
  },
  {
   "cell_type": "markdown",
   "id": "7572813e",
   "metadata": {
    "editable": true,
    "slideshow": {
     "slide_type": "slide"
    },
    "tags": []
   },
   "source": [
    "## Day 1 Agenda:\n",
    "\n",
    "* Introductions\n",
    "* The workshop Online Book\n",
    "* Installing Python and Jupyter Notebook\n",
    "* Working with Jupyter Notebooks\n",
    "* Getting Started with Python\n",
    "* Python Data Types"
   ]
  },
  {
   "cell_type": "markdown",
   "id": "7561263d",
   "metadata": {
    "editable": true,
    "slideshow": {
     "slide_type": "slide"
    },
    "tags": []
   },
   "source": [
    "# Introductions\n",
    "\n"
   ]
  },
  {
   "cell_type": "markdown",
   "id": "4626ba1e",
   "metadata": {
    "editable": true,
    "slideshow": {
     "slide_type": "slide"
    },
    "tags": []
   },
   "source": [
    "## Background Survey\n",
    "\n",
    "<img src=\"survey_qr_2025.png\" width=400/>\n",
    "\n",
    "## [https://forms.gle/ArUHPp2C6TdLF5dQ7](https://forms.gle/ArUHPp2C6TdLF5dQ7)\n",
    "\n"
   ]
  },
  {
   "cell_type": "markdown",
   "id": "96ebc1a0",
   "metadata": {
    "editable": true,
    "slideshow": {
     "slide_type": "slide"
    },
    "tags": []
   },
   "source": [
    "## About This Workshop"
   ]
  },
  {
   "cell_type": "markdown",
   "id": "3466e435",
   "metadata": {
    "editable": true,
    "slideshow": {
     "slide_type": "subslide"
    },
    "tags": []
   },
   "source": [
    "## Tentative Week 1 Schedule:\n",
    "\n",
    "<table>\n",
    "    <tr>\n",
    "        <td>Session</td>\n",
    "        <td>Date</td>\n",
    "        <td>Content</td>\n",
    "    </tr>\n",
    "    <tr>\n",
    "        <td><b>Day 1</b></td>\n",
    "        <td><b>06/09/2025 (2:00-4:00 PM)</b></td>\n",
    "        <td><b>Introduction, Python Data Types</b></td>\n",
    "    </tr>\n",
    "    <tr>\n",
    "        <td>Day 2</td>\n",
    "        <td>06/10/2025 (2:00-4:00 PM)</td>\n",
    "        <td>Python Functions and Classes</td>\n",
    "    </tr>\n",
    "    <tr>\n",
    "        <td>Day 3</td>\n",
    "        <td>06/11/2025 (2:00-4:00 PM)</td>\n",
    "        <td>Scientific Computing with Numpy and Scipy</td>\n",
    "    </tr>\n",
    "    <tr>\n",
    "        <td>Day 4</td>\n",
    "        <td>06/12/2025 (2:00-4:00 PM)</td>\n",
    "        <td>Data Manipulation and Visualization</td>\n",
    "    </tr>\n",
    "    <tr>\n",
    "        <td>Day 5</td>\n",
    "        <td>06/13/2025 (2:00-4:00 PM)</td>\n",
    "        <td>Materials Science Packages, Introduction to ML</td>\n",
    "    </tr>\n",
    "</table>\n"
   ]
  },
  {
   "cell_type": "markdown",
   "id": "ad7b71a1",
   "metadata": {
    "editable": true,
    "slideshow": {
     "slide_type": "slide"
    },
    "tags": []
   },
   "source": [
    "## The Workshop Online Book:\n",
    "\n",
    "![logo](logo.svg)\n",
    "\n",
    "### [https://cburdine.github.io/materials-ml-workshop/](https://cburdine.github.io/materials-ml-workshop/)"
   ]
  },
  {
   "cell_type": "markdown",
   "id": "35f82cc2",
   "metadata": {
    "editable": true,
    "slideshow": {
     "slide_type": "slide"
    },
    "tags": []
   },
   "source": [
    "# About Python\n",
    "\n",
    "![Python logo](python_logo.svg)"
   ]
  },
  {
   "cell_type": "markdown",
   "id": "18beacf3-88c6-4e66-ace9-394363a064c5",
   "metadata": {
    "editable": true,
    "slideshow": {
     "slide_type": "slide"
    },
    "tags": []
   },
   "source": [
    "<img src=\"python_growth.webp\" width=500/>\n"
   ]
  },
  {
   "cell_type": "markdown",
   "id": "98146750",
   "metadata": {
    "editable": true,
    "slideshow": {
     "slide_type": "slide"
    },
    "tags": []
   },
   "source": [
    "<img src=\"python_popularity.png\" width=500/>"
   ]
  },
  {
   "cell_type": "markdown",
   "id": "324a65a4",
   "metadata": {
    "editable": true,
    "slideshow": {
     "slide_type": "slide"
    },
    "tags": []
   },
   "source": [
    "# About Jupyter Lab\n",
    "\n",
    "![Python logo](jupyter_logo.png)"
   ]
  },
  {
   "cell_type": "markdown",
   "id": "5fefe037",
   "metadata": {
    "editable": true,
    "slideshow": {
     "slide_type": "slide"
    },
    "tags": []
   },
   "source": [
    "# Tutorial: Installing Python and Jupyter Notebook"
   ]
  },
  {
   "cell_type": "markdown",
   "id": "ec23ac73",
   "metadata": {
    "editable": true,
    "slideshow": {
     "slide_type": "fragment"
    },
    "tags": []
   },
   "source": [
    "* Install Jupyter Notebook via pip:\n",
    "```\n",
    "pip install --upgrade jupyter\n",
    "```\n",
    "\n",
    "* Install other dependencies (from a requirements.txt file):\n",
    "```\n",
    "pip install -r requirements.txt\n",
    "```"
   ]
  },
  {
   "cell_type": "markdown",
   "id": "d1c0ba6b-3973-4cee-839e-1ff27215b6d1",
   "metadata": {
    "editable": true,
    "slideshow": {
     "slide_type": "subslide"
    },
    "tags": []
   },
   "source": [
    "### Install Workshop Requirements:\n",
    "\n",
    "Make sure you have installed the [Python packages needed for this workshop](https://gist.githubusercontent.com/cburdine/cae13221fb0e1d134d88a25f01498c67/raw/5c0e14277388b5e7318940679e8905c5e847962f/requirements.txt):\n",
    "\n",
    "\n",
    "Copy the command from [cburdine.github.io/materials-ml-workshop/](http://localhost:8000/python/getting_started.html#installing-packages) in the _Getting Started_ section.\n",
    "```\n",
    "pip install -r https://gist.github.com/cburdine/.../requirements.txt\n",
    "```"
   ]
  },
  {
   "cell_type": "markdown",
   "id": "3359d847",
   "metadata": {
    "editable": true,
    "slideshow": {
     "slide_type": "slide"
    },
    "tags": []
   },
   "source": [
    "# Tutorial: Python Basics\n",
    "\n",
    "* The `print()` function\n",
    "* Arithmetic\n",
    "* Types in Python\n",
    "* Commenting your code\n",
    "* Variables"
   ]
  },
  {
   "cell_type": "markdown",
   "id": "01309d39-3544-4a77-a9ec-514a7fb3bac9",
   "metadata": {
    "editable": true,
    "slideshow": {
     "slide_type": "subslide"
    },
    "tags": []
   },
   "source": [
    "## Exercises: Python Basics\n",
    "\n",
    "* Golden Ratio\n",
    "* Quadratic Formula"
   ]
  },
  {
   "cell_type": "markdown",
   "id": "447cf3ef-ec1c-4ec7-a8a5-6576c90538e3",
   "metadata": {
    "editable": true,
    "slideshow": {
     "slide_type": "slide"
    },
    "tags": []
   },
   "source": [
    "# Tutorial: Logic and Flow Control\n",
    "\n",
    "* The Boolean type\n",
    "* Comparison operators\n",
    "* Conditional Statements"
   ]
  },
  {
   "cell_type": "markdown",
   "id": "28198261-03ab-4517-9033-b87a7bdc4632",
   "metadata": {
    "editable": true,
    "slideshow": {
     "slide_type": "subslide"
    },
    "tags": []
   },
   "source": [
    "## Exercises: Logic and Flow Control\n",
    "\n",
    "* Classifying Chemical Compounds"
   ]
  },
  {
   "cell_type": "markdown",
   "id": "21e67899-cf5d-4b92-b44e-233d797ef230",
   "metadata": {
    "editable": true,
    "slideshow": {
     "slide_type": "slide"
    },
    "tags": []
   },
   "source": [
    "# Tutorial: Loops\n",
    "\n",
    "* the `while` loop\n",
    "* The `for` loop\n",
    "* Iterating over lists"
   ]
  },
  {
   "cell_type": "markdown",
   "id": "811861e6-9865-44b6-b505-3b611fd8d924",
   "metadata": {
    "editable": true,
    "slideshow": {
     "slide_type": "subslide"
    },
    "tags": []
   },
   "source": [
    "## Exercises: Loops\n",
    "\n",
    "* Fibbonacci Sequence\n",
    "* Total Word and Character Count"
   ]
  },
  {
   "cell_type": "markdown",
   "id": "c00b3a37-812c-4055-ab51-367359610613",
   "metadata": {
    "editable": true,
    "slideshow": {
     "slide_type": "slide"
    },
    "tags": []
   },
   "source": [
    "# Review"
   ]
  },
  {
   "cell_type": "markdown",
   "id": "5a1e1b65-5193-43e7-b04e-6a94ec676c80",
   "metadata": {
    "editable": true,
    "slideshow": {
     "slide_type": "subslide"
    },
    "tags": []
   },
   "source": [
    "## The `print()` statement\n",
    "\n",
    "The `print()` function is useful for printing out values in Python:"
   ]
  },
  {
   "cell_type": "code",
   "execution_count": 1,
   "id": "1cdc3ce8-c7a5-4cab-9fd6-f7f1c7812ac0",
   "metadata": {
    "editable": true,
    "slideshow": {
     "slide_type": "fragment"
    },
    "tags": []
   },
   "outputs": [
    {
     "name": "stdout",
     "output_type": "stream",
     "text": [
      "Hello World!\n"
     ]
    }
   ],
   "source": [
    "print('Hello World!')"
   ]
  },
  {
   "cell_type": "markdown",
   "id": "88d946fb-37e5-4cc8-b99d-6b0f3e856102",
   "metadata": {
    "editable": true,
    "slideshow": {
     "slide_type": "subslide"
    },
    "tags": []
   },
   "source": [
    "## Arithmetic"
   ]
  },
  {
   "cell_type": "markdown",
   "id": "c9a6791d-5255-47f7-b0af-72334e92eac8",
   "metadata": {
    "editable": true,
    "slideshow": {
     "slide_type": "fragment"
    },
    "tags": []
   },
   "source": [
    "Python code can be used to perform basic arithmetic operations:"
   ]
  },
  {
   "cell_type": "code",
   "execution_count": 2,
   "id": "f919cb8e-7716-4bec-913d-89b5dbdd5fc2",
   "metadata": {
    "editable": true,
    "slideshow": {
     "slide_type": "fragment"
    },
    "tags": []
   },
   "outputs": [
    {
     "data": {
      "text/plain": [
       "4"
      ]
     },
     "execution_count": 2,
     "metadata": {},
     "output_type": "execute_result"
    }
   ],
   "source": [
    "2 + 2"
   ]
  },
  {
   "cell_type": "code",
   "execution_count": 3,
   "id": "b13b3d3f-94fb-46d6-a1a2-807f5d39a75e",
   "metadata": {
    "editable": true,
    "slideshow": {
     "slide_type": "fragment"
    },
    "tags": []
   },
   "outputs": [
    {
     "name": "stdout",
     "output_type": "stream",
     "text": [
      "191.64644660940672\n"
     ]
    }
   ],
   "source": [
    "print( (3 * (20 / 5)**3) - (0.125 * 64**(1/4)) )"
   ]
  },
  {
   "cell_type": "markdown",
   "id": "c616dafe-15f6-4c0f-afe0-135387657977",
   "metadata": {
    "editable": true,
    "slideshow": {
     "slide_type": "subslide"
    },
    "tags": []
   },
   "source": [
    "## Commenting your Code\n",
    "\n",
    "* Comments are essential for making code readable:"
   ]
  },
  {
   "cell_type": "code",
   "execution_count": 4,
   "id": "390916d2-e5b6-48e9-99d6-bb239faabcd3",
   "metadata": {
    "editable": true,
    "slideshow": {
     "slide_type": "fragment"
    },
    "tags": []
   },
   "outputs": [
    {
     "name": "stdout",
     "output_type": "stream",
     "text": [
      "3.1415926535\n",
      "3.2837384837384844\n"
     ]
    }
   ],
   "source": [
    "# print the actual value of pi (to 10 decimal places):\n",
    "print(3.1415926535)\n",
    "\n",
    "# print an estimated value of pi using the arctan Taylor expansion:\n",
    "#  pi = 4 * arctan(1) ~ 4*(1 - 1/3 + 1/5 - 1/7  + ...)\n",
    "print(4 * (1 - 1/3 + 1/5 - 1/7 + 1/9 - 1/11 + 1/13))"
   ]
  },
  {
   "cell_type": "markdown",
   "id": "09fccc80-3ef9-4ce2-8df6-272db90d059d",
   "metadata": {
    "editable": true,
    "slideshow": {
     "slide_type": "subslide"
    },
    "tags": []
   },
   "source": [
    "## Python Types"
   ]
  },
  {
   "cell_type": "code",
   "execution_count": 5,
   "id": "35af19a4-63d0-4274-b248-93dcdf29dc83",
   "metadata": {
    "editable": true,
    "slideshow": {
     "slide_type": "fragment"
    },
    "tags": []
   },
   "outputs": [
    {
     "name": "stdout",
     "output_type": "stream",
     "text": [
      "7\n",
      "7.0\n"
     ]
    }
   ],
   "source": [
    "# This evaluates to \"7\" (int type)\n",
    "print(4 + 3)\n",
    "\n",
    "# This evaluates to \"7.0\" (float type):\n",
    "print(21 / 3)"
   ]
  },
  {
   "cell_type": "code",
   "execution_count": 6,
   "id": "b338596a-7868-4292-889b-0b5324feaa44",
   "metadata": {
    "editable": true,
    "slideshow": {
     "slide_type": "fragment"
    },
    "tags": []
   },
   "outputs": [
    {
     "data": {
      "text/plain": [
       "str"
      ]
     },
     "execution_count": 6,
     "metadata": {},
     "output_type": "execute_result"
    }
   ],
   "source": [
    "type('this is a string')"
   ]
  },
  {
   "cell_type": "code",
   "execution_count": 7,
   "id": "670d5087-8d9f-4995-9793-e3ad076ccdb1",
   "metadata": {
    "editable": true,
    "slideshow": {
     "slide_type": "fragment"
    },
    "tags": []
   },
   "outputs": [
    {
     "data": {
      "text/plain": [
       "float"
      ]
     },
     "execution_count": 7,
     "metadata": {},
     "output_type": "execute_result"
    }
   ],
   "source": [
    "type(3.14159)"
   ]
  },
  {
   "cell_type": "markdown",
   "id": "f109c168-62d2-474b-9c90-6b0efcfbc02a",
   "metadata": {
    "editable": true,
    "slideshow": {
     "slide_type": "subslide"
    },
    "tags": []
   },
   "source": [
    "## Variables"
   ]
  },
  {
   "cell_type": "code",
   "execution_count": 8,
   "id": "33137816-b539-4f8b-a6b3-e88f1f1a2058",
   "metadata": {
    "editable": true,
    "slideshow": {
     "slide_type": "fragment"
    },
    "tags": []
   },
   "outputs": [],
   "source": [
    "pi_approximation = 3.14 # float variable\n",
    "number_of_steps = 100   # int variable\n",
    "name = 'James T. Kirk'  # str variable"
   ]
  },
  {
   "cell_type": "markdown",
   "id": "047826f2-efc4-4521-8733-b2673c96bbe9",
   "metadata": {
    "editable": true,
    "slideshow": {
     "slide_type": "subslide"
    },
    "tags": []
   },
   "source": [
    "## The Bool type"
   ]
  },
  {
   "cell_type": "code",
   "execution_count": 9,
   "id": "8d7bd012-0346-43a7-8bdf-a5f7aa22dda6",
   "metadata": {
    "editable": true,
    "slideshow": {
     "slide_type": "fragment"
    },
    "tags": []
   },
   "outputs": [
    {
     "data": {
      "text/plain": [
       "bool"
      ]
     },
     "execution_count": 9,
     "metadata": {},
     "output_type": "execute_result"
    }
   ],
   "source": [
    "type(True)\n",
    "type(False)"
   ]
  },
  {
   "cell_type": "code",
   "execution_count": 10,
   "id": "c5d60e00-2caf-4d0d-8075-073751ceef72",
   "metadata": {
    "editable": true,
    "slideshow": {
     "slide_type": "fragment"
    },
    "tags": []
   },
   "outputs": [
    {
     "data": {
      "text/plain": [
       "True"
      ]
     },
     "execution_count": 10,
     "metadata": {},
     "output_type": "execute_result"
    }
   ],
   "source": [
    "x = True\n",
    "y = False\n",
    "z = True\n",
    "\n",
    "x or (y and z)"
   ]
  },
  {
   "cell_type": "markdown",
   "id": "c3498635-db66-406a-941b-1d247933f359",
   "metadata": {
    "editable": true,
    "slideshow": {
     "slide_type": "subslide"
    },
    "tags": []
   },
   "source": [
    "## Comparison Operators"
   ]
  },
  {
   "cell_type": "code",
   "execution_count": 11,
   "id": "9e88b7ab-8923-40a1-8ed8-43b3b0bc94e5",
   "metadata": {
    "editable": true,
    "slideshow": {
     "slide_type": "fragment"
    },
    "tags": []
   },
   "outputs": [
    {
     "name": "stdout",
     "output_type": "stream",
     "text": [
      "False\n"
     ]
    }
   ],
   "source": [
    "x = 0.25\n",
    "y = 1.23\n",
    "z = 0.0\n",
    "\n",
    "# check if x is outside the interval (0,1]:\n",
    "print((x <= 0) or (1 < x))"
   ]
  },
  {
   "cell_type": "markdown",
   "id": "ffe97d26-9efe-43f6-b2ad-799baa71a3c7",
   "metadata": {
    "editable": true,
    "slideshow": {
     "slide_type": "subslide"
    },
    "tags": []
   },
   "source": [
    "## Conditional Statements"
   ]
  },
  {
   "cell_type": "code",
   "execution_count": 12,
   "id": "0b0bf3e9-5502-4c87-b82e-27f57c16c4c5",
   "metadata": {
    "editable": true,
    "slideshow": {
     "slide_type": "fragment"
    },
    "tags": []
   },
   "outputs": [
    {
     "name": "stdout",
     "output_type": "stream",
     "text": [
      "5.0\n"
     ]
    }
   ],
   "source": [
    "numerator = 10.0\n",
    "denominator = 2.0\n",
    "quotient = 0.0\n",
    "\n",
    "# perform division only if the denominator is nonzero:\n",
    "if denominator != 0:\n",
    "    quotient = numerator / denominator\n",
    "\n",
    "print(quotient)"
   ]
  },
  {
   "cell_type": "markdown",
   "id": "77600573-4ecc-4e46-9df9-32af050b85cd",
   "metadata": {
    "editable": true,
    "slideshow": {
     "slide_type": "subslide"
    },
    "tags": []
   },
   "source": [
    "### `if`/`elif`/`else` Statements"
   ]
  },
  {
   "cell_type": "code",
   "execution_count": 13,
   "id": "a36b494a-9851-45e4-8293-5c5d659b8126",
   "metadata": {
    "editable": true,
    "slideshow": {
     "slide_type": "fragment"
    },
    "tags": []
   },
   "outputs": [
    {
     "name": "stdout",
     "output_type": "stream",
     "text": [
      "Value is positive.\n"
     ]
    }
   ],
   "source": [
    "# initialize a numeric value:\n",
    "value = 100.0\n",
    "\n",
    "# print out the sign of the value:\n",
    "if value < 0:\n",
    "    print('Value is negative.')\n",
    "elif value == 0:\n",
    "    print('Value is zero.')\n",
    "else:\n",
    "    print('Value is positive.')"
   ]
  },
  {
   "cell_type": "markdown",
   "id": "6f291378-92a0-4300-b024-c99a1e0d471e",
   "metadata": {
    "editable": true,
    "slideshow": {
     "slide_type": "slide"
    },
    "tags": []
   },
   "source": [
    "# Questions\n",
    "\n",
    "![logo](logo.svg)\n"
   ]
  },
  {
   "cell_type": "markdown",
   "id": "55c9dd44-4ecf-4185-bd3c-c917a30f341a",
   "metadata": {
    "editable": true,
    "slideshow": {
     "slide_type": "slide"
    },
    "tags": []
   },
   "source": [
    "## Recommended Online Book Reading:\n",
    "* Python Data Types\n",
    "* Python Functions and Classes\n",
    "\n",
    "Bring your questions to our next meeting tomorrow!"
   ]
  }
 ],
 "metadata": {
  "celltoolbar": "Slideshow",
  "kernelspec": {
   "display_name": "Python 3 (ipykernel)",
   "language": "python",
   "name": "python3"
  },
  "language_info": {
   "codemirror_mode": {
    "name": "ipython",
    "version": 3
   },
   "file_extension": ".py",
   "mimetype": "text/x-python",
   "name": "python",
   "nbconvert_exporter": "python",
   "pygments_lexer": "ipython3",
   "version": "3.10.12"
  }
 },
 "nbformat": 4,
 "nbformat_minor": 5
}
