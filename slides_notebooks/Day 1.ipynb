{
 "cells": [
  {
   "cell_type": "markdown",
   "id": "34f8e3e7",
   "metadata": {
    "slideshow": {
     "slide_type": "slide"
    }
   },
   "source": [
    "# Welcome to the Materials+ML Workshop\n",
    "\n",
    "![logo](logo.svg)\n"
   ]
  },
  {
   "cell_type": "markdown",
   "id": "7572813e",
   "metadata": {
    "slideshow": {
     "slide_type": "slide"
    }
   },
   "source": [
    "## Day 0 Agenda:\n",
    "\n",
    "* Introductions\n",
    "* The workshop Online Book\n",
    "* Installing Python and Jupyter Notebook\n",
    "* Working with Jupyter Notebooks\n",
    "* Tutorial of Python Basics"
   ]
  },
  {
   "cell_type": "markdown",
   "id": "7561263d",
   "metadata": {
    "slideshow": {
     "slide_type": "slide"
    }
   },
   "source": [
    "# Introductions\n",
    "\n"
   ]
  },
  {
   "cell_type": "markdown",
   "id": "4626ba1e",
   "metadata": {
    "slideshow": {
     "slide_type": "slide"
    }
   },
   "source": [
    "## Background Survey\n",
    "\n",
    "![background survey](survey_qr.png)\n",
    "\n",
    "## [https://forms.gle/FEWqPavJJYC9VzfH7](https://forms.gle/FEWqPavJJYC9VzfH7)\n",
    "\n"
   ]
  },
  {
   "cell_type": "markdown",
   "id": "96ebc1a0",
   "metadata": {
    "slideshow": {
     "slide_type": "slide"
    }
   },
   "source": [
    "## About This Workshop"
   ]
  },
  {
   "cell_type": "markdown",
   "id": "3466e435",
   "metadata": {
    "slideshow": {
     "slide_type": "subslide"
    }
   },
   "source": [
    "## Tentative Workshop Schedule:\n",
    "\n",
    "| Session       | Date          | Content                                                       |\n",
    "| -------       | ----          | -------                                                       |\n",
    "| Day 0         | 06/16/2023 (2:30-3:30 PM) | Introduction, Setting up your Python Notebook     |\n",
    "| Day 1         | 06/19/2023 (2:30-3:30 PM) | Python Data Types                                 |\n",
    "| Day 2         | 06/20/2023 (2:30-3:30 PM) | Python Functions and Classes                      |\n",
    "| Day 3         | 06/21/2023 (2:30-3:30 PM) | Scientific Computing with Numpy and Scipy         |\n",
    "| Day 4         | 06/22/2023 (2:30-3:30 PM) | Data Manipulation and Visualization               |\n",
    "| Day 5         | 06/23/2023 (2:30-3:30 PM) | Materials Science Packages                        |\n",
    "| Day 6         | 06/26/2023 (2:30-3:30 PM) | Introduction to ML, Supervised Learning           |\n",
    "| Day 7         | 06/27/2023 (2:30-3:30 PM) | Regression Models                                 |\n",
    "| Day 8         | 06/28/2023 (2:30-3:30 PM) | Unsupervised Learning                             |\n",
    "| Day 9         | 06/29/2023 (2:30-3:30 PM) | Neural Networks                                   |\n",
    "| Day 10        | 06/30/2023 (2:30-3:30 PM) | Advanced Applications in Materials Science        |"
   ]
  },
  {
   "cell_type": "markdown",
   "id": "ad7b71a1",
   "metadata": {
    "slideshow": {
     "slide_type": "slide"
    }
   },
   "source": [
    "## The Workshop Online Book:\n",
    "\n",
    "![logo](logo.svg)\n",
    "\n",
    "### [https://cburdine.github.io/materials-ml-workshop/](https://cburdine.github.io/materials-ml-workshop/)"
   ]
  },
  {
   "cell_type": "markdown",
   "id": "35f82cc2",
   "metadata": {
    "slideshow": {
     "slide_type": "slide"
    }
   },
   "source": [
    "# About Python\n",
    "\n",
    "![Python logo](python_logo.svg)"
   ]
  },
  {
   "cell_type": "markdown",
   "id": "98146750",
   "metadata": {
    "slideshow": {
     "slide_type": "subslide"
    }
   },
   "source": [
    "![scientific-language-popularity](scientific-language-popularity.svg)"
   ]
  },
  {
   "cell_type": "markdown",
   "id": "324a65a4",
   "metadata": {
    "slideshow": {
     "slide_type": "slide"
    }
   },
   "source": [
    "# About Jupyter Notebook\n",
    "\n",
    "![Python logo](jupyter_logo.png)"
   ]
  },
  {
   "cell_type": "markdown",
   "id": "5fefe037",
   "metadata": {
    "slideshow": {
     "slide_type": "slide"
    }
   },
   "source": [
    "# Installing Python and Jupyter Notebook"
   ]
  },
  {
   "cell_type": "markdown",
   "id": "ec23ac73",
   "metadata": {
    "slideshow": {
     "slide_type": "slide"
    }
   },
   "source": [
    "* Install Jupyter Notebook via pip:\n",
    "```\n",
    "pip install --upgrade jupyter\n",
    "```\n",
    "\n",
    "* Install other dependencies (from a requirements.txt file):\n",
    "```\n",
    "pip install -r requirements.txt\n",
    "```"
   ]
  },
  {
   "cell_type": "markdown",
   "id": "3359d847",
   "metadata": {
    "slideshow": {
     "slide_type": "slide"
    }
   },
   "source": [
    "# Python Basics"
   ]
  },
  {
   "cell_type": "code",
   "execution_count": 5,
   "id": "f308a15a",
   "metadata": {
    "slideshow": {
     "slide_type": "fragment"
    }
   },
   "outputs": [
    {
     "name": "stdout",
     "output_type": "stream",
     "text": [
      "Hello World!\n"
     ]
    }
   ],
   "source": [
    "print('Hello World!')"
   ]
  },
  {
   "cell_type": "markdown",
   "id": "57d4261f",
   "metadata": {
    "slideshow": {
     "slide_type": "slide"
    }
   },
   "source": [
    "### Recommended Weekend Reading:\n",
    "* Getting Started with Python\n",
    "* Python Data Types\n",
    "\n",
    "If possible, try to do the exercises.\n",
    "\n",
    "Bring your questions to our next meeting on Monday."
   ]
  },
  {
   "cell_type": "code",
   "execution_count": null,
   "id": "1103c476",
   "metadata": {},
   "outputs": [],
   "source": []
  }
 ],
 "metadata": {
  "celltoolbar": "Slideshow",
  "kernelspec": {
   "display_name": "Python 3 (ipykernel)",
   "language": "python",
   "name": "python3"
  },
  "language_info": {
   "codemirror_mode": {
    "name": "ipython",
    "version": 3
   },
   "file_extension": ".py",
   "mimetype": "text/x-python",
   "name": "python",
   "nbconvert_exporter": "python",
   "pygments_lexer": "ipython3",
   "version": "3.10.6"
  }
 },
 "nbformat": 4,
 "nbformat_minor": 5
}
