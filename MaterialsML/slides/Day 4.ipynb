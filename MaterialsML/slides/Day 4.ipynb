{
 "cells": [
  {
   "cell_type": "markdown",
   "id": "34f8e3e7",
   "metadata": {
    "slideshow": {
     "slide_type": "slide"
    }
   },
   "source": [
    "# Materials+ML Workshop Day 4\n",
    "\n",
    "![logo](logo.svg)\n"
   ]
  },
  {
   "cell_type": "markdown",
   "id": "7572813e",
   "metadata": {
    "slideshow": {
     "slide_type": "slide"
    }
   },
   "source": [
    "## Day 4 Agenda:\n",
    "\n",
    "* Questions about Day 3 Material\n",
    "* Review of Day 3\n",
    "\n",
    "Content for today:"
   ]
  },
  {
   "cell_type": "markdown",
   "id": "2f48e2f1",
   "metadata": {
    "slideshow": {
     "slide_type": "fragment"
    }
   },
   "source": [
    "* Data Manipulation:\n",
    "    * The Pandas Package\n",
    "    * Working with DataFrames"
   ]
  },
  {
   "cell_type": "markdown",
   "id": "bea039bc",
   "metadata": {
    "slideshow": {
     "slide_type": "fragment"
    }
   },
   "source": [
    "* Visualizing Data\n",
    "    * The Matplotlib package\n",
    "    * Visualizing 1D data\n",
    "    * Visualizing 2D and 3D data\n",
    "    "
   ]
  },
  {
   "cell_type": "markdown",
   "id": "fe1ccbbf",
   "metadata": {
    "slideshow": {
     "slide_type": "skip"
    }
   },
   "source": [
    "## Background Survey\n",
    "\n",
    "![background survey](survey_qr.png)\n",
    "\n",
    "## [https://forms.gle/FEWqPavJJYC9VzfH7](https://forms.gle/FEWqPavJJYC9VzfH7)\n",
    "\n"
   ]
  },
  {
   "cell_type": "markdown",
   "id": "ad7b71a1",
   "metadata": {
    "slideshow": {
     "slide_type": "skip"
    }
   },
   "source": [
    "## The Workshop Online Book:\n",
    "\n",
    "### [https://cburdine.github.io/materials-ml-workshop/](https://cburdine.github.io/materials-ml-workshop/)"
   ]
  },
  {
   "cell_type": "markdown",
   "id": "3466e435",
   "metadata": {
    "slideshow": {
     "slide_type": "slide"
    }
   },
   "source": [
    "## Tentative Workshop Schedule:\n",
    "\n",
    "| Session       | Date          | Content                                                       |\n",
    "| -------       | ----          | -------                                                       |\n",
    "| Day 0         | 06/16/2023 (2:30-3:30 PM) | Introduction, Setting up your Python Notebook     |\n",
    "| Day 1         | 06/19/2023 (2:30-3:30 PM) | Python Data Types                                 |\n",
    "| Day 2         | 06/20/2023 (2:30-3:30 PM) | Python Functions and Classes                      |\n",
    "| Day 3     | 06/21/2023 (2:30-3:30 PM) | Scientific Computing with Numpy and Scipy         |\n",
    "| **Day 4**         | **06/22/2023 (2:30-3:30 PM)** | **Data Manipulation and Visualization**              |\n",
    "| Day 5         | 06/23/2023 (2:30-3:30 PM) | Materials Science Packages                        |\n",
    "| Day 6         | 06/26/2023 (2:30-3:30 PM) | Introduction to ML, Supervised Learning           |\n",
    "| Day 7         | 06/27/2023 (2:30-3:30 PM) | Regression Models                                 |\n",
    "| Day 8         | 06/28/2023 (2:30-3:30 PM) | Unsupervised Learning                             |\n",
    "| Day 9         | 06/29/2023 (2:30-3:30 PM) | Neural Networks                                   |\n",
    "| Day 10        | 06/30/2023 (2:30-3:30 PM) | Advanced Applications in Materials Science        |"
   ]
  },
  {
   "cell_type": "markdown",
   "id": "3359d847",
   "metadata": {
    "slideshow": {
     "slide_type": "slide"
    }
   },
   "source": [
    "# Questions\n",
    "\n",
    "Material covered yesterday:\n",
    "* Installing Python packages\n",
    "* Numpy\n",
    "* Scipy"
   ]
  },
  {
   "cell_type": "markdown",
   "id": "7f5d7f60",
   "metadata": {
    "slideshow": {
     "slide_type": "slide"
    }
   },
   "source": [
    "## Review: Numpy\n",
    "\n",
    "* Numpy supplies mathematical functions (such as `sin(x)`, `exp(x)`, etc.)\n",
    "* Numpy arrays are multi-dimensional data structures\n",
    "* Numpy arrays can represent vectors, matrices, tensors, etc."
   ]
  },
  {
   "cell_type": "markdown",
   "id": "6d51004d",
   "metadata": {
    "slideshow": {
     "slide_type": "slide"
    }
   },
   "source": [
    "* Creating Numpy arrays:"
   ]
  },
  {
   "cell_type": "code",
   "execution_count": 1,
   "id": "53fa215f",
   "metadata": {
    "slideshow": {
     "slide_type": "fragment"
    }
   },
   "outputs": [
    {
     "name": "stdout",
     "output_type": "stream",
     "text": [
      "[1. 2. 3. 4.]\n",
      "[[1 2 3]\n",
      " [4 5 6]\n",
      " [7 8 9]]\n"
     ]
    }
   ],
   "source": [
    "import numpy as np\n",
    "\n",
    "# create a 1D array:\n",
    "x = np.array([1.0, 2.0, 3.0, 4.0])\n",
    "print(x)\n",
    "\n",
    "# create a 2D array (matrix):\n",
    "X = np.array([\n",
    "    [1,2,3],\n",
    "    [4,5,6],\n",
    "    [7,8,9]\n",
    "])\n",
    "print(X)"
   ]
  },
  {
   "cell_type": "markdown",
   "id": "2aa8d44d",
   "metadata": {
    "slideshow": {
     "slide_type": "slide"
    }
   },
   "source": [
    "* Every array has an instance variable `shape`\n",
    "* The length of the tuple is the dimension of the array\n",
    "* The entries in the tuple represent the size of the array along each axis (i.e. dimension)"
   ]
  },
  {
   "cell_type": "code",
   "execution_count": 2,
   "id": "d1646abd",
   "metadata": {
    "slideshow": {
     "slide_type": "fragment"
    }
   },
   "outputs": [
    {
     "name": "stdout",
     "output_type": "stream",
     "text": [
      "(4,)\n",
      "(3, 3)\n",
      "(3, 2, 2)\n"
     ]
    }
   ],
   "source": [
    "# x is a 1D array of length 4:\n",
    "print(x.shape)\n",
    "\n",
    "# X is a 3x3 matrix:\n",
    "print(X.shape)\n",
    "\n",
    "# create an array of zeros with a 3x2x2 shape:\n",
    "S = np.zeros((3,2,2))\n",
    "print(S.shape)"
   ]
  },
  {
   "cell_type": "markdown",
   "id": "bc9defcb",
   "metadata": {
    "slideshow": {
     "slide_type": "slide"
    }
   },
   "source": [
    "* Numpy arrays can be indexed like Python lists, but with some added features:"
   ]
  },
  {
   "cell_type": "code",
   "execution_count": 3,
   "id": "ec5ce86e",
   "metadata": {
    "slideshow": {
     "slide_type": "fragment"
    }
   },
   "outputs": [
    {
     "name": "stdout",
     "output_type": "stream",
     "text": [
      "[[1 2 3]\n",
      " [4 5 6]\n",
      " [7 8 9]]\n",
      "Accessing X[0]:\n",
      "[1 2 3]\n",
      "Accessing X[0,2]:\n",
      "3\n",
      "Accessing X[:,0]:\n",
      "[1 4 7]\n"
     ]
    }
   ],
   "source": [
    "X = np.array(range(1,10)).reshape((3,3))\n",
    "print(X)\n",
    "\n",
    "# access row 0:\n",
    "print('Accessing X[0]:')\n",
    "print(X[0])\n",
    "\n",
    "# access row 0, column 2:\n",
    "print('Accessing X[0,2]:')\n",
    "print(X[0,2])\n",
    "\n",
    "# access column 0:\n",
    "print('Accessing X[:,0]:')\n",
    "print(X[:,0])"
   ]
  },
  {
   "cell_type": "markdown",
   "id": "0acf304e",
   "metadata": {
    "slideshow": {
     "slide_type": "slide"
    }
   },
   "source": [
    "* All math operations on arrays are performed elementwise\n",
    "* Numpy support matrix multiplications with the `@` operator"
   ]
  },
  {
   "cell_type": "code",
   "execution_count": 4,
   "id": "57dc180d",
   "metadata": {
    "slideshow": {
     "slide_type": "fragment"
    }
   },
   "outputs": [
    {
     "name": "stdout",
     "output_type": "stream",
     "text": [
      "A:\n",
      " [[1 2]\n",
      " [3 4]]\n",
      "D:\n",
      " [[1 0]\n",
      " [0 2]]\n",
      "[[2 2]\n",
      " [3 6]]\n",
      "[[1 4]\n",
      " [3 8]]\n"
     ]
    }
   ],
   "source": [
    "A = np.array(range(1,5)).reshape(2,2)\n",
    "D = np.diag([1,2])\n",
    "\n",
    "print('A:\\n', A)\n",
    "print('D:\\n', D)\n",
    "\n",
    "# elementwise addition:\n",
    "print(A + D)\n",
    "\n",
    "# matrix multiplication:\n",
    "print(A @ D)"
   ]
  },
  {
   "cell_type": "markdown",
   "id": "7001044d",
   "metadata": {
    "slideshow": {
     "slide_type": "slide"
    }
   },
   "source": [
    "* One important `numpy` function we will use a lot today is `np.linspace`:"
   ]
  },
  {
   "cell_type": "code",
   "execution_count": 5,
   "id": "952c4944",
   "metadata": {
    "slideshow": {
     "slide_type": "fragment"
    }
   },
   "outputs": [
    {
     "name": "stdout",
     "output_type": "stream",
     "text": [
      "[ 0.  1.  2.  3.  4.  5.  6.  7.  8.  9. 10.]\n"
     ]
    }
   ],
   "source": [
    "start = 0.0\n",
    "end = 10.0\n",
    "n_pts = 11\n",
    "\n",
    "# create a 1D array of uniform points:\n",
    "x_pts = np.linspace(start, end, n_pts)\n",
    "print(x_pts)"
   ]
  },
  {
   "cell_type": "markdown",
   "id": "98f53780",
   "metadata": {
    "slideshow": {
     "slide_type": "slide"
    }
   },
   "source": [
    "# The Scipy Package\n",
    "* Scipy provides many useful subpackages for scientific computing"
   ]
  },
  {
   "cell_type": "markdown",
   "id": "7d89309d",
   "metadata": {
    "slideshow": {
     "slide_type": "fragment"
    }
   },
   "source": [
    "* Subpackages you may find useful include:\n",
    "    * `scipy.constants`: physical constants, unit conversions\n",
    "    * `scipy.optimize`:  functions for optimization and root finding\n",
    "    * `scipy.integrate`: functions numerical integration\n",
    "    * `scipy.stats`: statistical analysis functions\n",
    "    * `scipy.special`: special functions (e.g. Bessel functions)"
   ]
  },
  {
   "cell_type": "markdown",
   "id": "c83609c6",
   "metadata": {
    "slideshow": {
     "slide_type": "slide"
    }
   },
   "source": [
    "## New Content:\n",
    "\n",
    "* More Python packages:\n",
    "    * Pandas (\"Panel Datasets\")\n",
    "    * Matplotlib (\"MATLAB-like plotting library\")"
   ]
  },
  {
   "cell_type": "markdown",
   "id": "418350a3",
   "metadata": {
    "slideshow": {
     "slide_type": "slide"
    }
   },
   "source": [
    "## Installing Pandas and Matplotlib:"
   ]
  },
  {
   "cell_type": "code",
   "execution_count": 6,
   "id": "c4a49c25",
   "metadata": {
    "slideshow": {
     "slide_type": "fragment"
    }
   },
   "outputs": [
    {
     "name": "stdout",
     "output_type": "stream",
     "text": [
      "Defaulting to user installation because normal site-packages is not writeable\n",
      "Requirement already satisfied: pandas in /home/colin/.local/lib/python3.10/site-packages (1.4.4)\n",
      "Requirement already satisfied: python-dateutil>=2.8.1 in /home/colin/.local/lib/python3.10/site-packages (from pandas) (2.8.2)\n",
      "Requirement already satisfied: pytz>=2020.1 in /usr/lib/python3/dist-packages (from pandas) (2022.1)\n",
      "Requirement already satisfied: numpy>=1.21.0 in /usr/lib/python3/dist-packages (from pandas) (1.21.5)\n",
      "Requirement already satisfied: six>=1.5 in /usr/lib/python3/dist-packages (from python-dateutil>=2.8.1->pandas) (1.16.0)\n",
      "Note: you may need to restart the kernel to use updated packages.\n"
     ]
    }
   ],
   "source": [
    "pip install pandas"
   ]
  },
  {
   "cell_type": "code",
   "execution_count": 7,
   "id": "debd6f73",
   "metadata": {
    "slideshow": {
     "slide_type": "fragment"
    }
   },
   "outputs": [
    {
     "name": "stdout",
     "output_type": "stream",
     "text": [
      "Defaulting to user installation because normal site-packages is not writeable\n",
      "Requirement already satisfied: matplotlib in /usr/lib/python3/dist-packages (3.5.1)\n",
      "Note: you may need to restart the kernel to use updated packages.\n"
     ]
    }
   ],
   "source": [
    "pip install matplotlib"
   ]
  },
  {
   "cell_type": "markdown",
   "id": "476145df",
   "metadata": {
    "slideshow": {
     "slide_type": "slide"
    }
   },
   "source": [
    "## Pandas\n",
    "\n",
    "* Pandas is an open-source Python package for data manipulation and analysis.\n",
    "* It can be used for reading writing data to several different formats including:\n",
    "    * CSV (comma-separated values)\n",
    "    * Excel spreadsheets\n",
    "    * SQL databases"
   ]
  },
  {
   "cell_type": "markdown",
   "id": "2a23a564",
   "metadata": {
    "slideshow": {
     "slide_type": "fragment"
    }
   },
   "source": [
    "* We can import pandas as follows:"
   ]
  },
  {
   "cell_type": "code",
   "execution_count": 8,
   "id": "def3509f",
   "metadata": {
    "slideshow": {
     "slide_type": "fragment"
    }
   },
   "outputs": [],
   "source": [
    "import pandas as pd"
   ]
  },
  {
   "cell_type": "markdown",
   "id": "3e2dad39",
   "metadata": {
    "slideshow": {
     "slide_type": "slide"
    }
   },
   "source": [
    "## DataFrames\n",
    "\n",
    "* We can create Dataframes from Python dictionaries as follows:"
   ]
  },
  {
   "cell_type": "code",
   "execution_count": 9,
   "id": "4ba8efb1",
   "metadata": {
    "slideshow": {
     "slide_type": "slide"
    }
   },
   "outputs": [],
   "source": [
    "# Data on the first four elements of the periodic table:\n",
    "elements_data = {\n",
    "    'Element' : ['H', 'He', 'Li', 'Be'],\n",
    "    'Atomic Number' : [ 1, 2, 3, 4 ],\n",
    "    'Mass' : [ 1.008, 4.002, 6.940, 9.012],\n",
    "    'Electronegativity' : [ 2.20, 0.0, 0.98, 1.57 ]\n",
    "}\n",
    "\n",
    "# construct dataframe from data dictionary:\n",
    "df = pd.DataFrame(elements_data)"
   ]
  },
  {
   "cell_type": "markdown",
   "id": "d1c0a328",
   "metadata": {
    "slideshow": {
     "slide_type": "fragment"
    }
   },
   "source": [
    "(You can copy this code from the online book's [_Data Handling_](https://cburdine.github.io/materials-ml-workshop/data_vis/data_handling.html#working-with-pandas-dataframes) section)"
   ]
  },
  {
   "cell_type": "markdown",
   "id": "5a18665c",
   "metadata": {
    "slideshow": {
     "slide_type": "slide"
    }
   },
   "source": [
    "## Tutorial: Working with Dataframes\n",
    "\n",
    "* Accessing Dataframe columns\n",
    "* Filtering Dataframes\n",
    "* Transforming Data\n",
    "* Importing and exporting data"
   ]
  },
  {
   "cell_type": "markdown",
   "id": "6dbfe6c9",
   "metadata": {
    "slideshow": {
     "slide_type": "slide"
    }
   },
   "source": [
    "# Matplotlib\n",
    "\n",
    "* Matplotlib is a MATLAB-like plotting utility for creating publication-quality plots\n",
    "* In matplotlib, we typically import the `pyplot` subpackage with the alias `plt`:"
   ]
  },
  {
   "cell_type": "code",
   "execution_count": 10,
   "id": "852fdbd5",
   "metadata": {
    "slideshow": {
     "slide_type": "fragment"
    }
   },
   "outputs": [],
   "source": [
    "import matplotlib.pyplot as plt"
   ]
  },
  {
   "cell_type": "markdown",
   "id": "3e5fa9de",
   "metadata": {
    "slideshow": {
     "slide_type": "slide"
    }
   },
   "source": [
    "## Tutorial: Basic Plots with Matplotlib\n",
    "\n",
    "* Plotting 1D data\n",
    "* Styling plots\n",
    "* Adding axes labels, titles, legends\n",
    "* Typesetting"
   ]
  },
  {
   "cell_type": "markdown",
   "id": "27231e93",
   "metadata": {
    "slideshow": {
     "slide_type": "slide"
    }
   },
   "source": [
    "## Tutorial: 2D and 3D plots in Matplotlib\n",
    "\n",
    "* Colormapping\n",
    "* Plotting in 3D\n",
    "* Saving figures"
   ]
  },
  {
   "cell_type": "markdown",
   "id": "57d4261f",
   "metadata": {
    "slideshow": {
     "slide_type": "slide"
    }
   },
   "source": [
    "## Recommended Reading:\n",
    "* Materials Science Python Packages\n",
    "\n",
    "If possible, try to do the exercises.\n",
    "Bring your questions to our next meeting on Monday."
   ]
  }
 ],
 "metadata": {
  "celltoolbar": "Slideshow",
  "kernelspec": {
   "display_name": "Python 3 (ipykernel)",
   "language": "python",
   "name": "python3"
  },
  "language_info": {
   "codemirror_mode": {
    "name": "ipython",
    "version": 3
   },
   "file_extension": ".py",
   "mimetype": "text/x-python",
   "name": "python",
   "nbconvert_exporter": "python",
   "pygments_lexer": "ipython3",
   "version": "3.10.6"
  }
 },
 "nbformat": 4,
 "nbformat_minor": 5
}
