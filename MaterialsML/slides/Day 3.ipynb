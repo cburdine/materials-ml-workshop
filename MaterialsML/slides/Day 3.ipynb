{
 "cells": [
  {
   "cell_type": "markdown",
   "id": "34f8e3e7",
   "metadata": {
    "slideshow": {
     "slide_type": "slide"
    }
   },
   "source": [
    "# Materials+ML Workshop Day 3\n",
    "\n",
    "![logo](logo.svg)\n"
   ]
  },
  {
   "cell_type": "markdown",
   "id": "7572813e",
   "metadata": {
    "slideshow": {
     "slide_type": "slide"
    }
   },
   "source": [
    "## Day 3 Agenda:\n",
    "\n",
    "* Questions about Day 2 Material\n",
    "* Review of Day 2\n",
    "\n",
    "Content for today:"
   ]
  },
  {
   "cell_type": "markdown",
   "id": "4beee56d",
   "metadata": {
    "slideshow": {
     "slide_type": "fragment"
    }
   },
   "source": [
    "* Scientific Python Packages\n",
    "    * Installing packages"
   ]
  },
  {
   "cell_type": "markdown",
   "id": "2f48e2f1",
   "metadata": {
    "slideshow": {
     "slide_type": "fragment"
    }
   },
   "source": [
    "* The NumPy package:\n",
    "    * Numpy Arrays\n",
    "    * Array Operations\n",
    "    * Matrix and Vector Operations"
   ]
  },
  {
   "cell_type": "markdown",
   "id": "bea039bc",
   "metadata": {
    "slideshow": {
     "slide_type": "fragment"
    }
   },
   "source": [
    "* The SciPy package:\n",
    "    * Scientific Constants\n",
    "    * Integration\n",
    "    * Optimization"
   ]
  },
  {
   "cell_type": "markdown",
   "id": "fe1ccbbf",
   "metadata": {
    "slideshow": {
     "slide_type": "slide"
    }
   },
   "source": [
    "## Background Survey\n",
    "\n",
    "![background survey](survey_qr.png)\n",
    "\n",
    "## [https://forms.gle/FEWqPavJJYC9VzfH7](https://forms.gle/FEWqPavJJYC9VzfH7)\n",
    "\n"
   ]
  },
  {
   "cell_type": "markdown",
   "id": "ad7b71a1",
   "metadata": {
    "slideshow": {
     "slide_type": "slide"
    }
   },
   "source": [
    "## The Workshop Online Book:\n",
    "\n",
    "### [https://cburdine.github.io/materials-ml-workshop/](https://cburdine.github.io/materials-ml-workshop/)"
   ]
  },
  {
   "cell_type": "markdown",
   "id": "3466e435",
   "metadata": {
    "slideshow": {
     "slide_type": "slide"
    }
   },
   "source": [
    "## Tentative Workshop Schedule:\n",
    "\n",
    "| Session       | Date          | Content                                                       |\n",
    "| -------       | ----          | -------                                                       |\n",
    "| Day 0         | 06/16/2023 (2:30-3:30 PM) | Introduction, Setting up your Python Notebook     |\n",
    "| Day 1         | 06/19/2023 (2:30-3:30 PM) | Python Data Types                                 |\n",
    "| Day 2         | 06/20/2023 (2:30-3:30 PM) | Python Functions and Classes                      |\n",
    "| **Day 3**     | **06/21/2023 (2:30-3:30 PM)** | **Scientific Computing with Numpy and Scipy**         |\n",
    "| Day 4         | 06/22/2023 (2:30-3:30 PM) | Data Manipulation and Visualization               |\n",
    "| Day 5         | 06/23/2023 (2:30-3:30 PM) | Materials Science Packages                        |\n",
    "| Day 6         | 06/26/2023 (2:30-3:30 PM) | Introduction to ML, Supervised Learning           |\n",
    "| Day 7         | 06/27/2023 (2:30-3:30 PM) | Regression Models                                 |\n",
    "| Day 8         | 06/28/2023 (2:30-3:30 PM) | Unsupervised Learning                             |\n",
    "| Day 9         | 06/29/2023 (2:30-3:30 PM) | Neural Networks                                   |\n",
    "| Day 10        | 06/30/2023 (2:30-3:30 PM) | Advanced Applications in Materials Science        |"
   ]
  },
  {
   "cell_type": "markdown",
   "id": "3359d847",
   "metadata": {
    "slideshow": {
     "slide_type": "slide"
    }
   },
   "source": [
    "# Questions\n",
    "\n",
    "Material covered yesterday:\n",
    "* Python Functions\n",
    "* Python Classes"
   ]
  },
  {
   "cell_type": "markdown",
   "id": "7f5d7f60",
   "metadata": {
    "slideshow": {
     "slide_type": "slide"
    }
   },
   "source": [
    "## Review: Functions\n",
    "\n",
    "* Python functions are reusable blocks of code that we can execute when it is called.\n",
    "\n",
    "* Similar to mathamatical functions, Python functions can have inputs, outputs, or even modify variables"
   ]
  },
  {
   "cell_type": "code",
   "execution_count": 1,
   "id": "04cf98b8",
   "metadata": {
    "slideshow": {
     "slide_type": "fragment"
    }
   },
   "outputs": [
    {
     "name": "stdout",
     "output_type": "stream",
     "text": [
      "8\n"
     ]
    }
   ],
   "source": [
    "# create a function to add two numbers:\n",
    "def add_numbers(a,b):\n",
    "    total = a + b\n",
    "    return total # <-- output of function\n",
    "\n",
    "# call `add_numbers` and store the output:\n",
    "result = add_numbers(3,5)\n",
    "\n",
    "print(result)"
   ]
  },
  {
   "cell_type": "markdown",
   "id": "39078a44",
   "metadata": {
    "slideshow": {
     "slide_type": "slide"
    }
   },
   "source": [
    "* Functions can also have default values:\n"
   ]
  },
  {
   "cell_type": "code",
   "execution_count": 2,
   "id": "46669491",
   "metadata": {
    "slideshow": {
     "slide_type": "fragment"
    }
   },
   "outputs": [
    {
     "name": "stdout",
     "output_type": "stream",
     "text": [
      "Hello, Albert!\n",
      "Greetings, Albert!\n"
     ]
    }
   ],
   "source": [
    "def greet(name, message=\"Hello\"):\n",
    "    \"\"\" Prints a greeting with a name and a message \"\"\"\n",
    "    print(message + ', ' + name + '!')\n",
    "\n",
    "# call greet with the default message:\n",
    "greet('Albert')\n",
    "\n",
    "# call greet with a non-default message:\n",
    "greet('Albert', 'Greetings')"
   ]
  },
  {
   "cell_type": "markdown",
   "id": "fc0be945",
   "metadata": {
    "slideshow": {
     "slide_type": "slide"
    }
   },
   "source": [
    "## Python Classes\n",
    "\n",
    "* Python classes serve as a kind of \"blueprint\" for a data type\n",
    "* Instances of classes we create are called _objects_"
   ]
  },
  {
   "cell_type": "code",
   "execution_count": 10,
   "id": "87859cdd",
   "metadata": {
    "slideshow": {
     "slide_type": "fragment"
    }
   },
   "outputs": [],
   "source": [
    "class Dog:\n",
    "    \"\"\" This class represents a pet dog \"\"\"\n",
    "    \n",
    "    def __init__(self, dog_name):\n",
    "        \"\"\" Constructs a Dog instance with given name \"\"\"\n",
    "        self.name = dog_name\n",
    "    \n",
    "    def bark(self):\n",
    "        \"\"\" Causes this dog to bark \"\"\"\n",
    "        print(self.name + ' says: \"Woof!\"')\n",
    "        "
   ]
  },
  {
   "cell_type": "markdown",
   "id": "8f46470b",
   "metadata": {
    "slideshow": {
     "slide_type": "slide"
    }
   },
   "source": [
    "## Methods\n",
    "\n",
    "* Methods are functions defined within the class body\n",
    "* They have _self_ as the first parameter, which allows for the method to be called using `object.function(...)` syntax"
   ]
  },
  {
   "cell_type": "markdown",
   "id": "d368be46",
   "metadata": {
    "slideshow": {
     "slide_type": "fragment"
    }
   },
   "source": [
    "* Classes have a special `__init__` method called the _constructor_:\n",
    "    * It is used for creating instances of a class\n",
    "    * It is called by using the name of the class\n",
    " "
   ]
  },
  {
   "cell_type": "code",
   "execution_count": 11,
   "id": "417b6dd6",
   "metadata": {
    "slideshow": {
     "slide_type": "fragment"
    }
   },
   "outputs": [
    {
     "name": "stdout",
     "output_type": "stream",
     "text": [
      "Fido says: \"Woof!\"\n"
     ]
    }
   ],
   "source": [
    "# construct a Dog object:\n",
    "my_dog = Dog('Snoopy')\n",
    "\n",
    "# change the `name` instance variable:\n",
    "my_dog.name = 'Fido'\n",
    "\n",
    "# call the bark() method:\n",
    "my_dog.bark()"
   ]
  },
  {
   "cell_type": "markdown",
   "id": "a17ba31e",
   "metadata": {
    "slideshow": {
     "slide_type": "slide"
    }
   },
   "source": [
    "## New Content:\n",
    "\n",
    "* Installing and Importing Python Packages\n",
    "* Scientific Python packages\n",
    "    * NumPy (\"Numerical Python\")\n",
    "    * SciPy (\"Scientific Python\")"
   ]
  },
  {
   "cell_type": "markdown",
   "id": "4a56ffdc",
   "metadata": {
    "slideshow": {
     "slide_type": "slide"
    }
   },
   "source": [
    "## Checking if Packages are installed\n",
    "\n",
    "* The quickest way to check if a package is installed on your system is to import it:"
   ]
  },
  {
   "cell_type": "code",
   "execution_count": 17,
   "id": "01827814",
   "metadata": {
    "slideshow": {
     "slide_type": "fragment"
    }
   },
   "outputs": [],
   "source": [
    "import numpy # import the NumPy base package"
   ]
  },
  {
   "cell_type": "code",
   "execution_count": 18,
   "id": "cd4f7777",
   "metadata": {
    "slideshow": {
     "slide_type": "fragment"
    }
   },
   "outputs": [],
   "source": [
    "import scipy # import the Scipy base package"
   ]
  },
  {
   "cell_type": "markdown",
   "id": "f67bc77c",
   "metadata": {
    "slideshow": {
     "slide_type": "fragment"
    }
   },
   "source": [
    "* If either of these `import` statements results in an error, you will need to install the corresponding package."
   ]
  },
  {
   "cell_type": "markdown",
   "id": "94be3043",
   "metadata": {
    "slideshow": {
     "slide_type": "slide"
    }
   },
   "source": [
    "## Installing Python Packages\n",
    "\n",
    "If a package is not installed on your system, you can install it using `pip` (the package installer for Python) on your system:"
   ]
  },
  {
   "cell_type": "code",
   "execution_count": 15,
   "id": "cc2b3745",
   "metadata": {
    "slideshow": {
     "slide_type": "fragment"
    }
   },
   "outputs": [
    {
     "name": "stdout",
     "output_type": "stream",
     "text": [
      "Defaulting to user installation because normal site-packages is not writeable\n",
      "Requirement already satisfied: numpy in /usr/lib/python3/dist-packages (1.21.5)\n",
      "Note: you may need to restart the kernel to use updated packages.\n"
     ]
    }
   ],
   "source": [
    "pip install numpy"
   ]
  },
  {
   "cell_type": "code",
   "execution_count": 16,
   "id": "6c1970c1",
   "metadata": {
    "slideshow": {
     "slide_type": "fragment"
    }
   },
   "outputs": [
    {
     "name": "stdout",
     "output_type": "stream",
     "text": [
      "Defaulting to user installation because normal site-packages is not writeable\n",
      "Requirement already satisfied: scipy in /usr/lib/python3/dist-packages (1.8.0)\n",
      "Note: you may need to restart the kernel to use updated packages.\n"
     ]
    }
   ],
   "source": [
    "pip install scipy"
   ]
  },
  {
   "cell_type": "markdown",
   "id": "10583127",
   "metadata": {
    "slideshow": {
     "slide_type": "subslide"
    }
   },
   "source": [
    "* On some systems, you may need to invoke your command shell:"
   ]
  },
  {
   "cell_type": "code",
   "execution_count": 13,
   "id": "6e658703",
   "metadata": {
    "slideshow": {
     "slide_type": "fragment"
    }
   },
   "outputs": [
    {
     "name": "stdout",
     "output_type": "stream",
     "text": [
      "Requirement already satisfied: numpy in /media/colin/Shared/colin/git/materials-ml-workshop-notebooks/env/lib/python3.10/site-packages (1.24.3)\r\n",
      "Requirement already satisfied: scipy in /media/colin/Shared/colin/git/materials-ml-workshop-notebooks/env/lib/python3.10/site-packages (1.10.1)\r\n"
     ]
    }
   ],
   "source": [
    "!pip install numpy scipy"
   ]
  },
  {
   "cell_type": "markdown",
   "id": "03515e95",
   "metadata": {
    "slideshow": {
     "slide_type": "slide"
    }
   },
   "source": [
    "## Working with Packages \n",
    "\n",
    "* When working with a package for the first time, it is helpful to read the package's online documentation\n",
    "    * Numpy package: [https://numpy.org/doc/stable/](https://numpy.org/doc/stable/)\n",
    "    * Scipy package: [https://docs.scipy.org/doc/scipy/](https://docs.scipy.org/doc/scipy/)"
   ]
  },
  {
   "cell_type": "markdown",
   "id": "e22f86ef",
   "metadata": {
    "slideshow": {
     "slide_type": "fragment"
    }
   },
   "source": [
    "![numpy documentation](numpy_docs.png)"
   ]
  },
  {
   "cell_type": "markdown",
   "id": "4a0f1f17",
   "metadata": {
    "slideshow": {
     "slide_type": "fragment"
    }
   },
   "source": [
    "# The NumPy Package"
   ]
  },
  {
   "cell_type": "markdown",
   "id": "bc6d80a8",
   "metadata": {
    "slideshow": {
     "slide_type": "fragment"
    }
   },
   "source": [
    "* Numpy is a numerical computing package in Python\n",
    "* Numpy provides an interface to several mathematical functions\n",
    "* Numpy supports multi-dimensional arrays for fast numerical computing\n",
    "    * These arrays are instances of the `numpy.ndarray` class\n",
    "    * `ndarray`s can be used to represent vectors, matrices, tensors, etc."
   ]
  },
  {
   "cell_type": "markdown",
   "id": "feff1793",
   "metadata": {
    "slideshow": {
     "slide_type": "fragment"
    }
   },
   "source": [
    "* Common practice is to import `numpy` with the alias `np` at the beginning of a program:"
   ]
  },
  {
   "cell_type": "code",
   "execution_count": 19,
   "id": "ac3ff1ae",
   "metadata": {
    "slideshow": {
     "slide_type": "fragment"
    }
   },
   "outputs": [],
   "source": [
    "import numpy as np"
   ]
  },
  {
   "cell_type": "markdown",
   "id": "293114f8",
   "metadata": {
    "slideshow": {
     "slide_type": "slide"
    }
   },
   "source": [
    "## Mathematical functions:\n",
    "\n",
    "* Numpy provides some basic mathematical functions and constants:"
   ]
  },
  {
   "cell_type": "code",
   "execution_count": 27,
   "id": "a301627a",
   "metadata": {
    "slideshow": {
     "slide_type": "subslide"
    }
   },
   "outputs": [
    {
     "name": "stdout",
     "output_type": "stream",
     "text": [
      "2.0\n",
      "2.302585092994046\n",
      "2.061153622438558e-09\n",
      "1.0\n"
     ]
    }
   ],
   "source": [
    "# square root function:\n",
    "print(np.sqrt(4))\n",
    "\n",
    "# natural log and exponential functions:\n",
    "print(np.log(10))\n",
    "print(np.exp(-20))\n",
    "\n",
    "# trigonometric functions (and pi constant)\n",
    "print(np.sin(np.pi / 2))"
   ]
  },
  {
   "cell_type": "markdown",
   "id": "311bd4c2",
   "metadata": {
    "slideshow": {
     "slide_type": "slide"
    }
   },
   "source": [
    "## Numpy arrays:\n",
    "\n",
    "* Numpy arrays store an rectangular array of values of the same type (usually `float`, `int`, or `complex`)\n",
    "\n",
    "* We create them from nested Python lists as follows:"
   ]
  },
  {
   "cell_type": "code",
   "execution_count": 40,
   "id": "53fa215f",
   "metadata": {
    "slideshow": {
     "slide_type": "fragment"
    }
   },
   "outputs": [
    {
     "name": "stdout",
     "output_type": "stream",
     "text": [
      "[1. 2. 3. 4.]\n",
      "[[1 2 3]\n",
      " [4 5 6]\n",
      " [7 8 9]]\n"
     ]
    }
   ],
   "source": [
    "# create a 1D array:\n",
    "x = np.array([1.0, 2.0, 3.0, 4.0])\n",
    "print(x)\n",
    "\n",
    "# create a 2D array (matrix):\n",
    "X = np.array([\n",
    "    [1,2,3],\n",
    "    [4,5,6],\n",
    "    [7,8,9]\n",
    "])\n",
    "print(X)"
   ]
  },
  {
   "cell_type": "markdown",
   "id": "2aa8d44d",
   "metadata": {
    "slideshow": {
     "slide_type": "slide"
    }
   },
   "source": [
    "* Every array has an instance variable `shape`\n",
    "* The length of the tuple is the dimension of the array\n",
    "* The entries in the tuple represent the size of the array along each axis (i.e. dimension)"
   ]
  },
  {
   "cell_type": "code",
   "execution_count": 42,
   "id": "d1646abd",
   "metadata": {
    "slideshow": {
     "slide_type": "fragment"
    }
   },
   "outputs": [
    {
     "name": "stdout",
     "output_type": "stream",
     "text": [
      "(4,)\n",
      "(3, 3)\n",
      "(3, 2, 2)\n"
     ]
    }
   ],
   "source": [
    "# x is a 1D array of length 4:\n",
    "print(x.shape)\n",
    "\n",
    "# X is a 3x3 matrix:\n",
    "print(X.shape)\n",
    "\n",
    "# create an array of zeros with a 3x2x2 shape:\n",
    "S = np.zeros((3,2,2))\n",
    "print(S.shape)"
   ]
  },
  {
   "cell_type": "markdown",
   "id": "75c15f98",
   "metadata": {
    "slideshow": {
     "slide_type": "slide"
    }
   },
   "source": [
    "## Reshaping Arrays:"
   ]
  },
  {
   "cell_type": "code",
   "execution_count": 45,
   "id": "e683c75f",
   "metadata": {
    "slideshow": {
     "slide_type": "fragment"
    }
   },
   "outputs": [
    {
     "name": "stdout",
     "output_type": "stream",
     "text": [
      "X shape: (3, 3)\n",
      "\n",
      "X reshaped to (9,):\n",
      "[1 2 3 4 5 6 7 8 9]\n",
      "(9,)\n",
      "\n",
      "X reshaped to (1,9):\n",
      "[[1 2 3 4 5 6 7 8 9]]\n",
      "(1, 9)\n"
     ]
    }
   ],
   "source": [
    "# print original shape of X:\n",
    "print('X shape:', X.shape)\n",
    "\n",
    "# reshape X to a 1D array:\n",
    "X2 = X.reshape((9,))\n",
    "print('\\nX reshaped to (9,):')\n",
    "print(X2)\n",
    "print(X2.shape)\n",
    "\n",
    "# reshape X to a 1x9 array:\n",
    "X3 = X.reshape((1,9))\n",
    "print('\\nX reshaped to (1,9):')\n",
    "print(X3)\n",
    "print(X3.shape)"
   ]
  },
  {
   "cell_type": "markdown",
   "id": "a24cf546",
   "metadata": {
    "slideshow": {
     "slide_type": "slide"
    }
   },
   "source": [
    "## Functions for Building Arrays:"
   ]
  },
  {
   "cell_type": "code",
   "execution_count": 49,
   "id": "b858631d",
   "metadata": {
    "slideshow": {
     "slide_type": "fragment"
    }
   },
   "outputs": [
    {
     "name": "stdout",
     "output_type": "stream",
     "text": [
      "[[1. 0. 0.]\n",
      " [0. 1. 0.]\n",
      " [0. 0. 1.]]\n",
      "[[1. 1. 1.]\n",
      " [1. 1. 1.]]\n",
      "[0.  0.1 0.2 0.3 0.4 0.5 0.6 0.7 0.8 0.9 1. ]\n",
      "[1. 1. 1. 1. 1. 1. 1. 1. 1. 1. 1.]\n"
     ]
    }
   ],
   "source": [
    "# construct a 3x3 identity (i.e. I or \"eye\") matrix:\n",
    "print(np.eye(3))\n",
    "\n",
    "# construct an array of ones:\n",
    "print(np.ones((2,3)))\n",
    "\n",
    "# construct an array of 11 equally spaced points from 0 to 1:\n",
    "x = np.linspace(0.0, 1.0, 11)\n",
    "print(x)\n",
    "\n",
    "# construct an array of ones/zeros with the same shape as x:\n",
    "x_ones = np.ones_like(x)\n",
    "print(x_ones)"
   ]
  },
  {
   "cell_type": "markdown",
   "id": "bc9defcb",
   "metadata": {
    "slideshow": {
     "slide_type": "slide"
    }
   },
   "source": [
    "# Indexing Arrays\n",
    "\n",
    "* Numpy arrays can be indexed like Python lists, but with some added features:\n",
    "    * multiple indices can be selected using comma-separated indexes (e.g. `array[1,2,3]`)\n",
    "    * The entire subarray along an index can be selected using `:` instead of an index"
   ]
  },
  {
   "cell_type": "code",
   "execution_count": 50,
   "id": "ec5ce86e",
   "metadata": {
    "slideshow": {
     "slide_type": "fragment"
    }
   },
   "outputs": [
    {
     "name": "stdout",
     "output_type": "stream",
     "text": [
      "[[1 2 3]\n",
      " [4 5 6]\n",
      " [7 8 9]]\n",
      "\n",
      "Accessing X[0]:\n",
      "[1 2 3]\n",
      "\n",
      "Accessing X[0,2]:\n",
      "3\n",
      "\n",
      "Accessing X[:,0]:\n",
      "[1 4 7]\n"
     ]
    }
   ],
   "source": [
    "X = np.array(range(1,10)).reshape((3,3))\n",
    "print(X)\n",
    "\n",
    "# access row 0:\n",
    "print('\\nAccessing X[0]:')\n",
    "print(X[0])\n",
    "\n",
    "# access row 0, column 2:\n",
    "print('\\nAccessing X[0,2]:')\n",
    "print(X[0,2])\n",
    "\n",
    "# access column 0:\n",
    "print('\\nAccessing X[:,0]:')\n",
    "print(X[:,0])"
   ]
  },
  {
   "cell_type": "markdown",
   "id": "0acf304e",
   "metadata": {
    "slideshow": {
     "slide_type": "slide"
    }
   },
   "source": [
    "## Operations on Numpy Arrays:\n",
    "\n",
    "* All math operations on arrays are performed elementwise:"
   ]
  },
  {
   "cell_type": "code",
   "execution_count": 53,
   "id": "dc3f4717",
   "metadata": {
    "slideshow": {
     "slide_type": "fragment"
    }
   },
   "outputs": [
    {
     "name": "stdout",
     "output_type": "stream",
     "text": [
      "[5 7 9]\n",
      "[-3 -3 -3]\n",
      "[ 4 10 18]\n",
      "[1.         1.41421356 1.73205081]\n",
      "\n",
      "Scalar operations:\n",
      "[0 1 2]\n",
      "[2 4 6]\n",
      "[-1 -2 -3]\n"
     ]
    }
   ],
   "source": [
    "x1 = np.array([1,2,3])\n",
    "x2 = np.array([4,5,6])\n",
    "\n",
    "# all math operations are elementwise:\n",
    "print(x1 + x2)\n",
    "print(x1 - x2)\n",
    "print(x1 * x2)\n",
    "print(np.sqrt(x1))\n",
    "\n",
    "# scalar operations are also elementwise:\n",
    "print('\\nScalar operations:')\n",
    "print(x1 - 1)\n",
    "print(x1*2)\n",
    "print(-x1)"
   ]
  },
  {
   "cell_type": "markdown",
   "id": "35ab2938",
   "metadata": {
    "slideshow": {
     "slide_type": "slide"
    }
   },
   "source": [
    "## Matrix Operations\n",
    "* 1D array can be used to represent a vector,\n",
    "* 2D arrays can be used to represent a matrix\n",
    "\n",
    "* Numpy supports many different matrix and vector operations from the `linalg` package:"
   ]
  },
  {
   "cell_type": "code",
   "execution_count": 55,
   "id": "0d7c3322",
   "metadata": {
    "slideshow": {
     "slide_type": "fragment"
    }
   },
   "outputs": [
    {
     "name": "stdout",
     "output_type": "stream",
     "text": [
      "[[1 2 3]\n",
      " [4 5 6]\n",
      " [7 8 9]]\n",
      "[[  1   0   0]\n",
      " [  0  10   0]\n",
      " [  0   0 100]]\n",
      "[[1 4 7]\n",
      " [2 5 8]\n",
      " [3 6 9]]\n",
      "[[1.   0.   0.  ]\n",
      " [0.   0.1  0.  ]\n",
      " [0.   0.   0.01]]\n"
     ]
    }
   ],
   "source": [
    "# generate a matrix:\n",
    "A = np.array(range(1,10)).reshape(3,3)\n",
    "print(A)\n",
    "\n",
    "# generate a diagonal matrix:\n",
    "X = np.diag([1,10,100])\n",
    "print(X)\n",
    "\n",
    "# matrix transpose:\n",
    "print(A.T)\n",
    "\n",
    "# matrix inverse:\n",
    "print(np.linalg.inv(X))"
   ]
  },
  {
   "cell_type": "markdown",
   "id": "4ffd6c3a",
   "metadata": {
    "slideshow": {
     "slide_type": "slide"
    }
   },
   "source": [
    "## Linear Algebra:\n",
    "\n",
    "* Matrix-Matrix and Matrix-vector product can be computed using the reserved `@` operator:"
   ]
  },
  {
   "cell_type": "code",
   "execution_count": 60,
   "id": "748843a1",
   "metadata": {
    "slideshow": {
     "slide_type": "fragment"
    }
   },
   "outputs": [
    {
     "name": "stdout",
     "output_type": "stream",
     "text": [
      "\n",
      "A @ X:\n",
      "[[  1  20 300]\n",
      " [  4  50 600]\n",
      " [  7  80 900]]\n",
      "\n",
      "A @ b:\n",
      "[321 654 987]\n",
      "\n",
      "b • b:\n",
      "10101\n",
      "\n",
      "|b|:\n",
      "100.50373127401788\n"
     ]
    }
   ],
   "source": [
    "# compute a matrix-matrix product:\n",
    "print('\\nA @ X:')\n",
    "print(A @ X)\n",
    "\n",
    "# compute a matrix-vector product:\n",
    "b = np.array([1,10,100])\n",
    "print('\\nA @ b:')\n",
    "print(A @ b)\n",
    "\n",
    "# compute a vector dot product (inner product):\n",
    "print('\\nb • b:')\n",
    "print(np.dot(b,b))\n",
    "\n",
    "# compute vector norm:\n",
    "print('\\n|b|:')\n",
    "print(np.linalg.norm(b))"
   ]
  },
  {
   "cell_type": "markdown",
   "id": "98f53780",
   "metadata": {
    "slideshow": {
     "slide_type": "slide"
    }
   },
   "source": [
    "# The Scipy Package\n",
    "* Scipy provides many useful subpackages for scientific computing"
   ]
  },
  {
   "cell_type": "markdown",
   "id": "7d89309d",
   "metadata": {
    "slideshow": {
     "slide_type": "fragment"
    }
   },
   "source": [
    "* Subpackages you may find useful include:\n",
    "    * `scipy.constants`: physical constants, unit conversions\n",
    "    * `scipy.optimize`:  functions for optimization and root finding\n",
    "    * `scipy.integrate`: functions numerical integration\n",
    "    * `scipy.stats`: statistical analysis functions\n",
    "    * `scipy.special`: special functions (e.g. Bessel functions, Ganna function, etc.)"
   ]
  },
  {
   "cell_type": "markdown",
   "id": "0d7d3970",
   "metadata": {
    "slideshow": {
     "slide_type": "slide"
    }
   },
   "source": [
    "## Scientific Constants"
   ]
  },
  {
   "cell_type": "code",
   "execution_count": 62,
   "id": "4eea90af",
   "metadata": {
    "slideshow": {
     "slide_type": "fragment"
    }
   },
   "outputs": [],
   "source": [
    "from scipy import constants"
   ]
  },
  {
   "cell_type": "code",
   "execution_count": 63,
   "id": "2ab004fe",
   "metadata": {
    "slideshow": {
     "slide_type": "fragment"
    }
   },
   "outputs": [
    {
     "name": "stdout",
     "output_type": "stream",
     "text": [
      "3.141592653589793\n",
      "299792458.0\n",
      "6.02214076e+23\n",
      "6.6743e-11\n",
      "1.380649e-23\n",
      "9.1093837015e-31\n"
     ]
    }
   ],
   "source": [
    "print(constants.pi)             # 3.141592653589793 \n",
    "print(constants.speed_of_light) # 299792458.0 [m/s]\n",
    "print(constants.Avogadro)       # 6.02214076e+23 [mol^(-1)]\n",
    "print(constants.G)              # Gravitational constant [m^3 / kg s^2 ] \n",
    "print(constants.Boltzmann)      # Boltzmann constant [J/K]\n",
    "print(constants.m_e)            # Electron mass [kg]"
   ]
  },
  {
   "cell_type": "markdown",
   "id": "2c5f9efb",
   "metadata": {
    "slideshow": {
     "slide_type": "slide"
    }
   },
   "source": [
    "## Integration\n",
    "\n",
    "* We can integrate functions over a specific domain using [`scipy.integrate.quad`](https://docs.scipy.org/doc/scipy/reference/generated/scipy.integrate.quad.html#scipy-integrate-quad).\n",
    "    * Example: integrating the Gaussian function:\n",
    "    \n",
    "    $$\\int_{-\\infty}^\\infty e^{-x^2}\\ dx = \\sqrt{\\pi}$$"
   ]
  },
  {
   "cell_type": "code",
   "execution_count": 67,
   "id": "c9ddc7c2",
   "metadata": {
    "slideshow": {
     "slide_type": "fragment"
    }
   },
   "outputs": [],
   "source": [
    "import numpy as np\n",
    "from scipy.integrate import quad"
   ]
  },
  {
   "cell_type": "code",
   "execution_count": 76,
   "id": "b9781731",
   "metadata": {
    "slideshow": {
     "slide_type": "fragment"
    }
   },
   "outputs": [
    {
     "name": "stdout",
     "output_type": "stream",
     "text": [
      "1.7724538509055159\n",
      "1.7724538509055159\n",
      "7.768296244985151e-09\n"
     ]
    }
   ],
   "source": [
    "# Gaussian function:\n",
    "def gauss(x):\n",
    "    return np.exp(-x**2)\n",
    "\n",
    "# integrate from -10^3 to +10^3 (close enough to infinity):\n",
    "integral, error = quad(gauss, -1e3, 1e3)\n",
    "\n",
    "# compare numerical result with actual result:\n",
    "print(integral)\n",
    "print(np.sqrt(np.pi))\n",
    "print(error)"
   ]
  },
  {
   "cell_type": "markdown",
   "id": "2a8a4c71",
   "metadata": {
    "slideshow": {
     "slide_type": "slide"
    }
   },
   "source": [
    "## Optimization\n",
    "\n",
    "* We can use the `scipy.optimize` subpackage to attempt to find the global or local minima of a Python function\n",
    "* This package is also useful for fitting curves to data\n",
    "    * See [`scipy.optimize.curve_fit`](https://docs.scipy.org/doc/scipy/reference/generated/scipy.optimize.curve_fit.html#scipy-optimize-curve-fit)"
   ]
  },
  {
   "cell_type": "markdown",
   "id": "e80d3193",
   "metadata": {
    "slideshow": {
     "slide_type": "slide"
    }
   },
   "source": [
    "## Example Fitting linear data to a function:\n",
    "\n",
    "* To test scipy's `curve_fit` function, let's create some linear data with a bit of random noise:"
   ]
  },
  {
   "cell_type": "code",
   "execution_count": 73,
   "id": "33e7bc3b",
   "metadata": {
    "slideshow": {
     "slide_type": "fragment"
    }
   },
   "outputs": [],
   "source": [
    "import numpy as np\n",
    "from scipy.optimize import curve_fit\n",
    "\n",
    "# generate N datapoints that fit y = 10x + 3:\n",
    "N = 10\n",
    "x_data = np.linspace(0,10,N)\n",
    "y_noise = np.random.normal(size=N) \n",
    "y_data = 10*x_data + 3 + y_noise"
   ]
  },
  {
   "cell_type": "code",
   "execution_count": 74,
   "id": "051c893c",
   "metadata": {
    "slideshow": {
     "slide_type": "fragment"
    }
   },
   "outputs": [
    {
     "name": "stdout",
     "output_type": "stream",
     "text": [
      "Estimated a: 9.969127086826829 (should be close to 10.0)\n",
      "Estimated b: 2.9155794406611073 (should be close to 3.0)\n"
     ]
    }
   ],
   "source": [
    "# linear model of the form y = ax + b:\n",
    "def linear_model(x, a, b):\n",
    "    return a*x + b\n",
    "\n",
    "# fit the linear model to data:\n",
    "initial_guess = (0,0)\n",
    "p_opt, p_cov = curve_fit(linear_model,x_data, y_data, initial_guess)\n",
    "\n",
    "# print the estimated a and b coefficients:\n",
    "print('Estimated a:', p_opt[0], '(should be close to 10.0)')\n",
    "print('Estimated b:', p_opt[1], '(should be close to 3.0)')"
   ]
  },
  {
   "cell_type": "markdown",
   "id": "0f644f0b",
   "metadata": {
    "slideshow": {
     "slide_type": "subslide"
    }
   },
   "source": [
    "## Visualize fit with Matplotlib"
   ]
  },
  {
   "cell_type": "code",
   "execution_count": 75,
   "id": "ac5a7347",
   "metadata": {
    "slideshow": {
     "slide_type": "fragment"
    }
   },
   "outputs": [
    {
     "data": {
      "image/png": "[encoded data removed]",
      "text/plain": [
       "<Figure size 432x288 with 1 Axes>"
      ]
     },
     "metadata": {
      "needs_background": "light"
     },
     "output_type": "display_data"
    }
   ],
   "source": [
    "import matplotlib.pyplot as plt\n",
    "\n",
    "# evaluate best fit line at many points:\n",
    "x_fit = np.linspace(0,10,1000)\n",
    "y_fit = linear_model(x_fit, p_opt[0], p_opt[1])\n",
    "\n",
    "# plot data and fitted line:\n",
    "plt.figure()\n",
    "plt.scatter(x_data,y_data)\n",
    "plt.plot(x_fit, y_fit, 'r:')\n",
    "plt.show()"
   ]
  },
  {
   "cell_type": "markdown",
   "id": "f073eabd",
   "metadata": {
    "slideshow": {
     "slide_type": "slide"
    }
   },
   "source": [
    "## Special Functions:\n",
    "\n",
    "* Special mathematical functions can be found in the `scipy.special` subpackage:\n",
    "\n",
    "* Airy functions: `scipy.special.airy`\n",
    "* Bessel functions: `scipy.special.jv`\n",
    "* Spherical Bessel functions: `scipy.special.yn`\n",
    "* Gamma function: `scipy.special.gamma`\n",
    "* Rieman zeta function: `scipy.special.zeta`"
   ]
  },
  {
   "cell_type": "markdown",
   "id": "57d4261f",
   "metadata": {
    "slideshow": {
     "slide_type": "slide"
    }
   },
   "source": [
    "## Recommended Reading:\n",
    "* Data Handling and Visualization\n",
    "\n",
    "If possible, try to do the exercises.\n",
    "Bring your questions to our next meeting on Monday."
   ]
  }
 ],
 "metadata": {
  "celltoolbar": "Slideshow",
  "kernelspec": {
   "display_name": "Python 3 (ipykernel)",
   "language": "python",
   "name": "python3"
  },
  "language_info": {
   "codemirror_mode": {
    "name": "ipython",
    "version": 3
   },
   "file_extension": ".py",
   "mimetype": "text/x-python",
   "name": "python",
   "nbconvert_exporter": "python",
   "pygments_lexer": "ipython3",
   "version": "3.10.6"
  }
 },
 "nbformat": 4,
 "nbformat_minor": 5
}
