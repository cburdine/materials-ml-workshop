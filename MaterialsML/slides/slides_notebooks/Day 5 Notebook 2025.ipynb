{
 "cells": [
  {
   "cell_type": "markdown",
   "id": "0364f4d8-0c95-47ea-98d4-b0df463980e5",
   "metadata": {
    "editable": true,
    "slideshow": {
     "slide_type": ""
    },
    "tags": []
   },
   "source": [
    "# Day 5 Notebook"
   ]
  },
  {
   "cell_type": "code",
   "execution_count": null,
   "id": "0d4de47c-54a1-4780-a1d0-c53a2696bdce",
   "metadata": {
    "editable": true,
    "slideshow": {
     "slide_type": ""
    },
    "tags": []
   },
   "outputs": [],
   "source": []
  }
 ],
 "metadata": {
  "kernelspec": {
   "display_name": "Python 3 (ipykernel)",
   "language": "python",
   "name": "python3"
  },
  "language_info": {
   "codemirror_mode": {
    "name": "ipython",
    "version": 3
   },
   "file_extension": ".py",
   "mimetype": "text/x-python",
   "name": "python",
   "nbconvert_exporter": "python",
   "pygments_lexer": "ipython3",
   "version": "3.10.12"
  }
 },
 "nbformat": 4,
 "nbformat_minor": 5
}
