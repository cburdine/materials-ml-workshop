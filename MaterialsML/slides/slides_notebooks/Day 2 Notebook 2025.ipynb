{
 "cells": [
  {
   "cell_type": "markdown",
   "id": "f4adcc0b-b4de-4d73-a74d-01480959aa2f",
   "metadata": {
    "editable": true,
    "slideshow": {
     "slide_type": ""
    },
    "tags": []
   },
   "source": [
    "# Day 2 Notebook"
   ]
  },
  {
   "cell_type": "code",
   "execution_count": null,
   "id": "b08c3058-62f0-477c-9df0-1c0b07321dd1",
   "metadata": {
    "editable": true,
    "slideshow": {
     "slide_type": ""
    },
    "tags": []
   },
   "outputs": [],
   "source": []
  }
 ],
 "metadata": {
  "kernelspec": {
   "display_name": "Python 3 (ipykernel)",
   "language": "python",
   "name": "python3"
  },
  "language_info": {
   "codemirror_mode": {
    "name": "ipython",
    "version": 3
   },
   "file_extension": ".py",
   "mimetype": "text/x-python",
   "name": "python",
   "nbconvert_exporter": "python",
   "pygments_lexer": "ipython3",
   "version": "3.10.12"
  }
 },
 "nbformat": 4,
 "nbformat_minor": 5
}
