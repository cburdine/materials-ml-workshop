{
 "cells": [
  {
   "cell_type": "markdown",
   "id": "86c9d1f1-44b5-434a-91c5-8fcab9bf997a",
   "metadata": {
    "editable": true,
    "slideshow": {
     "slide_type": ""
    },
    "tags": []
   },
   "source": [
    "# Day 3 Notebook"
   ]
  },
  {
   "cell_type": "code",
   "execution_count": 2,
   "id": "c8efd734-c3e5-44d8-9f2b-2d1d63d544ee",
   "metadata": {},
   "outputs": [],
   "source": [
    "import numpy as np"
   ]
  },
  {
   "cell_type": "markdown",
   "id": "7718f7ca-25e4-4031-9032-9f779471e74e",
   "metadata": {},
   "source": [
    "## Working with Numpy"
   ]
  },
  {
   "cell_type": "code",
   "execution_count": 8,
   "id": "9f4d9401-7094-488b-98fd-dd8358a83902",
   "metadata": {},
   "outputs": [
    {
     "data": {
      "text/plain": [
       "np.float64(14.47213595499958)"
      ]
     },
     "execution_count": 8,
     "metadata": {},
     "output_type": "execute_result"
    }
   ],
   "source": [
    "np.sqrt(20) + np.abs(-10)"
   ]
  },
  {
   "cell_type": "code",
   "execution_count": 27,
   "id": "b08f0daa-0932-48b2-b51e-4f820bc956df",
   "metadata": {},
   "outputs": [],
   "source": [
    "my_list = [\n",
    "    [ 1, 2, 3, 4.223],\n",
    "    [ 5, 6, 7, 8 ]\n",
    "]"
   ]
  },
  {
   "cell_type": "code",
   "execution_count": 28,
   "id": "966aa7fb-2624-4462-b349-44c2c9722474",
   "metadata": {},
   "outputs": [],
   "source": [
    "np_array = np.array(my_list)"
   ]
  },
  {
   "cell_type": "code",
   "execution_count": 29,
   "id": "853d7005-4070-4daf-9463-01a91478e131",
   "metadata": {},
   "outputs": [
    {
     "name": "stdout",
     "output_type": "stream",
     "text": [
      "[[1.    2.    3.    4.223]\n",
      " [5.    6.    7.    8.   ]]\n"
     ]
    }
   ],
   "source": [
    "print(np_array)"
   ]
  },
  {
   "cell_type": "code",
   "execution_count": 30,
   "id": "0398f9bb-fa16-4460-ace4-cbf7ccbb0dbc",
   "metadata": {},
   "outputs": [
    {
     "name": "stdout",
     "output_type": "stream",
     "text": [
      "<class 'numpy.ndarray'>\n"
     ]
    }
   ],
   "source": [
    "print(type(np_array))"
   ]
  },
  {
   "cell_type": "code",
   "execution_count": 31,
   "id": "6972d48a-2465-4836-939a-d544a3e75f4c",
   "metadata": {},
   "outputs": [
    {
     "name": "stdout",
     "output_type": "stream",
     "text": [
      "float64\n",
      "(2, 4)\n"
     ]
    }
   ],
   "source": [
    "print(np_array.dtype)\n",
    "print(np_array.shape)"
   ]
  },
  {
   "cell_type": "code",
   "execution_count": 33,
   "id": "75baffd2-c181-4508-b33a-f6d29fbeb66e",
   "metadata": {},
   "outputs": [],
   "source": [
    "# create a 2D array (matrix):\n",
    "X = np.array([\n",
    "    [1,2,3],\n",
    "    [4,5,6]\n",
    "])"
   ]
  },
  {
   "cell_type": "code",
   "execution_count": 34,
   "id": "814f9cd2-90c8-432a-8b0f-6ab10c40bdba",
   "metadata": {},
   "outputs": [
    {
     "name": "stdout",
     "output_type": "stream",
     "text": [
      "(2, 3)\n"
     ]
    }
   ],
   "source": [
    "print(X.shape)"
   ]
  },
  {
   "cell_type": "code",
   "execution_count": 35,
   "id": "074f5736-804f-4b8b-baf8-99c23705e56e",
   "metadata": {},
   "outputs": [],
   "source": [
    "Y = X.reshape((3,2))"
   ]
  },
  {
   "cell_type": "code",
   "execution_count": 36,
   "id": "6bf2d77d-fcf7-4d89-b128-d69b48810df9",
   "metadata": {},
   "outputs": [
    {
     "name": "stdout",
     "output_type": "stream",
     "text": [
      "[[1 2]\n",
      " [3 4]\n",
      " [5 6]]\n"
     ]
    }
   ],
   "source": [
    "print(Y)"
   ]
  },
  {
   "cell_type": "code",
   "execution_count": 37,
   "id": "fce36743-2cad-460e-b708-85f5a197a47d",
   "metadata": {},
   "outputs": [],
   "source": [
    "Z = X.flatten()"
   ]
  },
  {
   "cell_type": "code",
   "execution_count": 38,
   "id": "58f0c172-86c7-4396-a76d-9ab351803fc0",
   "metadata": {},
   "outputs": [
    {
     "name": "stdout",
     "output_type": "stream",
     "text": [
      "[1 2 3 4 5 6]\n"
     ]
    }
   ],
   "source": [
    "print(Z)"
   ]
  },
  {
   "cell_type": "code",
   "execution_count": 45,
   "id": "9180b94a-a1cc-4886-9778-78eb2ef3c116",
   "metadata": {},
   "outputs": [],
   "source": [
    "arange_array = np.arange(3,10,2)\n",
    "# equivalent to list(range(..))\n",
    "\n",
    "linspace_array = np.linspace(0, 1, 10)"
   ]
  },
  {
   "cell_type": "code",
   "execution_count": 44,
   "id": "cf7937e8-311c-4a86-9133-9cb7afc11005",
   "metadata": {},
   "outputs": [
    {
     "name": "stdout",
     "output_type": "stream",
     "text": [
      "[3 5 7 9]\n"
     ]
    }
   ],
   "source": [
    "print(arange_array)"
   ]
  },
  {
   "cell_type": "code",
   "execution_count": 46,
   "id": "83edf57b-110e-4221-84ea-0f7c76e7993e",
   "metadata": {},
   "outputs": [
    {
     "name": "stdout",
     "output_type": "stream",
     "text": [
      "[0.         0.11111111 0.22222222 0.33333333 0.44444444 0.55555556\n",
      " 0.66666667 0.77777778 0.88888889 1.        ]\n"
     ]
    }
   ],
   "source": [
    "print(linspace_array)"
   ]
  },
  {
   "cell_type": "code",
   "execution_count": 47,
   "id": "9055e97a-b72e-41d6-bbab-69bd33334a64",
   "metadata": {},
   "outputs": [
    {
     "name": "stdout",
     "output_type": "stream",
     "text": [
      "[[1. 0. 0.]\n",
      " [0. 1. 0.]\n",
      " [0. 0. 1.]]\n"
     ]
    }
   ],
   "source": [
    "print(np.eye(3)) # Identity matrix of size 3"
   ]
  },
  {
   "cell_type": "code",
   "execution_count": 49,
   "id": "86e61369-a0c5-4233-b647-c940ef0b0bf7",
   "metadata": {},
   "outputs": [
    {
     "name": "stdout",
     "output_type": "stream",
     "text": [
      "[[[1. 1. 1. 1. 1.]\n",
      "  [1. 1. 1. 1. 1.]\n",
      "  [1. 1. 1. 1. 1.]\n",
      "  [1. 1. 1. 1. 1.]]\n",
      "\n",
      " [[1. 1. 1. 1. 1.]\n",
      "  [1. 1. 1. 1. 1.]\n",
      "  [1. 1. 1. 1. 1.]\n",
      "  [1. 1. 1. 1. 1.]]]\n"
     ]
    }
   ],
   "source": [
    "print(np.ones((2,4,5)))"
   ]
  },
  {
   "cell_type": "code",
   "execution_count": 51,
   "id": "b3ed315a-d03b-4ee9-9562-2f08023027cc",
   "metadata": {},
   "outputs": [
    {
     "name": "stdout",
     "output_type": "stream",
     "text": [
      "[[0. 0.]\n",
      " [0. 0.]\n",
      " [0. 0.]]\n"
     ]
    }
   ],
   "source": [
    "print(np.zeros((3,2)))"
   ]
  },
  {
   "cell_type": "markdown",
   "id": "da0c196d-e341-4d1f-8954-850edf8e0905",
   "metadata": {},
   "source": [
    "## Array Indexing"
   ]
  },
  {
   "cell_type": "code",
   "execution_count": 52,
   "id": "20634fb5-3c99-45cd-bdde-f1abc47ca572",
   "metadata": {},
   "outputs": [],
   "source": [
    "X = np.arange(9).reshape((3,3))"
   ]
  },
  {
   "cell_type": "code",
   "execution_count": 53,
   "id": "2d1cc449-dd16-42b5-8aec-c97d2cc734ab",
   "metadata": {},
   "outputs": [
    {
     "name": "stdout",
     "output_type": "stream",
     "text": [
      "[[0 1 2]\n",
      " [3 4 5]\n",
      " [6 7 8]]\n"
     ]
    }
   ],
   "source": [
    "print(X)"
   ]
  },
  {
   "cell_type": "code",
   "execution_count": 55,
   "id": "d65fc37c-67c8-40c7-b527-9c9d8493680c",
   "metadata": {},
   "outputs": [
    {
     "data": {
      "text/plain": [
       "np.int64(5)"
      ]
     },
     "execution_count": 55,
     "metadata": {},
     "output_type": "execute_result"
    }
   ],
   "source": [
    "X[1,2]"
   ]
  },
  {
   "cell_type": "code",
   "execution_count": 56,
   "id": "0f196458-3805-4cb1-baf5-47dc681cf68b",
   "metadata": {},
   "outputs": [
    {
     "data": {
      "text/plain": [
       "array([[3, 4, 5],\n",
       "       [6, 7, 8]])"
      ]
     },
     "execution_count": 56,
     "metadata": {},
     "output_type": "execute_result"
    }
   ],
   "source": [
    "X[1:3]"
   ]
  },
  {
   "cell_type": "code",
   "execution_count": 60,
   "id": "a98d88d6-8f81-4957-9764-025820a741b6",
   "metadata": {},
   "outputs": [
    {
     "data": {
      "text/plain": [
       "array([0, 3, 6])"
      ]
     },
     "execution_count": 60,
     "metadata": {},
     "output_type": "execute_result"
    }
   ],
   "source": [
    "X[:,0]"
   ]
  },
  {
   "cell_type": "code",
   "execution_count": 61,
   "id": "e327b884-1e68-4c5c-83ab-cce610a7ce73",
   "metadata": {},
   "outputs": [],
   "source": [
    "X[1,1] = -4"
   ]
  },
  {
   "cell_type": "code",
   "execution_count": 62,
   "id": "7b273dc4-9e32-4183-b719-560e826facb2",
   "metadata": {},
   "outputs": [
    {
     "name": "stdout",
     "output_type": "stream",
     "text": [
      "[[ 0  1  2]\n",
      " [ 3 -4  5]\n",
      " [ 6  7  8]]\n"
     ]
    }
   ],
   "source": [
    "print(X)"
   ]
  },
  {
   "cell_type": "markdown",
   "id": "8109cc98-70be-48a2-a798-73b9a5e20830",
   "metadata": {},
   "source": [
    "## Operations on Arrays"
   ]
  },
  {
   "cell_type": "code",
   "execution_count": 67,
   "id": "9ce46e61-d3bf-41f3-81b8-cdee43daab07",
   "metadata": {},
   "outputs": [
    {
     "data": {
      "text/plain": [
       "array([[ 0,  1,  2],\n",
       "       [ 3, -4,  5],\n",
       "       [ 6,  7,  8]])"
      ]
     },
     "execution_count": 67,
     "metadata": {},
     "output_type": "execute_result"
    }
   ],
   "source": [
    "X"
   ]
  },
  {
   "cell_type": "code",
   "execution_count": 68,
   "id": "ab164d38-7e2e-44f2-8cee-cce31b8a986f",
   "metadata": {},
   "outputs": [],
   "source": [
    "Y = np.ones_like(X) * 10"
   ]
  },
  {
   "cell_type": "code",
   "execution_count": 71,
   "id": "88bb08d9-165f-4202-9b58-cc583b8ba0a2",
   "metadata": {},
   "outputs": [
    {
     "data": {
      "text/plain": [
       "array([[10, 11, 12],\n",
       "       [13,  6, 15],\n",
       "       [16, 17, 18]])"
      ]
     },
     "execution_count": 71,
     "metadata": {},
     "output_type": "execute_result"
    }
   ],
   "source": [
    "X + Y"
   ]
  },
  {
   "cell_type": "code",
   "execution_count": 72,
   "id": "7fea8190-634f-459c-bec3-d9d385cad320",
   "metadata": {},
   "outputs": [
    {
     "data": {
      "text/plain": [
       "array([[ 0,  1,  4],\n",
       "       [ 9, 16, 25],\n",
       "       [36, 49, 64]])"
      ]
     },
     "execution_count": 72,
     "metadata": {},
     "output_type": "execute_result"
    }
   ],
   "source": [
    "X**2"
   ]
  },
  {
   "cell_type": "code",
   "execution_count": 80,
   "id": "29d0ff2c-9b2a-4ee1-b08b-78e73eec9f46",
   "metadata": {},
   "outputs": [
    {
     "name": "stdout",
     "output_type": "stream",
     "text": [
      "[ 3  4 21]\n",
      "[1.         1.33333333 7.        ]\n",
      "[ 0 -4  6]\n"
     ]
    }
   ],
   "source": [
    "print(np.sum(X, axis=1))\n",
    "print(np.mean(X, axis=1))\n",
    "print(np.min(X, axis=1))"
   ]
  },
  {
   "cell_type": "markdown",
   "id": "b88d762c-9b9a-4cc6-8756-9191fa58a5cb",
   "metadata": {},
   "source": [
    "# Linear Algebra and Matrix Operations"
   ]
  },
  {
   "cell_type": "code",
   "execution_count": 82,
   "id": "9ca5a1de-fa80-4081-a12e-b5f53e9d66e7",
   "metadata": {},
   "outputs": [
    {
     "name": "stdout",
     "output_type": "stream",
     "text": [
      "[[1 2 3]\n",
      " [4 5 6]\n",
      " [7 8 9]]\n"
     ]
    }
   ],
   "source": [
    "A = np.arange(1,10).reshape(3,3)\n",
    "print(A)"
   ]
  },
  {
   "cell_type": "code",
   "execution_count": 83,
   "id": "57ab0b4c-a46d-40ff-ac13-b3e29af1f900",
   "metadata": {},
   "outputs": [
    {
     "data": {
      "text/plain": [
       "array([[1, 4, 7],\n",
       "       [2, 5, 8],\n",
       "       [3, 6, 9]])"
      ]
     },
     "execution_count": 83,
     "metadata": {},
     "output_type": "execute_result"
    }
   ],
   "source": [
    "A.T"
   ]
  },
  {
   "cell_type": "code",
   "execution_count": 88,
   "id": "81aeaaf7-6f03-40fa-bf66-28998be22640",
   "metadata": {},
   "outputs": [
    {
     "name": "stdout",
     "output_type": "stream",
     "text": [
      "[[ 3.  6. 10.]\n",
      " [ 6. 11. 14.]\n",
      " [10. 14. 19.]]\n"
     ]
    }
   ],
   "source": [
    "B = A + A.T + np.eye(3)\n",
    "print(B)"
   ]
  },
  {
   "cell_type": "code",
   "execution_count": 90,
   "id": "3991ac24-edef-4612-b370-daf45c41be4f",
   "metadata": {},
   "outputs": [
    {
     "name": "stdout",
     "output_type": "stream",
     "text": [
      "[[-0.2        -0.4         0.4       ]\n",
      " [-0.4         0.66153846 -0.27692308]\n",
      " [ 0.4        -0.27692308  0.04615385]]\n"
     ]
    }
   ],
   "source": [
    "B_inv = np.linalg.inv(B)\n",
    "print(B_inv)"
   ]
  },
  {
   "cell_type": "code",
   "execution_count": 92,
   "id": "00922cb6-ac8a-41ea-97cc-886b05c60717",
   "metadata": {},
   "outputs": [
    {
     "data": {
      "text/plain": [
       "array([[ 1.00000000e+00,  1.11022302e-16, -2.77555756e-16],\n",
       "       [-2.22044605e-16,  1.00000000e+00, -4.99600361e-16],\n",
       "       [-1.11022302e-16,  3.88578059e-16,  1.00000000e+00]])"
      ]
     },
     "execution_count": 92,
     "metadata": {},
     "output_type": "execute_result"
    }
   ],
   "source": [
    "# This computes the matrix-matrix product\n",
    "B @ B_inv"
   ]
  },
  {
   "cell_type": "code",
   "execution_count": 95,
   "id": "162e0ce3-ee0f-4560-ae29-c9d1979fc7dc",
   "metadata": {},
   "outputs": [
    {
     "data": {
      "text/plain": [
       "np.int64(32)"
      ]
     },
     "execution_count": 95,
     "metadata": {},
     "output_type": "execute_result"
    }
   ],
   "source": [
    "vec_a = np.array([1,2,3])\n",
    "vec_b = np.array([4,5,6])\n",
    "\n",
    "np.dot(vec_a, vec_b)"
   ]
  },
  {
   "cell_type": "code",
   "execution_count": 96,
   "id": "3b09a70b-1d61-427c-bc28-bfe52bd2b9e1",
   "metadata": {},
   "outputs": [
    {
     "data": {
      "text/plain": [
       "np.float64(3.7416573867739413)"
      ]
     },
     "execution_count": 96,
     "metadata": {},
     "output_type": "execute_result"
    }
   ],
   "source": [
    "np.linalg.norm(vec_a)"
   ]
  },
  {
   "cell_type": "code",
   "execution_count": 97,
   "id": "df871218-a25a-473c-8573-8e436a844026",
   "metadata": {},
   "outputs": [
    {
     "data": {
      "text/plain": [
       "np.float64(3.7416573867739413)"
      ]
     },
     "execution_count": 97,
     "metadata": {},
     "output_type": "execute_result"
    }
   ],
   "source": [
    "np.sqrt(np.sum(vec_a**2))"
   ]
  },
  {
   "cell_type": "code",
   "execution_count": 98,
   "id": "32da8c52-79d5-4614-9787-b0e9ddc21799",
   "metadata": {},
   "outputs": [
    {
     "data": {
      "text/plain": [
       "array([[ 4,  5,  6],\n",
       "       [ 8, 10, 12],\n",
       "       [12, 15, 18]])"
      ]
     },
     "execution_count": 98,
     "metadata": {},
     "output_type": "execute_result"
    }
   ],
   "source": [
    "np.outer(vec_a, vec_b)"
   ]
  },
  {
   "cell_type": "code",
   "execution_count": 106,
   "id": "b5b34c3b-e3af-424c-b85a-662b2b82366b",
   "metadata": {},
   "outputs": [
    {
     "data": {
      "text/plain": [
       "array([[ 4,  5,  6],\n",
       "       [ 8, 10, 12],\n",
       "       [12, 15, 18]])"
      ]
     },
     "execution_count": 106,
     "metadata": {},
     "output_type": "execute_result"
    }
   ],
   "source": [
    "vec_a.reshape((3,1)) * vec_b.reshape((1,3))"
   ]
  },
  {
   "cell_type": "markdown",
   "id": "b7370112-e394-4e0e-a1fe-850477f8edf3",
   "metadata": {},
   "source": [
    "## Numpy Broadcasting"
   ]
  },
  {
   "cell_type": "code",
   "execution_count": 103,
   "id": "00b762eb-eab2-4731-9db8-f4121bb10da2",
   "metadata": {},
   "outputs": [],
   "source": [
    "X = np.arange(0,9).reshape(3,1,3)\n",
    "Y = X.reshape(3,3,1) * 10"
   ]
  },
  {
   "cell_type": "code",
   "execution_count": 105,
   "id": "4a7ebfbb-3eef-4a81-a0fe-98b89c78f5cb",
   "metadata": {},
   "outputs": [
    {
     "data": {
      "text/plain": [
       "array([[[ 0,  1,  2],\n",
       "        [10, 11, 12],\n",
       "        [20, 21, 22]],\n",
       "\n",
       "       [[33, 34, 35],\n",
       "        [43, 44, 45],\n",
       "        [53, 54, 55]],\n",
       "\n",
       "       [[66, 67, 68],\n",
       "        [76, 77, 78],\n",
       "        [86, 87, 88]]])"
      ]
     },
     "execution_count": 105,
     "metadata": {},
     "output_type": "execute_result"
    }
   ],
   "source": [
    "X + Y"
   ]
  },
  {
   "cell_type": "markdown",
   "id": "bc195f56-3bec-481f-9432-baf0a76ad299",
   "metadata": {},
   "source": [
    "### Solving a Linear System"
   ]
  },
  {
   "cell_type": "code",
   "execution_count": 108,
   "id": "8137fb54-ffdf-4ca2-a98c-64d91499a86d",
   "metadata": {},
   "outputs": [
    {
     "name": "stdout",
     "output_type": "stream",
     "text": [
      "[[ 2.15519518 -1.8831176  -0.27022471]\n",
      " [-1.2484866   0.5070549  -1.34335081]\n",
      " [ 0.96762904 -1.44883231  1.04376505]]\n",
      "[ 0.8986949  -0.39133537 -0.1514041 ]\n"
     ]
    }
   ],
   "source": [
    "N = 3\n",
    "\n",
    "A = np.random.normal(0,1, size=(N,N))\n",
    "b = np.random.normal(0,1, size=N)\n",
    "\n",
    "print(A)\n",
    "print(b)"
   ]
  },
  {
   "cell_type": "code",
   "execution_count": 113,
   "id": "71b9d8c1-ce8a-4a07-95d0-ad27b6c76389",
   "metadata": {},
   "outputs": [],
   "source": [
    "# solve Ax = b --> x = A^(-1) b\n",
    "x = np.linalg.solve(A,b)"
   ]
  },
  {
   "cell_type": "code",
   "execution_count": 114,
   "id": "63b4dafe-389a-4f76-99d1-1c7564083a19",
   "metadata": {},
   "outputs": [
    {
     "name": "stdout",
     "output_type": "stream",
     "text": [
      "[ 0.76093698  0.43002851 -0.25357203]\n"
     ]
    }
   ],
   "source": [
    "print(x)"
   ]
  },
  {
   "cell_type": "code",
   "execution_count": 111,
   "id": "c9b27372-42c5-4e29-96d8-4576d9a84fc9",
   "metadata": {},
   "outputs": [
    {
     "data": {
      "text/plain": [
       "array([ 0.8986949 , -0.39133537, -0.1514041 ])"
      ]
     },
     "execution_count": 111,
     "metadata": {},
     "output_type": "execute_result"
    }
   ],
   "source": [
    "A @ x"
   ]
  },
  {
   "cell_type": "code",
   "execution_count": 112,
   "id": "c0204d4d-be32-4af4-be55-75d327526a33",
   "metadata": {},
   "outputs": [
    {
     "data": {
      "text/plain": [
       "array([ 0.8986949 , -0.39133537, -0.1514041 ])"
      ]
     },
     "execution_count": 112,
     "metadata": {},
     "output_type": "execute_result"
    }
   ],
   "source": [
    "b"
   ]
  },
  {
   "cell_type": "code",
   "execution_count": 115,
   "id": "5a984495-c455-44d2-8316-f90875869d2a",
   "metadata": {},
   "outputs": [],
   "source": [
    "A = np.array([\n",
    "    [ 1, 1 ],\n",
    "    [ 1, 0 ]\n",
    "])"
   ]
  },
  {
   "cell_type": "code",
   "execution_count": 116,
   "id": "cf7cf74e-057b-4f83-b4ea-70a6ad4c9ddf",
   "metadata": {},
   "outputs": [],
   "source": [
    "lambda_diag, P = np.linalg.eig(A)"
   ]
  },
  {
   "cell_type": "code",
   "execution_count": 117,
   "id": "3b182b2e-b342-4061-bce5-fe51ed390409",
   "metadata": {},
   "outputs": [
    {
     "name": "stdout",
     "output_type": "stream",
     "text": [
      "[ 1.61803399 -0.61803399]\n"
     ]
    }
   ],
   "source": [
    "print(lambda_diag)"
   ]
  },
  {
   "cell_type": "code",
   "execution_count": 118,
   "id": "0f85bc79-fc2c-4948-833b-71bf1b0278ad",
   "metadata": {},
   "outputs": [
    {
     "name": "stdout",
     "output_type": "stream",
     "text": [
      "[[ 0.85065081 -0.52573111]\n",
      " [ 0.52573111  0.85065081]]\n"
     ]
    }
   ],
   "source": [
    "print(P)"
   ]
  },
  {
   "cell_type": "code",
   "execution_count": 119,
   "id": "0aa4364f-b3ec-4553-a687-6a8a2fca25f4",
   "metadata": {},
   "outputs": [
    {
     "data": {
      "text/plain": [
       "array([[ 1.00000000e+00,  1.00000000e+00],\n",
       "       [ 1.00000000e+00, -1.04608535e-16]])"
      ]
     },
     "execution_count": 119,
     "metadata": {},
     "output_type": "execute_result"
    }
   ],
   "source": [
    "P @ np.diag(lambda_diag) @ np.linalg.inv(P)"
   ]
  },
  {
   "cell_type": "markdown",
   "id": "ff7f18f9-26c8-47ec-bd5e-25cb80fb463d",
   "metadata": {},
   "source": [
    "# Scipy"
   ]
  },
  {
   "cell_type": "markdown",
   "id": "6b87853e-9e4f-484d-9ff2-05f2d2bbae87",
   "metadata": {},
   "source": [
    "## Integrating Functions"
   ]
  },
  {
   "cell_type": "code",
   "execution_count": 122,
   "id": "2e97bf3c-b2d3-42cc-834c-d2bf172882de",
   "metadata": {},
   "outputs": [],
   "source": [
    "# Let's integrate a very basic function\n",
    "from scipy.integrate import quad"
   ]
  },
  {
   "cell_type": "code",
   "execution_count": 123,
   "id": "7002abc3-e162-4533-a9dd-3e0175b03bf9",
   "metadata": {},
   "outputs": [],
   "source": [
    "def integrand(x):\n",
    "    return np.exp(-(x**2))\n"
   ]
  },
  {
   "cell_type": "code",
   "execution_count": 124,
   "id": "a4897d0d-365e-4772-838b-8a23f68f430a",
   "metadata": {},
   "outputs": [],
   "source": [
    "integral, abs_err = quad(integrand, -1000, 1000)"
   ]
  },
  {
   "cell_type": "code",
   "execution_count": 125,
   "id": "a8ec4540-dc23-45c7-80e8-38d81cfb2ea5",
   "metadata": {},
   "outputs": [
    {
     "name": "stdout",
     "output_type": "stream",
     "text": [
      "1.7724538509055159\n"
     ]
    }
   ],
   "source": [
    "print(integral)"
   ]
  },
  {
   "cell_type": "code",
   "execution_count": 126,
   "id": "f7c871a4-b366-4b81-9a86-7114e7ec1b1c",
   "metadata": {},
   "outputs": [
    {
     "name": "stdout",
     "output_type": "stream",
     "text": [
      "7.768296244985151e-09\n"
     ]
    }
   ],
   "source": [
    "print(abs_err)"
   ]
  },
  {
   "cell_type": "code",
   "execution_count": 127,
   "id": "de1bc2c1-81ef-4b40-a0ee-82c875193ac5",
   "metadata": {},
   "outputs": [
    {
     "data": {
      "text/plain": [
       "np.float64(1.7724538509055159)"
      ]
     },
     "execution_count": 127,
     "metadata": {},
     "output_type": "execute_result"
    }
   ],
   "source": [
    "np.sqrt(np.pi)"
   ]
  },
  {
   "cell_type": "markdown",
   "id": "04fd0ca3-6f78-45ca-b956-57ece4d12810",
   "metadata": {},
   "source": [
    "## Optimizing Functions"
   ]
  },
  {
   "cell_type": "code",
   "execution_count": 129,
   "id": "84f80782-df3e-4127-ab9b-8bc0442bf740",
   "metadata": {},
   "outputs": [],
   "source": [
    "from scipy.optimize import curve_fit"
   ]
  },
  {
   "cell_type": "code",
   "execution_count": 130,
   "id": "ecb4170d-8dda-43fd-8a3d-09d0534a145d",
   "metadata": {},
   "outputs": [],
   "source": [
    "# Fitting a model (i.e, a curve) to data:\n",
    "\n",
    "def linear_model(x, a, b):\n",
    "    return a*x + b\n",
    "\n",
    "# generate N datapoints that fit y = 10x + 3:\n",
    "N = 100\n",
    "x_data = np.linspace(0,10,N)\n",
    "y_noise = np.random.normal(size=N) \n",
    "y_data = 10*x_data + 3 + y_noise\n",
    "\n",
    "opt_params, cov_params = curve_fit(linear_model, x_data, y_data)"
   ]
  },
  {
   "cell_type": "code",
   "execution_count": 131,
   "id": "0104b415-4a59-4709-90bc-b4e37ee79992",
   "metadata": {},
   "outputs": [
    {
     "name": "stdout",
     "output_type": "stream",
     "text": [
      "[9.9734678 3.2634802]\n"
     ]
    }
   ],
   "source": [
    "print(opt_params)"
   ]
  },
  {
   "cell_type": "code",
   "execution_count": 140,
   "id": "18ed5950-c681-46cc-8215-6d7b53157b01",
   "metadata": {},
   "outputs": [
    {
     "data": {
      "image/png": "[encoded data removed]",
      "text/plain": [
       "<Figure size 640x480 with 1 Axes>"
      ]
     },
     "metadata": {},
     "output_type": "display_data"
    }
   ],
   "source": [
    "import matplotlib.pyplot as plt\n",
    "\n",
    "x_eval = np.linspace(0,10,1000)\n",
    "y_eval = linear_model(x_eval, opt_params[0], opt_params[1])\n",
    "\n",
    "plt.figure()\n",
    "plt.scatter(x_data, y_data)\n",
    "plt.plot(x_eval, y_eval, 'r:', label='Fit')\n",
    "plt.legend()\n",
    "plt.show()"
   ]
  },
  {
   "cell_type": "code",
   "execution_count": 141,
   "id": "306093ac-d046-4ddd-b32f-a832fd036aab",
   "metadata": {},
   "outputs": [],
   "source": [
    "def rho_estimate(T, rho_0, A, theta, n):\n",
    "\n",
    "    def integrand(x):\n",
    "        return x**n / (\n",
    "            (np.exp(x) - 1)*(1 - np.exp(-x))\n",
    "        )\n",
    "    \n",
    "    # compute the integral:\n",
    "    integral, _ = quad(integrand, 0, theta/T)\n",
    "    \n",
    "    # evaluate the resistivity:\n",
    "    rho = rho_0\n",
    "    rho += A * (T / theta)**n * integral\n",
    "\n",
    "    return rho"
   ]
  },
  {
   "cell_type": "code",
   "execution_count": 145,
   "id": "84fbcca8-0dd8-480d-8994-820303900184",
   "metadata": {},
   "outputs": [],
   "source": [
    "PT_RHO_DATA = {\n",
    "# Temp. (K) : Resistivity (Ω)\n",
    "    14.     :   1.797,\n",
    "    20.     :   2.147,\n",
    "    30.     :   3.508,\n",
    "    40.     :   5.938,\n",
    "    50.     :   9.228,\n",
    "    70.     :  17.128,\n",
    "    100.0   :  29.987,\n",
    "    200.0   :  71.073,\n",
    "    300.0   : 110.450,\n",
    "    400.0   : 148.620,\n",
    "    1000.0  : 353.402\n",
    "}\n",
    "\n",
    "PT_DEBYE_TEMP = 240 # (K)"
   ]
  },
  {
   "cell_type": "code",
   "execution_count": 146,
   "id": "fb2c98b4-2834-4afb-b6f6-fa3b3a81b836",
   "metadata": {},
   "outputs": [
    {
     "name": "stdout",
     "output_type": "stream",
     "text": [
      "[[  14.       1.797]\n",
      " [  20.       2.147]\n",
      " [  30.       3.508]\n",
      " [  40.       5.938]\n",
      " [  50.       9.228]\n",
      " [  70.      17.128]\n",
      " [ 100.      29.987]\n",
      " [ 200.      71.073]\n",
      " [ 300.     110.45 ]\n",
      " [ 400.     148.62 ]\n",
      " [1000.     353.402]]\n"
     ]
    }
   ],
   "source": [
    "# convert data to numpy arrays:\n",
    "data = np.array(list(PT_RHO_DATA.items()))\n",
    "print(data)"
   ]
  },
  {
   "cell_type": "code",
   "execution_count": 147,
   "id": "18dea8d7-ab92-44f0-bebe-122a4b36fb0e",
   "metadata": {},
   "outputs": [],
   "source": [
    "T_data = data[:,0]\n",
    "rho_data = data[:,1]"
   ]
  },
  {
   "cell_type": "code",
   "execution_count": 148,
   "id": "75ce8421-1a45-4457-b897-588b6856443c",
   "metadata": {},
   "outputs": [],
   "source": [
    "# write a function that predicts platinum's rho(T) for an array of T values:\n",
    "def pt_rho_estimate(T_array, rho_0, A):\n",
    "    \"\"\" Estimates the B.G resistivity for Platinum for an array of T values\"\"\"\n",
    "    return np.array([ \n",
    "        rho_estimate(T, rho_0, A, theta=PT_DEBYE_TEMP, n=5)\n",
    "        for T in T_array\n",
    "    ])"
   ]
  },
  {
   "cell_type": "code",
   "execution_count": 149,
   "id": "6f938c7a-ad57-4f22-9781-2c1bb41cd4d5",
   "metadata": {
    "editable": true,
    "slideshow": {
     "slide_type": ""
    },
    "tags": []
   },
   "outputs": [],
   "source": [
    "# Determine the optimal parameters:\n",
    "p_opt, p_cov = curve_fit(pt_rho_estimate, \n",
    "                         T_data,\n",
    "                         rho_data,\n",
    "                         p0=(1, 300),\n",
    "                         bounds=([0,0],[np.min(rho_data),1000]))"
   ]
  },
  {
   "cell_type": "code",
   "execution_count": 150,
   "id": "f23ca03b-f782-4f85-b7fa-1f7f10eb2d95",
   "metadata": {},
   "outputs": [
    {
     "name": "stdout",
     "output_type": "stream",
     "text": [
      "Estimated rho_0: 1.7969999999999997\n",
      "Estimated A: 343.3238153024485\n"
     ]
    }
   ],
   "source": [
    "print('Estimated rho_0:', p_opt[0])\n",
    "print('Estimated A:', p_opt[1])"
   ]
  },
  {
   "cell_type": "markdown",
   "id": "e14de419-6eeb-4a92-940a-6559aa7eccc1",
   "metadata": {
    "editable": true,
    "slideshow": {
     "slide_type": ""
    },
    "tags": []
   },
   "source": [
    "## Scipy Optimization Example"
   ]
  }
 ],
 "metadata": {
  "kernelspec": {
   "display_name": "Python 3 (ipykernel)",
   "language": "python",
   "name": "python3"
  },
  "language_info": {
   "codemirror_mode": {
    "name": "ipython",
    "version": 3
   },
   "file_extension": ".py",
   "mimetype": "text/x-python",
   "name": "python",
   "nbconvert_exporter": "python",
   "pygments_lexer": "ipython3",
   "version": "3.10.12"
  }
 },
 "nbformat": 4,
 "nbformat_minor": 5
}
