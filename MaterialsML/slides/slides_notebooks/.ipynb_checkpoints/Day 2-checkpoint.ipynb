{
 "cells": [
  {
   "cell_type": "markdown",
   "id": "34f8e3e7",
   "metadata": {
    "slideshow": {
     "slide_type": "slide"
    }
   },
   "source": [
    "# Materials+ML Workshop Day 2\n",
    "\n",
    "![logo](logo.svg)\n"
   ]
  },
  {
   "cell_type": "markdown",
   "id": "7572813e",
   "metadata": {
    "slideshow": {
     "slide_type": "slide"
    }
   },
   "source": [
    "## Day 2 Agenda:\n",
    "\n",
    "* Questions about Day 1 Material\n",
    "* Review of Day 1\n",
    "\n",
    "Content for today:"
   ]
  },
  {
   "cell_type": "markdown",
   "id": "e59e6bcf",
   "metadata": {
    "slideshow": {
     "slide_type": "fragment"
    }
   },
   "source": [
    "* _Functions_:\n",
    "    * Functions and Data types\n",
    "    * Writing Python Functions\n",
    "    * Documenting Functions\n",
    "    * Default parameters"
   ]
  },
  {
   "cell_type": "markdown",
   "id": "116eae8f",
   "metadata": {
    "slideshow": {
     "slide_type": "fragment"
    }
   },
   "source": [
    "* _Python classes_:\n",
    "    * Writing Python Classes\n",
    "    * Instance variables\n",
    "    * Methods"
   ]
  },
  {
   "cell_type": "markdown",
   "id": "ad7b71a1",
   "metadata": {
    "slideshow": {
     "slide_type": "slide"
    }
   },
   "source": [
    "## The Workshop Online Book:\n",
    "\n",
    "### [https://cburdine.github.io/materials-ml-workshop/](https://cburdine.github.io/materials-ml-workshop/)"
   ]
  },
  {
   "cell_type": "markdown",
   "id": "3466e435",
   "metadata": {
    "slideshow": {
     "slide_type": "slide"
    }
   },
   "source": [
    "## Tentative Workshop Schedule:\n",
    "\n",
    "| Session       | Date          | Content                                                       |\n",
    "| -------       | ----          | -------                                                       |\n",
    "| Day 0         | 06/16/2023 (2:30-3:30 PM) | Introduction, Setting up your Python Notebook     |\n",
    "| Day 1         | 06/19/2023 (2:30-3:30 PM) | Python Data Types                                 |\n",
    "| **Day 2**         | **06/20/2023 (2:30-3:30 PM)** | **Python Functions and Classes**                      |\n",
    "| Day 3         | 06/21/2023 (2:30-3:30 PM) | Scientific Computing with Numpy and Scipy         |\n",
    "| Day 4         | 06/22/2023 (2:30-3:30 PM) | Data Manipulation and Visualization               |\n",
    "| Day 5         | 06/23/2023 (2:30-3:30 PM) | Materials Science Packages                        |\n",
    "| Day 6         | 06/26/2023 (2:30-3:30 PM) | Introduction to ML, Supervised Learning           |\n",
    "| Day 7         | 06/27/2023 (2:30-3:30 PM) | Regression Models                                 |\n",
    "| Day 8         | 06/28/2023 (2:30-3:30 PM) | Unsupervised Learning                             |\n",
    "| Day 9         | 06/29/2023 (2:30-3:30 PM) | Neural Networks                                   |\n",
    "| Day 10        | 06/30/2023 (2:30-3:30 PM) | Advanced Applications in Materials Science        |"
   ]
  },
  {
   "cell_type": "markdown",
   "id": "3359d847",
   "metadata": {
    "slideshow": {
     "slide_type": "slide"
    }
   },
   "source": [
    "# Questions\n",
    "\n",
    "Material covered yesterday:\n",
    "* Boolean variables\n",
    "* Conditional statements and comparison operators\n",
    "* Loops (`for` and `while`)\n",
    "* Lists and Tuples\n",
    "* Sets and Dictionaries"
   ]
  },
  {
   "cell_type": "markdown",
   "id": "a249c58b",
   "metadata": {
    "slideshow": {
     "slide_type": "slide"
    }
   },
   "source": [
    "## Review: Lists and Tuples\n",
    "\n",
    "Lists and tuples store sequences of values:"
   ]
  },
  {
   "cell_type": "code",
   "execution_count": 1,
   "id": "661f6c98",
   "metadata": {
    "slideshow": {
     "slide_type": "fragment"
    }
   },
   "outputs": [],
   "source": [
    "my_list = [ 1, 2, 3, 4 ]\n",
    "my_tuple = ( 1, 2, 3, 4 )"
   ]
  },
  {
   "cell_type": "markdown",
   "id": "a7d8ee06",
   "metadata": {
    "slideshow": {
     "slide_type": "fragment"
    }
   },
   "source": [
    "What are the differences between lists and tuples?"
   ]
  },
  {
   "cell_type": "markdown",
   "id": "6d758e1d",
   "metadata": {
    "slideshow": {
     "slide_type": "fragment"
    }
   },
   "source": [
    "* Lists are _mutable_ (they can be modified)\n",
    "* Tuples are _immutable_ (they cannot be modified)"
   ]
  },
  {
   "cell_type": "markdown",
   "id": "5b9fc6c1",
   "metadata": {
    "slideshow": {
     "slide_type": "slide"
    }
   },
   "source": [
    "## Example: List modification"
   ]
  },
  {
   "cell_type": "code",
   "execution_count": 2,
   "id": "d0f50978",
   "metadata": {
    "slideshow": {
     "slide_type": "fragment"
    }
   },
   "outputs": [
    {
     "name": "stdout",
     "output_type": "stream",
     "text": [
      "[1, 2, 3, 4]\n",
      "[100, 2, 3, 100, -4]\n"
     ]
    }
   ],
   "source": [
    "print(my_list)\n",
    "\n",
    "# modify list:\n",
    "my_list[-1] = 100\n",
    "my_list[0] = 100\n",
    "my_list.append(-4)\n",
    "\n",
    "# printn modified list\n",
    "print(my_list)"
   ]
  },
  {
   "cell_type": "markdown",
   "id": "917e823d",
   "metadata": {
    "slideshow": {
     "slide_type": "slide"
    }
   },
   "source": [
    "## Review: Sets and Dictionaries\n",
    "\n",
    "* Sets store an unordered collection of unique values\n",
    "* Dictionaries associate values with a set of unique keys"
   ]
  },
  {
   "cell_type": "code",
   "execution_count": 3,
   "id": "53c0a5ba",
   "metadata": {
    "slideshow": {
     "slide_type": "fragment"
    }
   },
   "outputs": [
    {
     "name": "stdout",
     "output_type": "stream",
     "text": [
      "{'B', 'A', 'C', 'D'}\n",
      "{'A': 1, 'B': 11, 'C': 12, 'D': 0}\n"
     ]
    }
   ],
   "source": [
    "my_set = { 'A', 'B', 'C', 'D', 'C'}\n",
    "my_dict = { 'A' : 1, 'B' : 11, 'C' : 12, 'D' : 0}\n",
    "\n",
    "print(my_set)\n",
    "print(my_dict)"
   ]
  },
  {
   "cell_type": "markdown",
   "id": "67bdf5aa",
   "metadata": {
    "slideshow": {
     "slide_type": "slide"
    }
   },
   "source": [
    "* Lists cannot be keys in a dictionary or values in a set because they are immutable"
   ]
  },
  {
   "cell_type": "code",
   "execution_count": 4,
   "id": "462fdcba",
   "metadata": {
    "slideshow": {
     "slide_type": "fragment"
    }
   },
   "outputs": [
    {
     "ename": "TypeError",
     "evalue": "unhashable type: 'list'",
     "output_type": "error",
     "traceback": [
      "\u001b[0;31m---------------------------------------------------------------------------\u001b[0m",
      "\u001b[0;31mTypeError\u001b[0m                                 Traceback (most recent call last)",
      "\u001b[0;32m/tmp/ipykernel_27813/296782444.py\u001b[0m in \u001b[0;36m<module>\u001b[0;34m\u001b[0m\n\u001b[0;32m----> 1\u001b[0;31m \u001b[0millegal_set\u001b[0m \u001b[0;34m=\u001b[0m \u001b[0;34m{\u001b[0m \u001b[0;34m[\u001b[0m\u001b[0;36m1\u001b[0m\u001b[0;34m,\u001b[0m\u001b[0;36m2\u001b[0m\u001b[0;34m,\u001b[0m\u001b[0;36m3\u001b[0m\u001b[0;34m]\u001b[0m\u001b[0;34m,\u001b[0m \u001b[0;34m[\u001b[0m\u001b[0;36m1\u001b[0m\u001b[0;34m,\u001b[0m\u001b[0;36m2\u001b[0m\u001b[0;34m]\u001b[0m\u001b[0;34m,\u001b[0m \u001b[0;34m[\u001b[0m\u001b[0;36m1\u001b[0m\u001b[0;34m,\u001b[0m\u001b[0;36m5\u001b[0m\u001b[0;34m]\u001b[0m \u001b[0;34m}\u001b[0m\u001b[0;34m\u001b[0m\u001b[0;34m\u001b[0m\u001b[0m\n\u001b[0m",
      "\u001b[0;31mTypeError\u001b[0m: unhashable type: 'list'"
     ]
    }
   ],
   "source": [
    "illegal_set = { [1,2,3], [1,2], [1,5] }"
   ]
  },
  {
   "cell_type": "code",
   "execution_count": 5,
   "id": "0d442527",
   "metadata": {
    "slideshow": {
     "slide_type": "fragment"
    }
   },
   "outputs": [],
   "source": [
    "# immutable types can be values in sets and keys in dictionaries:\n",
    "tuple_set = { (1,1), (1,2), (1,3) }\n",
    "tuple_dict = { (1,2): 'A', (2,3): 'B' }"
   ]
  },
  {
   "cell_type": "markdown",
   "id": "1a8ea841",
   "metadata": {
    "slideshow": {
     "slide_type": "slide"
    }
   },
   "source": [
    "## New Content:\n",
    "* Python functions\n",
    "* Python classes"
   ]
  },
  {
   "cell_type": "markdown",
   "id": "a7399398",
   "metadata": {
    "slideshow": {
     "slide_type": "slide"
    }
   },
   "source": [
    "## Python Functions:\n",
    "* In Mathematics, _Functions_ are transformations that map inputs to outputs\n",
    "    * In Python, functions are blocks of code that compute these transformations\n",
    "    * Functions can have inputs, outputs, or even modify variables"
   ]
  },
  {
   "cell_type": "markdown",
   "id": "d116ef45",
   "metadata": {
    "slideshow": {
     "slide_type": "fragment"
    }
   },
   "source": [
    "* We have already encountered few functions in Python, such as `print()`\n",
    "* We have also seen functions associated with lists and tuples:"
   ]
  },
  {
   "cell_type": "code",
   "execution_count": 6,
   "id": "a50d0c9e",
   "metadata": {
    "slideshow": {
     "slide_type": "fragment"
    }
   },
   "outputs": [
    {
     "name": "stdout",
     "output_type": "stream",
     "text": [
      "4\n"
     ]
    }
   ],
   "source": [
    "# len() returns the length of a tuple, list, set, str, or dict:\n",
    "my_list = [ 1, 2, 3, 4 ]\n",
    "print( len(my_list) )"
   ]
  },
  {
   "cell_type": "code",
   "execution_count": 12,
   "id": "8bbf2ad5",
   "metadata": {
    "slideshow": {
     "slide_type": "fragment"
    }
   },
   "outputs": [
    {
     "name": "stdout",
     "output_type": "stream",
     "text": [
      "[1, 2, 3, 4, 10, 10]\n"
     ]
    }
   ],
   "source": [
    "# list.append() adds a value to the end of a list\n",
    "my_list.append(10)\n",
    "print(my_list)"
   ]
  },
  {
   "cell_type": "markdown",
   "id": "28dd4d0f",
   "metadata": {
    "slideshow": {
     "slide_type": "slide"
    }
   },
   "source": [
    "## More examples of functions:"
   ]
  },
  {
   "cell_type": "code",
   "execution_count": 18,
   "id": "bb287c89",
   "metadata": {
    "slideshow": {
     "slide_type": "fragment"
    }
   },
   "outputs": [
    {
     "name": "stdout",
     "output_type": "stream",
     "text": [
      "{1, 2, 3, 5}\n"
     ]
    }
   ],
   "source": [
    "# set.add() adds a value to a set:\n",
    "my_set = {1,2,3}\n",
    "my_set.add(2)\n",
    "my_set.add(5)\n",
    "\n",
    "print(my_set)"
   ]
  },
  {
   "cell_type": "code",
   "execution_count": 19,
   "id": "e6c6a67b",
   "metadata": {
    "slideshow": {
     "slide_type": "fragment"
    }
   },
   "outputs": [
    {
     "name": "stdout",
     "output_type": "stream",
     "text": [
      "[0, 2, 1]\n"
     ]
    }
   ],
   "source": [
    "my_dict = { 'A' : 0, 'B' : 2, 'C' : 1 }\n",
    "\n",
    "# dict.values() returns the values in a dictionary:\n",
    "dict_vals = list( my_dict.values() )\n",
    "print(dict_vals)"
   ]
  },
  {
   "cell_type": "markdown",
   "id": "f7c1705c",
   "metadata": {
    "slideshow": {
     "slide_type": "slide"
    }
   },
   "source": [
    "## Writing Python Functions\n",
    "\n",
    "Functions in Python can be defined using a `def` statement:"
   ]
  },
  {
   "cell_type": "code",
   "execution_count": 20,
   "id": "ecddf464",
   "metadata": {
    "slideshow": {
     "slide_type": "fragment"
    }
   },
   "outputs": [],
   "source": [
    "# create a function to print out a greeting:\n",
    "def greet():\n",
    "    print('Hello there!')"
   ]
  },
  {
   "cell_type": "markdown",
   "id": "bdf37d71",
   "metadata": {
    "slideshow": {
     "slide_type": "fragment"
    }
   },
   "source": [
    "* The name of the function (`greet`) follows `def`\n",
    "* After the function name is list parameters in parentheses (there none in this case)\n",
    "* The function is followed by an indented block of code (the function body)\n",
    "* A function can optionally output a value using the `return` statement."
   ]
  },
  {
   "cell_type": "markdown",
   "id": "a40029ed",
   "metadata": {
    "slideshow": {
     "slide_type": "slide"
    }
   },
   "source": [
    "## Function parameters and returned values:"
   ]
  },
  {
   "cell_type": "code",
   "execution_count": null,
   "id": "bdacc0fd",
   "metadata": {
    "slideshow": {
     "slide_type": "fragment"
    }
   },
   "outputs": [],
   "source": [
    "# create a function to add two numbers:\n",
    "def add_numbers(a,b):\n",
    "    total = a + b\n",
    "    return total # <-- output of function\n",
    "\n",
    "# store the returned value of a + b in `result`:\n",
    "result = add_numbers(3,5)\n",
    "\n",
    "print(result)"
   ]
  },
  {
   "cell_type": "markdown",
   "id": "0ee7fdc3",
   "metadata": {
    "slideshow": {
     "slide_type": "fragment"
    }
   },
   "source": [
    "* The parameters (`a` and `b`) are \"temporary variables that store the values that are passed to function.\n",
    "* Returned values can be assigned to a variable when the function is called"
   ]
  },
  {
   "cell_type": "markdown",
   "id": "a5dd357c",
   "metadata": {
    "slideshow": {
     "slide_type": "slide"
    }
   },
   "source": [
    "## Exercise: Quadratic Solver\n",
    "\n",
    "Let’s write a Python function that solves for the roots of a quadratic equation of the form\n",
    "\n",
    "$$f(x) = ax^2 + bx + c$$\n",
    "\n",
    "where the coefficients $a,b,c$ are passed as parameters to the function."
   ]
  },
  {
   "cell_type": "markdown",
   "id": "2d651796",
   "metadata": {
    "slideshow": {
     "slide_type": "slide"
    }
   },
   "source": [
    "## Documenting Functions\n",
    "\n",
    "* It is important to write comments that describe what a function does.\n",
    "* We do this with special comments called _docstrings_ (`\"\"\"`...`\"\"\"`)"
   ]
  },
  {
   "cell_type": "code",
   "execution_count": 21,
   "id": "9e9962c1",
   "metadata": {
    "slideshow": {
     "slide_type": "fragment"
    }
   },
   "outputs": [],
   "source": [
    "# Short docstring for a function:\n",
    "def greet(name):\n",
    "    \"\"\" prints a greeting for the given name \"\"\"\n",
    "    print('Hello, ' + name + '!')"
   ]
  },
  {
   "cell_type": "markdown",
   "id": "f6f0124b",
   "metadata": {
    "slideshow": {
     "slide_type": "fragment"
    }
   },
   "source": [
    "* Function docstrings get printed when the `help` function is called:"
   ]
  },
  {
   "cell_type": "code",
   "execution_count": 23,
   "id": "5412565e",
   "metadata": {
    "slideshow": {
     "slide_type": "fragment"
    }
   },
   "outputs": [
    {
     "name": "stdout",
     "output_type": "stream",
     "text": [
      "Help on function greet in module __main__:\n",
      "\n",
      "greet(name)\n",
      "    prints a greeting for the given name\n",
      "\n"
     ]
    }
   ],
   "source": [
    "help(greet)"
   ]
  },
  {
   "cell_type": "markdown",
   "id": "fe5d08e9",
   "metadata": {},
   "source": [
    "# Default Arguments\n",
    "\n",
    "* Default arguments let us supply default values for parameters:"
   ]
  },
  {
   "cell_type": "code",
   "execution_count": 27,
   "id": "52c6d883",
   "metadata": {},
   "outputs": [
    {
     "name": "stdout",
     "output_type": "stream",
     "text": [
      "Hello, Albert!\n",
      "Salutations, Albert!\n"
     ]
    }
   ],
   "source": [
    "def greet(name, message=\"Hello\"):\n",
    "    \"\"\" Prints a greeting with a name and a message \"\"\"\n",
    "    print(message + ', ' + name + '!')\n",
    "\n",
    "# call greet with the default message:\n",
    "greet('Albert')\n",
    "\n",
    "# call greet with a non-default message:\n",
    "greet('Albert', 'Salutations')"
   ]
  },
  {
   "cell_type": "markdown",
   "id": "71eaae00",
   "metadata": {},
   "source": [
    "## Objects in Python\n",
    "\n",
    "* In computer programming, an _object_ is something that contains data and has prescribed behaviors.\n",
    "* In Python, every data type that we have encountered so far (`list`, `str`, `set`, etc.) is an object."
   ]
  },
  {
   "cell_type": "markdown",
   "id": "ee91d3d3",
   "metadata": {
    "slideshow": {
     "slide_type": "fragment"
    }
   },
   "source": [
    "* The data and behaviors of an object are described in something called a _class_\n",
    "* Classes are an important concept in _Object-Oriented Programming_ (OOP)"
   ]
  },
  {
   "cell_type": "code",
   "execution_count": 29,
   "id": "a0587123",
   "metadata": {
    "slideshow": {
     "slide_type": "fragment"
    }
   },
   "outputs": [
    {
     "name": "stdout",
     "output_type": "stream",
     "text": [
      "<class 'str'>\n",
      "<class 'list'>\n",
      "<class 'set'>\n"
     ]
    }
   ],
   "source": [
    "print(type('Hello World'))\n",
    "print(type([1,2,3,4]))\n",
    "print(type({'A','B','C'}))"
   ]
  },
  {
   "cell_type": "markdown",
   "id": "6c5ec4b1",
   "metadata": {
    "slideshow": {
     "slide_type": "slide"
    }
   },
   "source": [
    "## Python Classes\n",
    "\n",
    "* Classes serve as a kind of _blueprint_ for objects.\n",
    "* We can define our own classes in Python as follows:\n",
    "* Classes typically represent real-world objects, concepts, or services."
   ]
  },
  {
   "cell_type": "markdown",
   "id": "fe721aff",
   "metadata": {
    "slideshow": {
     "slide_type": "fragment"
    }
   },
   "source": [
    "* Using classes to abstract away concepts, data, and behaviors can simplify the complexity of large codebases\n",
    "* Many Python packages employ classes to abstract away the details of computations, functionality provided, etc."
   ]
  },
  {
   "cell_type": "markdown",
   "id": "ba7ecad1",
   "metadata": {
    "slideshow": {
     "slide_type": "slide"
    }
   },
   "source": [
    "## Example: Writing a `Dog` class:\n"
   ]
  },
  {
   "cell_type": "code",
   "execution_count": 30,
   "id": "632ae866",
   "metadata": {
    "slideshow": {
     "slide_type": "fragment"
    }
   },
   "outputs": [],
   "source": [
    "class Dog:\n",
    "    \"\"\" This class represents a pet dog \"\"\"\n",
    "       \n",
    "    def __init__(self, dog_name):\n",
    "        \"\"\" Constructs a Dog instance with given name \"\"\"\n",
    "        self.name = dog_name"
   ]
  },
  {
   "cell_type": "markdown",
   "id": "ed91190f",
   "metadata": {
    "slideshow": {
     "slide_type": "fragment"
    }
   },
   "source": [
    "* Inside the class body, we can define the behaviors of objects by writing functions\n",
    "* Functions defined in a class are sometimes called _methods_\n",
    "* All methods should begin with `self` as the first parameter"
   ]
  },
  {
   "cell_type": "markdown",
   "id": "7b1aa10d",
   "metadata": {
    "slideshow": {
     "slide_type": "fragment"
    }
   },
   "source": [
    "* Python classes have a special _constructor_ method, which always has the name `__init__`.\n",
    "    * The constructor is a function used for creating instances of a class\n",
    "    * Inside the constructor, we can create variables associated with an instance (`self.name`)\n",
    "    * Variables associated with an object instance are called _instance variables_."
   ]
  },
  {
   "cell_type": "markdown",
   "id": "3dd07712",
   "metadata": {
    "slideshow": {
     "slide_type": "slide"
    }
   },
   "source": [
    "## Constructing Objects"
   ]
  },
  {
   "cell_type": "code",
   "execution_count": 32,
   "id": "9776ee1f",
   "metadata": {
    "slideshow": {
     "slide_type": "fragment"
    }
   },
   "outputs": [],
   "source": [
    "class Dog:\n",
    "    \"\"\" This class represents a pet dog \"\"\"\n",
    "       \n",
    "    def __init__(self, dog_name):\n",
    "        \"\"\" Constructs a Dog instance with given name \"\"\"\n",
    "        self.name = dog_name"
   ]
  },
  {
   "cell_type": "code",
   "execution_count": 34,
   "id": "e7a666d4",
   "metadata": {
    "slideshow": {
     "slide_type": "fragment"
    }
   },
   "outputs": [],
   "source": [
    "# construct two different Dog objects:\n",
    "my_dog = Dog('Snoopy')\n",
    "my_other_dog = Dog('Fido')"
   ]
  },
  {
   "cell_type": "code",
   "execution_count": 35,
   "id": "f23775c0",
   "metadata": {
    "slideshow": {
     "slide_type": "fragment"
    }
   },
   "outputs": [
    {
     "name": "stdout",
     "output_type": "stream",
     "text": [
      "Snoopy Fido\n",
      "Snoopy Rover\n"
     ]
    }
   ],
   "source": [
    "# print the names of the dogs:\n",
    "print(my_dog.name, my_other_dog.name)\n",
    "\n",
    "# assign the name of one dog to:\n",
    "my_other_dog.name = 'Rover'\n",
    "\n",
    "print(my_dog.name, my_other_dog.name)"
   ]
  },
  {
   "cell_type": "code",
   "execution_count": 36,
   "id": "42b81060",
   "metadata": {
    "slideshow": {
     "slide_type": "slide"
    }
   },
   "outputs": [],
   "source": [
    "class Dog:\n",
    "    \"\"\" This class represents a pet dog \"\"\"\n",
    "\n",
    "    def __init__(self, dog_name, dog_age=1):\n",
    "        \"\"\" Constructs a Dog instance with given name \"\"\"\n",
    "        self.name = dog_name\n",
    "        self.age = dog_age\n",
    "        self.tricks = []\n",
    "\n",
    "    def human_years_age(self):\n",
    "        \"\"\" returns age in human-scale years (7x age) \"\"\"\n",
    "        return 7 * self.age\n",
    "\n",
    "    def add_trick(self, trick):\n",
    "        \"\"\" Adds a trick to this dog's routine of tricks \"\"\"\n",
    "        self.tricks.append(trick)\n",
    "\n",
    "    def do_tricks(self):\n",
    "        \"\"\" Performs this dog's routine of tricks \"\"\"\n",
    "        for trick in self.tricks:\n",
    "            print(self.name, ':', trick)"
   ]
  },
  {
   "cell_type": "code",
   "execution_count": null,
   "id": "3735947e",
   "metadata": {
    "slideshow": {
     "slide_type": "slide"
    }
   },
   "outputs": [],
   "source": [
    "# create a dog named Buddy:\n",
    "my_dog = Dog('Buddy', 2)\n",
    "\n",
    "# print dog name and age:\n",
    "print('Name:', my_dog.name)\n",
    "print('Age:', my_dog.age)\n",
    "\n",
    "# print age in human years:\n",
    "print('Age in human-scale years:', my_dog.human_years_age())\n",
    "\n",
    "# add some tricks:\n",
    "my_dog.add_trick('Sit')\n",
    "my_dog.add_trick('Shake')\n",
    "my_dog.add_trick('Roll Over')\n",
    "\n",
    "# perform all added tricks:\n",
    "my_dog.do_tricks()"
   ]
  },
  {
   "cell_type": "markdown",
   "id": "57d4261f",
   "metadata": {
    "slideshow": {
     "slide_type": "slide"
    }
   },
   "source": [
    "### Recommended Reading:\n",
    "* Scientific Computing with Numpy and Scipy\n",
    "\n",
    "If possible, try to do the exercises.\n",
    "Bring your questions to our next meeting on Monday."
   ]
  },
  {
   "cell_type": "code",
   "execution_count": null,
   "id": "1103c476",
   "metadata": {},
   "outputs": [],
   "source": []
  }
 ],
 "metadata": {
  "celltoolbar": "Slideshow",
  "kernelspec": {
   "display_name": "Python 3 (ipykernel)",
   "language": "python",
   "name": "python3"
  },
  "language_info": {
   "codemirror_mode": {
    "name": "ipython",
    "version": 3
   },
   "file_extension": ".py",
   "mimetype": "text/x-python",
   "name": "python",
   "nbconvert_exporter": "python",
   "pygments_lexer": "ipython3",
   "version": "3.10.6"
  }
 },
 "nbformat": 4,
 "nbformat_minor": 5
}
