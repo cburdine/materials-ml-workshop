{
 "cells": [
  {
   "cell_type": "markdown",
   "id": "1b43aeed",
   "metadata": {
    "slideshow": {
     "slide_type": "slide"
    }
   },
   "source": [
    "# Materials+ML Workshop Day 1\n",
    "\n",
    "![logo](logo.svg)\n"
   ]
  },
  {
   "cell_type": "markdown",
   "id": "e0251ec0",
   "metadata": {
    "slideshow": {
     "slide_type": "slide"
    }
   },
   "source": [
    "## Background Survey\n",
    "\n",
    "![background survey](survey_qr.png)\n",
    "\n",
    "## [https://forms.gle/FEWqPavJJYC9VzfH7](https://forms.gle/FEWqPavJJYC9VzfH7)\n"
   ]
  },
  {
   "cell_type": "markdown",
   "id": "1fc05f39",
   "metadata": {
    "slideshow": {
     "slide_type": "slide"
    }
   },
   "source": [
    "## Survey Results: Which department are you from?\n",
    "\n",
    "![departments](departments.png)"
   ]
  },
  {
   "cell_type": "markdown",
   "id": "55199076",
   "metadata": {
    "slideshow": {
     "slide_type": "slide"
    }
   },
   "source": [
    "## Survey Results: How familiar are you with computer programming (1-10 scale)?\n",
    "\n",
    "![programming survey](programming_survey.png)"
   ]
  },
  {
   "cell_type": "markdown",
   "id": "80ae5513",
   "metadata": {
    "slideshow": {
     "slide_type": "slide"
    }
   },
   "source": [
    "## Survey Results: How familiar are you with Python (1-10 scale)?\n",
    "\n",
    "![python survey](python_survey.png)"
   ]
  },
  {
   "cell_type": "markdown",
   "id": "f5439ea8",
   "metadata": {
    "slideshow": {
     "slide_type": "slide"
    }
   },
   "source": [
    "## Survey Results: Which programming languages are you most familiar with?\n",
    "\n",
    "![languages survey](languages_survey.png)"
   ]
  },
  {
   "cell_type": "markdown",
   "id": "9df43a35",
   "metadata": {
    "slideshow": {
     "slide_type": "slide"
    }
   },
   "source": [
    "## The Workshop Online Book:\n",
    "\n",
    "### [https://cburdine.github.io/materials-ml-workshop/](https://cburdine.github.io/materials-ml-workshop/)"
   ]
  },
  {
   "cell_type": "markdown",
   "id": "b0ae5f6b",
   "metadata": {
    "slideshow": {
     "slide_type": "slide"
    }
   },
   "source": [
    "## Workshop Schedule\n",
    "\n",
    "| Session       | Date          | Content                                                       |\n",
    "| -------       | ----          | -------                                                       |\n",
    "| Day 0         | 06/16/2023 (2:30-3:30 PM) | Introduction, Setting up your Python Notebook     |\n",
    "| **Day 1**     | **06/19/2023 (2:30-3:30 PM)**| **Python Data Types**                          |\n",
    "| Day 2         | 06/20/2023 (2:30-3:30 PM) | Python Functions and Classes                      |\n",
    "| Day 3         | 06/21/2023 (2:30-3:30 PM) | Scientific Computing with Numpy and Scipy         |\n",
    "| Day 4         | 06/22/2023 (2:30-3:30 PM) | Data Manipulation and Visualization               |\n",
    "| Day 5         | 06/23/2023 (2:30-3:30 PM) | Materials Science Packages                        |\n",
    "| Day 6         | 06/26/2023 (2:30-3:30 PM) | Introduction to ML, Supervised Learning           |\n",
    "| Day 7         | 06/27/2023 (2:30-3:30 PM) | Regression Models                                 |\n",
    "| Day 8         | 06/28/2023 (2:30-3:30 PM) | Unsupervised Learning                             |\n",
    "| Day 9         | 06/29/2023 (2:30-3:30 PM) | Neural Networks                                   |\n",
    "| Day 10        | 06/30/2023 (2:30-3:30 PM) | Advanced Applications in Materials Science        |"
   ]
  },
  {
   "cell_type": "markdown",
   "id": "dc477cac",
   "metadata": {
    "slideshow": {
     "slide_type": "slide"
    }
   },
   "source": [
    "## Day 1 Agenda:\n",
    "\n",
    "* Questions about Day 0 Material\n",
    "* Review of Day 0\n",
    "* Content for today (Day 1):\n",
    "    - Boolean variables\n",
    "    - Python Logic and Flow Control\n",
    "    - Loops in Python\n",
    "    - Lists and Tuples\n",
    "    - Sets and Dictionaries"
   ]
  },
  {
   "cell_type": "markdown",
   "id": "1d7fdace",
   "metadata": {
    "slideshow": {
     "slide_type": "slide"
    }
   },
   "source": [
    "# Questions"
   ]
  },
  {
   "cell_type": "markdown",
   "id": "497a9eac",
   "metadata": {
    "slideshow": {
     "slide_type": "slide"
    }
   },
   "source": [
    "## Review of Day 0:\n",
    "\n",
    "### Python types:"
   ]
  },
  {
   "cell_type": "code",
   "execution_count": 1,
   "id": "51fe0922",
   "metadata": {
    "slideshow": {
     "slide_type": "fragment"
    }
   },
   "outputs": [
    {
     "data": {
      "text/plain": [
       "123"
      ]
     },
     "execution_count": 1,
     "metadata": {},
     "output_type": "execute_result"
    }
   ],
   "source": [
    "123  # 'int' (integer) type"
   ]
  },
  {
   "cell_type": "code",
   "execution_count": 2,
   "id": "33ce4dce",
   "metadata": {
    "slideshow": {
     "slide_type": "fragment"
    }
   },
   "outputs": [
    {
     "data": {
      "text/plain": [
       "0.0123"
      ]
     },
     "execution_count": 2,
     "metadata": {},
     "output_type": "execute_result"
    }
   ],
   "source": [
    "1.23e-2 # 'float' (floating point decimal) type"
   ]
  },
  {
   "cell_type": "code",
   "execution_count": 3,
   "id": "c0f921f8",
   "metadata": {
    "slideshow": {
     "slide_type": "fragment"
    }
   },
   "outputs": [
    {
     "data": {
      "text/plain": [
       "(1.2+3.4j)"
      ]
     },
     "execution_count": 3,
     "metadata": {},
     "output_type": "execute_result"
    }
   ],
   "source": [
    "1.2 + 3.4j # 'complex' (complex number type)"
   ]
  },
  {
   "cell_type": "markdown",
   "id": "34ba3267",
   "metadata": {
    "slideshow": {
     "slide_type": "slide"
    }
   },
   "source": [
    "### Arithmetic in Python:\n",
    "\n",
    "$$ 3 \\cdot \\left( \\frac{20}{5}\\right)^{3} - (0.125) \\cdot \\sqrt[4]{64} $$"
   ]
  },
  {
   "cell_type": "code",
   "execution_count": 21,
   "id": "df6a6ba7",
   "metadata": {
    "slideshow": {
     "slide_type": "fragment"
    }
   },
   "outputs": [
    {
     "data": {
      "text/plain": [
       "191.64644660940672"
      ]
     },
     "execution_count": 21,
     "metadata": {},
     "output_type": "execute_result"
    }
   ],
   "source": [
    "(3 * (20 / 5)**3) - (0.125 * 64**(1/4))"
   ]
  },
  {
   "cell_type": "markdown",
   "id": "345656a4",
   "metadata": {
    "slideshow": {
     "slide_type": "slide"
    }
   },
   "source": [
    "* The string type (`str`) in Python:"
   ]
  },
  {
   "cell_type": "code",
   "execution_count": 22,
   "id": "2f331972",
   "metadata": {
    "slideshow": {
     "slide_type": "fragment"
    }
   },
   "outputs": [
    {
     "data": {
      "text/plain": [
       "'Hello'"
      ]
     },
     "execution_count": 22,
     "metadata": {},
     "output_type": "execute_result"
    }
   ],
   "source": [
    "'Hello' # strings are text enclosed in single quotes ('...')"
   ]
  },
  {
   "cell_type": "code",
   "execution_count": 23,
   "id": "ce54994e",
   "metadata": {
    "slideshow": {
     "slide_type": "fragment"
    }
   },
   "outputs": [
    {
     "name": "stdout",
     "output_type": "stream",
     "text": [
      "<class 'str'>\n"
     ]
    }
   ],
   "source": [
    "print(type('Hello')) # prints the type of a python object"
   ]
  },
  {
   "cell_type": "code",
   "execution_count": 24,
   "id": "1edecd6d",
   "metadata": {
    "slideshow": {
     "slide_type": "fragment"
    }
   },
   "outputs": [
    {
     "data": {
      "text/plain": [
       "'HelloWorld'"
      ]
     },
     "execution_count": 24,
     "metadata": {},
     "output_type": "execute_result"
    }
   ],
   "source": [
    "# The `+` operator concatenates two strings:\n",
    "'Hello' + 'World'"
   ]
  },
  {
   "cell_type": "markdown",
   "id": "f1dfae18",
   "metadata": {
    "slideshow": {
     "slide_type": "slide"
    }
   },
   "source": [
    "### Variables in Python:\n",
    "\n",
    "Variables are named Python objects. We assign values to variables using the `=` operator:"
   ]
  },
  {
   "cell_type": "code",
   "execution_count": 25,
   "id": "27b2261f",
   "metadata": {
    "slideshow": {
     "slide_type": "fragment"
    }
   },
   "outputs": [],
   "source": [
    "number_1 = 1234\n",
    "number_2 = 5.67\n",
    "another_variable = 'some text'"
   ]
  },
  {
   "cell_type": "markdown",
   "id": "ec472b3b",
   "metadata": {
    "slideshow": {
     "slide_type": "slide"
    }
   },
   "source": [
    "* Assignment operator (`=`) behavior:"
   ]
  },
  {
   "cell_type": "code",
   "execution_count": 26,
   "id": "18759a86",
   "metadata": {
    "slideshow": {
     "slide_type": "fragment"
    }
   },
   "outputs": [
    {
     "name": "stdout",
     "output_type": "stream",
     "text": [
      "1239.67\n"
     ]
    }
   ],
   "source": [
    "number_3 = number_1 + number_2\n",
    "print(number_3)"
   ]
  },
  {
   "cell_type": "code",
   "execution_count": 27,
   "id": "480a8564",
   "metadata": {
    "slideshow": {
     "slide_type": "fragment"
    }
   },
   "outputs": [
    {
     "name": "stdout",
     "output_type": "stream",
     "text": [
      "1\n",
      "2\n",
      "1\n"
     ]
    }
   ],
   "source": [
    "count = 0         # creates a variable called 'count'\n",
    "count = count + 1 # adds 1 to count\n",
    "print(count)\n",
    "\n",
    "count += 1        # also adds 1 to count\n",
    "print(count)\n",
    "\n",
    "count -= 1        # decreases count by 1\n",
    "print(count)"
   ]
  },
  {
   "cell_type": "markdown",
   "id": "a115d546",
   "metadata": {
    "slideshow": {
     "slide_type": "slide"
    }
   },
   "source": [
    "## New Content:\n",
    "\n",
    "- Boolean variables\n",
    "- Python Logic and Flow Control\n",
    "- Loops in Python\n",
    "- Lists and Tuples\n",
    "- Sets and Dictionaries"
   ]
  },
  {
   "cell_type": "markdown",
   "id": "b17f4549",
   "metadata": {
    "slideshow": {
     "slide_type": "slide"
    }
   },
   "source": [
    "### Boolean Variables\n",
    "\n",
    "* Boolean variables store a logical value (True or False)\n",
    "* In Python, Boolean variables are of the `bool` type"
   ]
  },
  {
   "cell_type": "code",
   "execution_count": 30,
   "id": "13d16bd7",
   "metadata": {
    "slideshow": {
     "slide_type": "fragment"
    }
   },
   "outputs": [],
   "source": [
    "# create some Boolean variables\n",
    "bool_a = True\n",
    "bool_b = False"
   ]
  },
  {
   "cell_type": "code",
   "execution_count": 31,
   "id": "7bf09ffd",
   "metadata": {
    "slideshow": {
     "slide_type": "fragment"
    }
   },
   "outputs": [
    {
     "name": "stdout",
     "output_type": "stream",
     "text": [
      "True False\n",
      "<class 'bool'> <class 'bool'>\n"
     ]
    }
   ],
   "source": [
    "# print out the type of these variables:\n",
    "print(bool_a, bool_b)\n",
    "print(type(bool_a), type(bool_b))"
   ]
  },
  {
   "cell_type": "markdown",
   "id": "63a6636e",
   "metadata": {
    "slideshow": {
     "slide_type": "fragment"
    }
   },
   "source": [
    "* We can perform logical `and` `or`, and `not` operations with `bool` variables"
   ]
  },
  {
   "cell_type": "markdown",
   "id": "5603b110",
   "metadata": {
    "slideshow": {
     "slide_type": "slide"
    }
   },
   "source": [
    "## `and` and `or` operations:"
   ]
  },
  {
   "cell_type": "code",
   "execution_count": 66,
   "id": "81f58ec3",
   "metadata": {
    "slideshow": {
     "slide_type": "fragment"
    }
   },
   "outputs": [
    {
     "name": "stdout",
     "output_type": "stream",
     "text": [
      "False\n",
      "False\n",
      "False\n",
      "True\n"
     ]
    }
   ],
   "source": [
    "# behavior of the `and` operator:\n",
    "print(False and False)\n",
    "print(False and True)\n",
    "print(True and False)\n",
    "print(True and True)"
   ]
  },
  {
   "cell_type": "code",
   "execution_count": 68,
   "id": "88e7838f",
   "metadata": {
    "slideshow": {
     "slide_type": "fragment"
    }
   },
   "outputs": [
    {
     "name": "stdout",
     "output_type": "stream",
     "text": [
      "False\n",
      "True\n",
      "True\n",
      "True\n"
     ]
    }
   ],
   "source": [
    "# behavior of the `or` operator:\n",
    "print(False or False)\n",
    "print(False or True)\n",
    "print(True or False)\n",
    "print(True or True)"
   ]
  },
  {
   "cell_type": "markdown",
   "id": "896ff0a2",
   "metadata": {
    "slideshow": {
     "slide_type": "slide"
    }
   },
   "source": [
    "## The `not` operation:"
   ]
  },
  {
   "cell_type": "code",
   "execution_count": 36,
   "id": "ec343898",
   "metadata": {
    "slideshow": {
     "slide_type": "fragment"
    }
   },
   "outputs": [
    {
     "name": "stdout",
     "output_type": "stream",
     "text": [
      "True\n",
      "False\n"
     ]
    }
   ],
   "source": [
    "# behavior of the `not` operator:\n",
    "print(not False)\n",
    "print(not True)"
   ]
  },
  {
   "cell_type": "markdown",
   "id": "4f82a2c7",
   "metadata": {
    "slideshow": {
     "slide_type": "slide"
    }
   },
   "source": [
    "* Logic operations with `bool` variables can be nested in parentheses:"
   ]
  },
  {
   "cell_type": "code",
   "execution_count": 40,
   "id": "b7011f33",
   "metadata": {
    "slideshow": {
     "slide_type": "fragment"
    }
   },
   "outputs": [
    {
     "name": "stdout",
     "output_type": "stream",
     "text": [
      "False\n"
     ]
    }
   ],
   "source": [
    "# create boolean variables:\n",
    "bool_a = True\n",
    "bool_b = False\n",
    "bool_c = False\n",
    "\n",
    "# evaluate nested expression:\n",
    "print((not bool_a) and ((not bool_b) or bool_c))"
   ]
  },
  {
   "cell_type": "markdown",
   "id": "a9a9d6f7",
   "metadata": {
    "slideshow": {
     "slide_type": "slide"
    }
   },
   "source": [
    "## Comparison Operations:\n",
    "\n",
    "* The result of comparing two numbers is a `bool` type.\n",
    "* The following comparison operators are supported in Python:\n",
    "    * Less than ($a < b$): `a < b`\n",
    "    * Less than or equal to ($a \\le b$): `a <= b`\n",
    "    * Greater than ($a > b$): `a > b`\n",
    "    * Greater than or equal to ($a \\ge b$): `a >= b`\n",
    "    * Equal to ($a = b$): `a == b`\n",
    "    * Not equal to ($a \\neq b$): `a != b`"
   ]
  },
  {
   "cell_type": "markdown",
   "id": "1bb081f0",
   "metadata": {
    "slideshow": {
     "slide_type": "slide"
    }
   },
   "source": [
    "## Comparison Examples:"
   ]
  },
  {
   "cell_type": "code",
   "execution_count": 41,
   "id": "514887ca",
   "metadata": {
    "slideshow": {
     "slide_type": "fragment"
    }
   },
   "outputs": [
    {
     "name": "stdout",
     "output_type": "stream",
     "text": [
      "False\n",
      "True\n",
      "False\n",
      "True\n"
     ]
    }
   ],
   "source": [
    "# create some numerical variables:\n",
    "x = 0.25\n",
    "y = -3\n",
    "z = 20\n",
    "z_2 = 20.0\n",
    "\n",
    "# simple comparisons:\n",
    "print(x < y)\n",
    "print(y < z)\n",
    "print(x == y)\n",
    "print(z >= z_2)"
   ]
  },
  {
   "cell_type": "markdown",
   "id": "9a79c004",
   "metadata": {
    "slideshow": {
     "slide_type": "slide"
    }
   },
   "source": [
    "# `if` and `if`/`else` blocks:\n",
    "* We can conditionally execute a block of code based on a `bool` variable or expression.\n",
    "* The simplest kind of conditional statement is an `if` block, which only executes if the condition is `True`:"
   ]
  },
  {
   "cell_type": "code",
   "execution_count": 73,
   "id": "dc600137",
   "metadata": {
    "slideshow": {
     "slide_type": "skip"
    }
   },
   "outputs": [],
   "source": [
    "condition = False\n",
    "body = None"
   ]
  },
  {
   "cell_type": "code",
   "execution_count": 74,
   "id": "65d183f9",
   "metadata": {
    "slideshow": {
     "slide_type": "fragment"
    }
   },
   "outputs": [],
   "source": [
    "# syntax of if statements:\n",
    "if condition:\n",
    "    body"
   ]
  },
  {
   "cell_type": "markdown",
   "id": "0ef23a8d",
   "metadata": {
    "slideshow": {
     "slide_type": "slide"
    }
   },
   "source": [
    "* Example of an `if` statement: checking if the denominator in division is zero."
   ]
  },
  {
   "cell_type": "code",
   "execution_count": 54,
   "id": "03c62d5a",
   "metadata": {
    "slideshow": {
     "slide_type": "fragment"
    }
   },
   "outputs": [
    {
     "name": "stdout",
     "output_type": "stream",
     "text": [
      "0.0\n"
     ]
    }
   ],
   "source": [
    "numerator = 1.0\n",
    "denominator = 0.0\n",
    "\n",
    "# set quotient to a default value:\n",
    "quotient = 0.0\n",
    "\n",
    "# perform division if denominator is nonzero:\n",
    "if denominator != 0:\n",
    "    quotient = numerator / denominator\n",
    "\n",
    "# print quotient:\n",
    "print(quotient)"
   ]
  },
  {
   "cell_type": "markdown",
   "id": "58f309a7",
   "metadata": {
    "slideshow": {
     "slide_type": "slide"
    }
   },
   "source": [
    "* We can also do the same thing with an `if`/`else` block:"
   ]
  },
  {
   "cell_type": "code",
   "execution_count": 55,
   "id": "153e222c",
   "metadata": {
    "slideshow": {
     "slide_type": "fragment"
    }
   },
   "outputs": [
    {
     "name": "stdout",
     "output_type": "stream",
     "text": [
      "0.0\n"
     ]
    }
   ],
   "source": [
    "numerator = 1.0\n",
    "denominator = 0.0\n",
    "\n",
    "# perform division if denominator is nonzero:\n",
    "if denominator != 0:\n",
    "    quotient = numerator / denominator\n",
    "else:\n",
    "    quotient = 0.0\n",
    "\n",
    "# print quotient:\n",
    "print(quotient)"
   ]
  },
  {
   "cell_type": "markdown",
   "id": "eacfd7d8",
   "metadata": {
    "slideshow": {
     "slide_type": "slide"
    }
   },
   "source": [
    "* We can chain together multiple blocks in an `if`/`elif`/`else` blocks:"
   ]
  },
  {
   "cell_type": "code",
   "execution_count": 58,
   "id": "9f3cc292",
   "metadata": {
    "slideshow": {
     "slide_type": "fragment"
    }
   },
   "outputs": [
    {
     "name": "stdout",
     "output_type": "stream",
     "text": [
      "Value is positive.\n"
     ]
    }
   ],
   "source": [
    "# initialize a numeric value:\n",
    "value = 100.0\n",
    "\n",
    "# print out the sign of x:\n",
    "if value < 0:\n",
    "    print('Value is negative.')\n",
    "elif value == 0:\n",
    "    print('Value is zero.')\n",
    "else:\n",
    "    print('Value is positive.')"
   ]
  },
  {
   "cell_type": "markdown",
   "id": "1bee8e8d",
   "metadata": {
    "slideshow": {
     "slide_type": "slide"
    }
   },
   "source": [
    "* We can also nest `if` statements:"
   ]
  },
  {
   "cell_type": "code",
   "execution_count": 65,
   "id": "a0cf2c55",
   "metadata": {
    "slideshow": {
     "slide_type": "fragment"
    }
   },
   "outputs": [
    {
     "name": "stdout",
     "output_type": "stream",
     "text": [
      "x lies at the origin\n",
      "x lies within [-1,1]\n"
     ]
    }
   ],
   "source": [
    "# initialize x\n",
    "x = 0.0\n",
    "\n",
    "# check if x lies inside [-1,1]\n",
    "if -1 < x < 1:\n",
    "    \n",
    "    # check if x lies at the origin:\n",
    "    if x == 0:\n",
    "        print('x lies at the origin')\n",
    "    \n",
    "    print('x lies within [-1,1]')"
   ]
  },
  {
   "cell_type": "markdown",
   "id": "d8903d40",
   "metadata": {
    "slideshow": {
     "slide_type": "slide"
    }
   },
   "source": [
    "# Exercise: Classifying Chemical Compounds\n",
    "\n",
    "* [Exercise 1 from the \"Logic and Flow Control\" section](https://cburdine.github.io/materials-ml-workshop/python/python_logic.html#exercises)\n"
   ]
  },
  {
   "cell_type": "markdown",
   "id": "96b6ee16",
   "metadata": {
    "slideshow": {
     "slide_type": "slide"
    }
   },
   "source": [
    "# Loops\n",
    "\n",
    "* Loops are used to repeatedly execute a block of code until a condition is met.\n",
    "* Python supports two main kinds of loops: `while` loops and `for` loops.\n",
    "* The body of a loop is indented (with a single tab)"
   ]
  },
  {
   "cell_type": "markdown",
   "id": "e9498dac",
   "metadata": {
    "slideshow": {
     "slide_type": "slide"
    }
   },
   "source": [
    "# `while` loops:\n",
    "\n",
    "* `while` loops execute the body as long as a condition is met"
   ]
  },
  {
   "cell_type": "code",
   "execution_count": 81,
   "id": "6304a61c",
   "metadata": {
    "slideshow": {
     "slide_type": "fragment"
    }
   },
   "outputs": [],
   "source": [
    "# syntax of a while loop:\n",
    "while condition:\n",
    "    body"
   ]
  },
  {
   "cell_type": "markdown",
   "id": "a334af06",
   "metadata": {
    "slideshow": {
     "slide_type": "slide"
    }
   },
   "source": [
    "* `while` loop example:"
   ]
  },
  {
   "cell_type": "code",
   "execution_count": 80,
   "id": "36b7396b",
   "metadata": {
    "slideshow": {
     "slide_type": "fragment"
    }
   },
   "outputs": [
    {
     "name": "stdout",
     "output_type": "stream",
     "text": [
      "step: 0\n",
      "step: 1\n",
      "step: 2\n",
      "step: 3\n",
      "step: 4\n",
      "Done\n"
     ]
    }
   ],
   "source": [
    "# initialize a step counter:\n",
    "step = 0\n",
    "\n",
    "# execute the `while` loop:\n",
    "while step < 5:\n",
    "\n",
    "    # print step:\n",
    "    print('step:', step)\n",
    "    \n",
    "    # increment step:\n",
    "    step = step + 1\n",
    "\n",
    "# print \"Done\" upon completion of the loop:\n",
    "print('Done')"
   ]
  },
  {
   "cell_type": "markdown",
   "id": "fbe7f19e",
   "metadata": {
    "slideshow": {
     "slide_type": "slide"
    }
   },
   "source": [
    "# `for` loops:\n",
    "\n",
    "* provides a concise way for iterating over a sequence of values\n",
    "* To use a range of consecutive integers, Python has the `range` keyword:"
   ]
  },
  {
   "cell_type": "code",
   "execution_count": 84,
   "id": "39bf4c6a",
   "metadata": {
    "slideshow": {
     "slide_type": "skip"
    }
   },
   "outputs": [],
   "source": [
    "sequence = []"
   ]
  },
  {
   "cell_type": "code",
   "execution_count": 85,
   "id": "f691a9f8",
   "metadata": {
    "slideshow": {
     "slide_type": "fragment"
    }
   },
   "outputs": [],
   "source": [
    "# syntax of a while loop:\n",
    "for item in sequence:\n",
    "    body"
   ]
  },
  {
   "cell_type": "markdown",
   "id": "704e5da2",
   "metadata": {
    "slideshow": {
     "slide_type": "slide"
    }
   },
   "source": [
    "* Example: using `for` loops with the `range` function\n",
    "    - `range(n)` iterates over the sequence 0,1,2,...,n-2,n-1\n",
    "    - `range(m,n)` iterates over the sequence m,m+1,...,n-2,n-1"
   ]
  },
  {
   "cell_type": "code",
   "execution_count": 88,
   "id": "100907a8",
   "metadata": {
    "slideshow": {
     "slide_type": "fragment"
    }
   },
   "outputs": [
    {
     "name": "stdout",
     "output_type": "stream",
     "text": [
      "value of i: 0\n",
      "value of i: 1\n",
      "value of i: 2\n",
      "value of i: 3\n",
      "value of i: 4\n"
     ]
    }
   ],
   "source": [
    "# iterate over i = 1,2,...,4\n",
    "for i in range(5):\n",
    "    print('value of i:',i)"
   ]
  },
  {
   "cell_type": "markdown",
   "id": "30160744",
   "metadata": {
    "slideshow": {
     "slide_type": "slide"
    }
   },
   "source": [
    "## Exercise:  Computing the factorial\n",
    "\n",
    "* Compute the factorial of an integer $n$:\n",
    "\n",
    "$$n! = n(n-1)(n-2)...(2)(1)$$"
   ]
  },
  {
   "cell_type": "markdown",
   "id": "72efb022",
   "metadata": {
    "slideshow": {
     "slide_type": "slide"
    }
   },
   "source": [
    "## Lists and Tuples in Python\n",
    "\n",
    "* Lists and tuples are useful for storing a sequence of values\n",
    "* Lists are comma-separated values enclosed by square brackets (`[`...`]`)\n",
    "* Tuples are similar, but enclosed by parentheses (`(`...`)`)"
   ]
  },
  {
   "cell_type": "code",
   "execution_count": 91,
   "id": "62473c56",
   "metadata": {
    "slideshow": {
     "slide_type": "fragment"
    }
   },
   "outputs": [],
   "source": [
    "# example of a list:\n",
    "my_list = [ 1, 2, 3, 4, 5 ]\n",
    "\n",
    "# example of a tuple:\n",
    "my_tuple = (1, 2, 3, 4, 5)"
   ]
  },
  {
   "cell_type": "markdown",
   "id": "c0f8e9bd",
   "metadata": {
    "slideshow": {
     "slide_type": "slide"
    }
   },
   "source": [
    "Lists and tuples can be constructed from a sequence of values using the `list` and `tuple` functions:"
   ]
  },
  {
   "cell_type": "code",
   "execution_count": 98,
   "id": "ee79a3d7",
   "metadata": {
    "slideshow": {
     "slide_type": "fragment"
    }
   },
   "outputs": [
    {
     "name": "stdout",
     "output_type": "stream",
     "text": [
      "[0, 1, 2, 3, 4, 5]\n",
      "(0, 1, 2, 3, 4, 5)\n"
     ]
    }
   ],
   "source": [
    "# construct list and tuple from a `range`:\n",
    "range_list = list(range(6))\n",
    "range_tuple = tuple(range(6))\n",
    "\n",
    "# print list and tuple:\n",
    "print(range_list)\n",
    "print(range_tuple)"
   ]
  },
  {
   "cell_type": "markdown",
   "id": "7c9e6b64",
   "metadata": {
    "slideshow": {
     "slide_type": "slide"
    }
   },
   "source": [
    "# Indexing:\n",
    "\n",
    "* We can access elements at index `n` using the syntax `my_list[n]`/`my_tuple[n]`\n",
    "* The index of the first element is `0`, the second is `1`, etc.\n",
    "* Negative indexes `n` start at the end of the list (`-1` is the last element)"
   ]
  },
  {
   "cell_type": "code",
   "execution_count": 99,
   "id": "5d12b89d",
   "metadata": {
    "slideshow": {
     "slide_type": "fragment"
    }
   },
   "outputs": [
    {
     "name": "stdout",
     "output_type": "stream",
     "text": [
      "0 1 2\n",
      "0 1 2\n",
      "4\n",
      "4\n"
     ]
    }
   ],
   "source": [
    "# initialize list/tuple example:\n",
    "list_1  = [ 0, 1, 2, 3, 4 ]\n",
    "tuple_1 = ( 0, 1, 2, 3, 4 )\n",
    "\n",
    "# access tuples and lists:\n",
    "print(list_1[0], list_1[1], list_1[2])\n",
    "print(tuple_1[0], tuple_1[1], tuple_1[2])\n",
    "\n",
    "# access end of tuple:\n",
    "print(list_1[-1])\n",
    "print(tuple_1[-1])"
   ]
  },
  {
   "cell_type": "markdown",
   "id": "a5071229",
   "metadata": {
    "slideshow": {
     "slide_type": "slide"
    }
   },
   "source": [
    "## Lists versus Tuples:\n",
    "\n",
    "* Lists and tuples differ because Lists are _mutable_ (their elements can be changed)\n",
    "* Tuples are _immutable_ (their elements cannot be changed)"
   ]
  },
  {
   "cell_type": "code",
   "execution_count": 100,
   "id": "7b2c4fb8",
   "metadata": {
    "slideshow": {
     "slide_type": "fragment"
    }
   },
   "outputs": [
    {
     "name": "stdout",
     "output_type": "stream",
     "text": [
      "[1, 200, 3, 4, 500]\n"
     ]
    }
   ],
   "source": [
    "my_list = [1,2,3,4]\n",
    "\n",
    "# modify the second element of my_list:\n",
    "my_list[1] = 200\n",
    "\n",
    "# append a value to my_list:\n",
    "my_list.append(500)\n",
    "\n",
    "# print the modified list:\n",
    "print(my_list)"
   ]
  },
  {
   "cell_type": "markdown",
   "id": "9b8df496",
   "metadata": {
    "slideshow": {
     "slide_type": "slide"
    }
   },
   "source": [
    "## Sets in Python\n",
    "\n",
    "* Unlike, lists and tuples, Python sets deal with _unordered data_\n",
    "* Sets are a collection of unique elements (i.e. mathematical sets)\n",
    "* To create a set in Python, use curly braces (`{`...`}`)"
   ]
  },
  {
   "cell_type": "code",
   "execution_count": 101,
   "id": "70dffeb6",
   "metadata": {
    "slideshow": {
     "slide_type": "fragment"
    }
   },
   "outputs": [
    {
     "name": "stdout",
     "output_type": "stream",
     "text": [
      "{'A', 'C', 'F', 'B'}\n"
     ]
    }
   ],
   "source": [
    "# create a set (duplicate elements will be removed):\n",
    "example_set = {'A', 'B', 'C', 'A', 'F', 'B'}\n",
    "\n",
    "# print the set:\n",
    "print(example_set)"
   ]
  },
  {
   "cell_type": "markdown",
   "id": "44ca3ece",
   "metadata": {
    "slideshow": {
     "slide_type": "slide"
    }
   },
   "source": [
    "## Set operations:\n",
    "\n",
    "* Python sets support the `union`, `intersection`, and `difference` operations:\n",
    "    * `union`: values in either set\n",
    "    * `intersection` values in both sets\n",
    "    * `difference`: values in first set but not in the second set"
   ]
  },
  {
   "cell_type": "code",
   "execution_count": 103,
   "id": "ee1a189e",
   "metadata": {
    "slideshow": {
     "slide_type": "fragment"
    }
   },
   "outputs": [
    {
     "name": "stdout",
     "output_type": "stream",
     "text": [
      "{'Pauling', 'Fermi', 'Planck', 'Pauli', 'Curie', 'Bohr', 'Berzelius'}\n",
      "{'Curie', 'Bohr'}\n",
      "{'Pauling', 'Berzelius'}\n"
     ]
    }
   ],
   "source": [
    "# Create sets of physicists and chemists:\n",
    "chemists = { 'Bohr', 'Curie', 'Pauling', 'Berzelius' }\n",
    "physicists = { 'Planck', 'Bohr', 'Pauli', 'Curie', 'Fermi' }\n",
    "\n",
    "# print out the result of a set union:\n",
    "# (i.e. people who are chemists or physicists):\n",
    "print(chemists.union(physicists))\n",
    "\n",
    "# print the result of a set intersection:\n",
    "# (i.e. people who are chemists and physicists):\n",
    "print(chemists.intersection(physicists))\n",
    "\n",
    "# print the result of a set difference:\n",
    "# (i.e. people who are chemists but not physicists):\n",
    "print(chemists.difference(physicists))"
   ]
  },
  {
   "cell_type": "markdown",
   "id": "1d2e44b3",
   "metadata": {
    "slideshow": {
     "slide_type": "slide"
    }
   },
   "source": [
    "## Python Dictionaries\n",
    "\n",
    "* Python Dictionaries are an extension of sets that associate values with a unique set of keys\n",
    "* The syntax for creating dictionaries is similar to sets, but with a colon (`:`) separating key-value pairs"
   ]
  },
  {
   "cell_type": "code",
   "execution_count": 106,
   "id": "e1e6b8e9",
   "metadata": {
    "slideshow": {
     "slide_type": "fragment"
    }
   },
   "outputs": [
    {
     "name": "stdout",
     "output_type": "stream",
     "text": [
      "{'name': 'John von Neumann', 'age': 40, 'occupation': 'Mathematician', 'birthday': ('March', 15, 1995)}\n"
     ]
    }
   ],
   "source": [
    "# create a dictionary representing a person:\n",
    "person = {\n",
    "    'name' : 'John von Neumann',\n",
    "    'age' : 40,\n",
    "    'occupation' : 'Mathematician',\n",
    "    'birthday' : ('March', 15, 1995)\n",
    "}\n",
    "\n",
    "# print the dictionary:\n",
    "print(person)"
   ]
  },
  {
   "cell_type": "code",
   "execution_count": 109,
   "id": "6cd97e5d",
   "metadata": {
    "slideshow": {
     "slide_type": "slide"
    }
   },
   "outputs": [
    {
     "name": "stdout",
     "output_type": "stream",
     "text": [
      "John von Neumann\n",
      "('March', 15, 1995)\n",
      "Physicist\n",
      "New Jersey\n"
     ]
    }
   ],
   "source": [
    "# create a dictionary representing a person:\n",
    "person = {\n",
    "    'name' : 'John von Neumann',\n",
    "    'age' : 40,\n",
    "    'occupation' : 'Mathematician',\n",
    "    'birthday' : ('March', 15, 1995)\n",
    "}\n",
    "\n",
    "# print the value of the 'name' key:\n",
    "print(person['name'])\n",
    "\n",
    "# print the value of the 'birthday' key:\n",
    "print(person['birthday'])\n",
    "\n",
    "# update the value of the 'occupation key':\n",
    "person['occupation'] = 'Physicist'\n",
    "print(person['occupation'])\n",
    "\n",
    "# add the new key 'city' with value 'New Jersey':\n",
    "person['city'] = 'New Jersey'\n",
    "print(person['city'])"
   ]
  },
  {
   "cell_type": "markdown",
   "id": "f88dc284",
   "metadata": {
    "slideshow": {
     "slide_type": "slide"
    }
   },
   "source": [
    "# Exercise: Scheduling\n",
    "\n",
    "* [Exercise 1 from \"Sets and Dictionaries\"](https://cburdine.github.io/materials-ml-workshop/data_types/sets_and_dicts.html#exercises)"
   ]
  },
  {
   "cell_type": "markdown",
   "id": "e698747a",
   "metadata": {
    "slideshow": {
     "slide_type": "fragment"
    }
   },
   "source": [
    "* If time: [Exercise 2 from \"Sets and Dictionaries\"](https://cburdine.github.io/materials-ml-workshop/data_types/sets_and_dicts.html#exercises)"
   ]
  },
  {
   "cell_type": "markdown",
   "id": "790208c0",
   "metadata": {
    "slideshow": {
     "slide_type": "slide"
    }
   },
   "source": [
    "# Recommended reading for tomorrow:\n",
    "* Python Functions and Classes\n",
    "\n",
    "If possible, try to do the exercises.\n",
    "\n",
    "Bring your questions to our next meeting tomorrow!"
   ]
  },
  {
   "cell_type": "code",
   "execution_count": null,
   "id": "b2b3c1a5",
   "metadata": {},
   "outputs": [],
   "source": []
  }
 ],
 "metadata": {
  "celltoolbar": "Slideshow",
  "kernelspec": {
   "display_name": "Python 3 (ipykernel)",
   "language": "python",
   "name": "python3"
  },
  "language_info": {
   "codemirror_mode": {
    "name": "ipython",
    "version": 3
   },
   "file_extension": ".py",
   "mimetype": "text/x-python",
   "name": "python",
   "nbconvert_exporter": "python",
   "pygments_lexer": "ipython3",
   "version": "3.10.6"
  }
 },
 "nbformat": 4,
 "nbformat_minor": 5
}
