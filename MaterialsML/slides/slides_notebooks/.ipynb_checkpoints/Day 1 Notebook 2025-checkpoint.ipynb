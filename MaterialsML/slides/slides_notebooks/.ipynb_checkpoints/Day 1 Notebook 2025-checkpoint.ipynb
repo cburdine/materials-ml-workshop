{
 "cells": [
  {
   "cell_type": "markdown",
   "id": "4e8e0619-aa13-4cdd-9766-9daefa5e5486",
   "metadata": {
    "editable": true,
    "slideshow": {
     "slide_type": ""
    },
    "tags": []
   },
   "source": [
    "# Day 1 Notebook"
   ]
  },
  {
   "cell_type": "code",
   "execution_count": 1,
   "id": "e67d28da-f4c2-4d76-bef6-56b17b6ac68c",
   "metadata": {
    "editable": true,
    "slideshow": {
     "slide_type": ""
    },
    "tags": []
   },
   "outputs": [
    {
     "name": "stdout",
     "output_type": "stream",
     "text": [
      "Hello world!\n"
     ]
    }
   ],
   "source": [
    "print('Hello world!')"
   ]
  },
  {
   "cell_type": "code",
   "execution_count": 2,
   "id": "3f0d0c98-15ec-4a39-9293-8e63dce20fda",
   "metadata": {
    "editable": true,
    "slideshow": {
     "slide_type": ""
    },
    "tags": []
   },
   "outputs": [
    {
     "name": "stdout",
     "output_type": "stream",
     "text": [
      "7\n",
      "-4\n",
      "2.0\n",
      "21\n",
      "3.1622776601683795\n"
     ]
    }
   ],
   "source": [
    "print(3 + 4)\n",
    "print(3 - 7)\n",
    "print(10 / 5)\n",
    "print(3 * 7)\n",
    "print(10 ** 0.5)"
   ]
  },
  {
   "cell_type": "code",
   "execution_count": 3,
   "id": "fb2d14de-445b-4414-8206-dae83957c179",
   "metadata": {
    "editable": true,
    "slideshow": {
     "slide_type": ""
    },
    "tags": []
   },
   "outputs": [
    {
     "data": {
      "text/plain": [
       "4.795831523312719"
      ]
     },
     "execution_count": 3,
     "metadata": {},
     "output_type": "execute_result"
    }
   ],
   "source": [
    "(20 + 3) ** (1/2) # sqrt(23)"
   ]
  },
  {
   "cell_type": "markdown",
   "id": "3bc3dc7c-03b7-4001-bf4a-fe70192f66da",
   "metadata": {},
   "source": [
    "## Types"
   ]
  },
  {
   "cell_type": "code",
   "execution_count": 2,
   "id": "f49cbe83-99dc-4a35-bc89-4eb58799130b",
   "metadata": {
    "editable": true,
    "slideshow": {
     "slide_type": ""
    },
    "tags": []
   },
   "outputs": [
    {
     "name": "stdout",
     "output_type": "stream",
     "text": [
      "282475249\n"
     ]
    }
   ],
   "source": [
    "print(7**10)"
   ]
  },
  {
   "cell_type": "code",
   "execution_count": 5,
   "id": "2baae4cf-662c-42a9-8c8b-f2336da8f611",
   "metadata": {
    "editable": true,
    "slideshow": {
     "slide_type": ""
    },
    "tags": []
   },
   "outputs": [
    {
     "data": {
      "text/plain": [
       "4.795831523312719"
      ]
     },
     "execution_count": 5,
     "metadata": {},
     "output_type": "execute_result"
    }
   ],
   "source": [
    "23 ** 0.5"
   ]
  },
  {
   "cell_type": "code",
   "execution_count": 6,
   "id": "680ec65d-ace5-4090-8e67-384eb2d65bc9",
   "metadata": {},
   "outputs": [
    {
     "data": {
      "text/plain": [
       "int"
      ]
     },
     "execution_count": 6,
     "metadata": {},
     "output_type": "execute_result"
    }
   ],
   "source": [
    "type(23)"
   ]
  },
  {
   "cell_type": "code",
   "execution_count": 7,
   "id": "b624a85f-a59f-457d-a6a5-8b9bdb72e732",
   "metadata": {},
   "outputs": [
    {
     "data": {
      "text/plain": [
       "int"
      ]
     },
     "execution_count": 7,
     "metadata": {},
     "output_type": "execute_result"
    }
   ],
   "source": [
    "type(1)"
   ]
  },
  {
   "cell_type": "code",
   "execution_count": 8,
   "id": "97794ffa-268c-4963-b82c-3601dfaf7560",
   "metadata": {
    "editable": true,
    "slideshow": {
     "slide_type": ""
    },
    "tags": []
   },
   "outputs": [
    {
     "data": {
      "text/plain": [
       "str"
      ]
     },
     "execution_count": 8,
     "metadata": {},
     "output_type": "execute_result"
    }
   ],
   "source": [
    "type('Hello world')"
   ]
  },
  {
   "cell_type": "code",
   "execution_count": 9,
   "id": "788374d6-2403-4ba6-8031-91679b829aac",
   "metadata": {},
   "outputs": [
    {
     "data": {
      "text/plain": [
       "(6.123233995736766e-17+1j)"
      ]
     },
     "execution_count": 9,
     "metadata": {},
     "output_type": "execute_result"
    }
   ],
   "source": [
    "(-1)**0.5"
   ]
  },
  {
   "cell_type": "markdown",
   "id": "6bf02a14-b58d-4571-b357-fab25aecde15",
   "metadata": {},
   "source": [
    "## Comments"
   ]
  },
  {
   "cell_type": "code",
   "execution_count": null,
   "id": "36dd400e-8caf-4051-9cde-479a1dc8d608",
   "metadata": {
    "editable": true,
    "slideshow": {
     "slide_type": ""
    },
    "tags": []
   },
   "outputs": [],
   "source": [
    "for _ in range(1000):\n",
    "    n += (-1)**(n) * 1/(2*n + 1)"
   ]
  },
  {
   "cell_type": "code",
   "execution_count": 10,
   "id": "33e12816-9eb7-45e9-9d60-6c30cb7df5fa",
   "metadata": {
    "editable": true,
    "slideshow": {
     "slide_type": ""
    },
    "tags": []
   },
   "outputs": [
    {
     "name": "stdout",
     "output_type": "stream",
     "text": [
      "3.2837384837384844\n",
      "3.1415926535\n"
     ]
    }
   ],
   "source": [
    "\"\"\"\n",
    "    This is the Taylor series expansion of 4*arctan(1)\n",
    "    which is used to approximate the value of pi\n",
    "\n",
    "    I could put an essay's worth of comments here in\n",
    "    this Docstring.\n",
    "\"\"\"\n",
    "print(4 * (1 - 1/3 + 1/5 - 1/7 + 1/9 - 1/11 + 1/13))\n",
    "\n",
    "# This is (almost) the exact value of pi\n",
    "print(3.1415926535)"
   ]
  },
  {
   "cell_type": "markdown",
   "id": "0d81e80d-5333-4c1d-98e2-c2310bec7f61",
   "metadata": {},
   "source": [
    "## Variables"
   ]
  },
  {
   "cell_type": "code",
   "execution_count": 11,
   "id": "048b8c56-8e15-4f50-836a-cbad666fcaa7",
   "metadata": {},
   "outputs": [],
   "source": [
    "# this stores the float value of a sum of four numbers\n",
    "my_variable = 1.1 + 2.2 + 3.3 + 4.4"
   ]
  },
  {
   "cell_type": "code",
   "execution_count": 12,
   "id": "37b92cf1-40dd-44c5-b2df-29a617f7778f",
   "metadata": {},
   "outputs": [
    {
     "name": "stdout",
     "output_type": "stream",
     "text": [
      "<class 'float'>\n"
     ]
    }
   ],
   "source": [
    "print(type(my_variable))"
   ]
  },
  {
   "cell_type": "code",
   "execution_count": 13,
   "id": "c56c3666-4c23-4688-892f-e01d0c0a8910",
   "metadata": {},
   "outputs": [],
   "source": [
    "my_name = 'James T. Kirk'"
   ]
  },
  {
   "cell_type": "code",
   "execution_count": 14,
   "id": "32d305e3-117f-4852-a845-13a4d854108f",
   "metadata": {},
   "outputs": [
    {
     "name": "stdout",
     "output_type": "stream",
     "text": [
      "James T. Kirk\n"
     ]
    }
   ],
   "source": [
    "print(my_name)"
   ]
  },
  {
   "cell_type": "markdown",
   "id": "01ef2888-0796-40f8-a2fb-75785eb46131",
   "metadata": {},
   "source": [
    "## Logic and Flow Control"
   ]
  },
  {
   "cell_type": "code",
   "execution_count": 15,
   "id": "aa09e55a-8aef-449b-9409-fc15e820935e",
   "metadata": {},
   "outputs": [
    {
     "name": "stdout",
     "output_type": "stream",
     "text": [
      "True\n",
      "False\n"
     ]
    }
   ],
   "source": [
    "# Boolean variables\n",
    "print(True)\n",
    "print(False)"
   ]
  },
  {
   "cell_type": "code",
   "execution_count": 16,
   "id": "f9c9ed84-000a-48be-adcc-88f094ea68a8",
   "metadata": {},
   "outputs": [],
   "source": [
    "my_bool = True"
   ]
  },
  {
   "cell_type": "code",
   "execution_count": 17,
   "id": "cd1eb4e2-dd06-4834-8918-a995f77a5e05",
   "metadata": {},
   "outputs": [
    {
     "name": "stdout",
     "output_type": "stream",
     "text": [
      "<class 'bool'>\n"
     ]
    }
   ],
   "source": [
    "print(type(my_bool))"
   ]
  },
  {
   "cell_type": "code",
   "execution_count": 18,
   "id": "58b2d9a3-064f-4680-8e11-b90d39bb71fe",
   "metadata": {},
   "outputs": [
    {
     "name": "stdout",
     "output_type": "stream",
     "text": [
      "\"and\" operator:\n",
      "False\n",
      "False\n",
      "False\n",
      "True\n",
      "\"or\" operator:\n",
      "False\n",
      "True\n",
      "True\n",
      "True\n",
      "\"not\" operator:\n",
      "True\n",
      "False\n"
     ]
    }
   ],
   "source": [
    "# behavior of the `and` operator:\n",
    "print('\"and\" operator:')\n",
    "print(False and False)\n",
    "print(False and True)\n",
    "print(True and False)\n",
    "print(True and True)\n",
    "\n",
    "# behavior of the `or` operator:\n",
    "print('\"or\" operator:')\n",
    "print(False or False)\n",
    "print(False or True)\n",
    "print(True or False)\n",
    "print(True or True)\n",
    "\n",
    "# behavior of the `not` operator:\n",
    "print('\"not\" operator:')\n",
    "print(not False)\n",
    "print(not True)"
   ]
  },
  {
   "cell_type": "code",
   "execution_count": 19,
   "id": "3a256850-699e-4317-afe2-113f2f7e0d07",
   "metadata": {},
   "outputs": [
    {
     "name": "stdout",
     "output_type": "stream",
     "text": [
      "False\n"
     ]
    }
   ],
   "source": [
    "bool_a = True\n",
    "bool_b = False\n",
    "bool_c = True\n",
    "\n",
    "print(((not bool_a) or (bool_b and bool_c)))"
   ]
  },
  {
   "cell_type": "code",
   "execution_count": 20,
   "id": "722a0394-ef54-4551-8b30-09a866921930",
   "metadata": {},
   "outputs": [
    {
     "name": "stdout",
     "output_type": "stream",
     "text": [
      "True\n",
      "False\n",
      "True\n",
      "False\n",
      "False\n",
      "True\n"
     ]
    }
   ],
   "source": [
    "int_a = 10\n",
    "int_b = 20\n",
    "\n",
    "print(int_a < int_b)\n",
    "print(int_a > int_b)\n",
    "print(int_a <= int_b)\n",
    "print(int_a >= int_b)\n",
    "print(int_a == int_b)\n",
    "print(int_a != int_b)"
   ]
  },
  {
   "cell_type": "code",
   "execution_count": 21,
   "id": "3e6c845e-23f0-4da6-a4d5-113b0d34c1f2",
   "metadata": {},
   "outputs": [
    {
     "name": "stdout",
     "output_type": "stream",
     "text": [
      "False\n",
      "False\n"
     ]
    }
   ],
   "source": [
    "# Two ways of performing the same operation:\n",
    "print(not (int_a < int_b))\n",
    "print(int_a >= int_b)"
   ]
  },
  {
   "cell_type": "code",
   "execution_count": 22,
   "id": "b328052d-aa1f-4f5a-9cdc-0e7f9810b00e",
   "metadata": {},
   "outputs": [
    {
     "name": "stdout",
     "output_type": "stream",
     "text": [
      "Quotient: 0.0\n"
     ]
    }
   ],
   "source": [
    "# initialize variables:\n",
    "numerator = 10.0\n",
    "denominator = 0.0\n",
    "\n",
    "# initalize the quotient:\n",
    "quotient = 0.0\n",
    "\n",
    "# perform division only if the denominator is nonzero:\n",
    "if denominator != 0:\n",
    "    quotient = numerator / denominator\n",
    "\n",
    "# print the result:\n",
    "print('Quotient:', quotient)"
   ]
  },
  {
   "cell_type": "code",
   "execution_count": 23,
   "id": "a5474505-0267-46b2-89a7-60fc9f61dbfa",
   "metadata": {},
   "outputs": [
    {
     "name": "stdout",
     "output_type": "stream",
     "text": [
      "Bool expression is True\n",
      "Bool expression is True (again)\n"
     ]
    }
   ],
   "source": [
    "bool_expression = True\n",
    "\n",
    "if (bool_expression):\n",
    "    print('Bool expression is True')\n",
    "    print('Bool expression is True (again)')\n",
    "else:\n",
    "    print('Bool expression is False')\n",
    "    print('Bool expression is False (again)')"
   ]
  },
  {
   "cell_type": "code",
   "execution_count": 24,
   "id": "c89b2ddf-fecb-45b0-8bd2-a70e9415bc60",
   "metadata": {},
   "outputs": [
    {
     "name": "stdout",
     "output_type": "stream",
     "text": [
      "integer is negative\n"
     ]
    }
   ],
   "source": [
    "my_integer = -10**5\n",
    "\n",
    "if my_integer > 10000:\n",
    "    print('integer is huge!')\n",
    "elif my_integer == 0:\n",
    "    print('integer is zero')\n",
    "elif my_integer > 0:\n",
    "    print('integer is positive')\n",
    "else:\n",
    "    print('integer is negative')"
   ]
  },
  {
   "cell_type": "code",
   "execution_count": 25,
   "id": "c14fab8b-1269-4bfd-b45c-58d212c1fe43",
   "metadata": {},
   "outputs": [
    {
     "name": "stdout",
     "output_type": "stream",
     "text": [
      "Organic\n"
     ]
    }
   ],
   "source": [
    "formula = 'C8H10N4O2'\n",
    "\n",
    "if ('C' in formula) and ('H' in formula):\n",
    "    print('Organic')\n",
    "elif ('C' in formula):\n",
    "    print('Carbon-based')\n",
    "else:\n",
    "    print('Inorganic')\n"
   ]
  },
  {
   "cell_type": "markdown",
   "id": "bd9bece5-4b66-4d5b-ada1-e3025498c0e9",
   "metadata": {},
   "source": [
    "# Loops"
   ]
  },
  {
   "cell_type": "code",
   "execution_count": 26,
   "id": "913f0cb9-fb17-4a2f-ac66-1a9ad6627621",
   "metadata": {
    "editable": true,
    "slideshow": {
     "slide_type": ""
    },
    "tags": []
   },
   "outputs": [
    {
     "name": "stdout",
     "output_type": "stream",
     "text": [
      "Loop is over\n"
     ]
    }
   ],
   "source": [
    "bool_condition = True\n",
    "\n",
    "while (bool_condition):\n",
    "\n",
    "    #\n",
    "    #\n",
    "    #\n",
    "    bool_condition = False\n",
    "\n",
    "\n",
    "print('Loop is over')"
   ]
  },
  {
   "cell_type": "code",
   "execution_count": 27,
   "id": "1d03b659-bb23-4106-bae7-3d0b06a6e89f",
   "metadata": {
    "editable": true,
    "slideshow": {
     "slide_type": ""
    },
    "tags": []
   },
   "outputs": [
    {
     "name": "stdout",
     "output_type": "stream",
     "text": [
      "step: 0\n",
      "step: 1\n",
      "step: 2\n",
      "step: 3\n",
      "step: 4\n",
      "Done\n"
     ]
    }
   ],
   "source": [
    "# initialize a step counter:\n",
    "step = 0\n",
    "\n",
    "# execute the `while` loop:\n",
    "while step < 5:\n",
    "\n",
    "    # print step:\n",
    "    print('step:', step)\n",
    "    \n",
    "    # increment step:\n",
    "    step += 1\n",
    "\n",
    "# print \"Done\" upon completion of the loop:\n",
    "print('Done')"
   ]
  },
  {
   "cell_type": "code",
   "execution_count": 30,
   "id": "0c31d57b-e5f6-4d25-9aae-9f462bb1a16d",
   "metadata": {},
   "outputs": [
    {
     "name": "stdout",
     "output_type": "stream",
     "text": [
      "3\n",
      "4\n",
      "5\n",
      "6\n",
      "7\n",
      "8\n",
      "9\n"
     ]
    }
   ],
   "source": [
    "\n",
    "# item is assigned each value in the range of \n",
    "# 3 to 10 but not including 10\n",
    "for item in range(3, 10):\n",
    "    print(item)\n",
    "\n"
   ]
  },
  {
   "cell_type": "code",
   "execution_count": 31,
   "id": "9beb2439-79ae-463d-bb76-f0793c6858a2",
   "metadata": {},
   "outputs": [
    {
     "name": "stdout",
     "output_type": "stream",
     "text": [
      "3\n",
      "4\n",
      "5\n",
      "6\n",
      "7\n",
      "8\n",
      "9\n"
     ]
    }
   ],
   "source": [
    "# This is equivalent to:\n",
    "item = 3\n",
    "while item < 10:\n",
    "    print(item)\n",
    "    item += 1"
   ]
  },
  {
   "cell_type": "code",
   "execution_count": 32,
   "id": "b2391584-9ac7-4dbf-9436-7c7e51f612c4",
   "metadata": {},
   "outputs": [
    {
     "name": "stdout",
     "output_type": "stream",
     "text": [
      "12\n",
      "22\n",
      "32\n"
     ]
    }
   ],
   "source": [
    "for item in [10, 20, 30]:\n",
    "    print(item + 2)\n"
   ]
  }
 ],
 "metadata": {
  "kernelspec": {
   "display_name": "Python 3 (ipykernel)",
   "language": "python",
   "name": "python3"
  },
  "language_info": {
   "codemirror_mode": {
    "name": "ipython",
    "version": 3
   },
   "file_extension": ".py",
   "mimetype": "text/x-python",
   "name": "python",
   "nbconvert_exporter": "python",
   "pygments_lexer": "ipython3",
   "version": "3.10.12"
  }
 },
 "nbformat": 4,
 "nbformat_minor": 5
}
