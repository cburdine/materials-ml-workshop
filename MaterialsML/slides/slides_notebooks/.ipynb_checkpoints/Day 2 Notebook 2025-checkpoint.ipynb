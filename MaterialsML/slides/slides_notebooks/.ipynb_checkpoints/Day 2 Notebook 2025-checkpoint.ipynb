{
 "cells": [
  {
   "cell_type": "markdown",
   "id": "f4adcc0b-b4de-4d73-a74d-01480959aa2f",
   "metadata": {
    "editable": true,
    "slideshow": {
     "slide_type": ""
    },
    "tags": []
   },
   "source": [
    "# Day 2 Notebook"
   ]
  },
  {
   "cell_type": "code",
   "execution_count": 2,
   "id": "f1f0b547-e935-4eb7-80fa-9e6b87e937bf",
   "metadata": {},
   "outputs": [],
   "source": [
    "my_list = [ 0, 1, 2, 3.0, 'Some string' ]"
   ]
  },
  {
   "cell_type": "code",
   "execution_count": 4,
   "id": "ea8f54bd-d8cc-4394-a97c-9adafee05674",
   "metadata": {},
   "outputs": [
    {
     "name": "stdout",
     "output_type": "stream",
     "text": [
      "[0, 1, 2, 3.0, 'Some string']\n"
     ]
    }
   ],
   "source": [
    "type(my_list)\n",
    "print(my_list)"
   ]
  },
  {
   "cell_type": "code",
   "execution_count": 6,
   "id": "ec1ed732-dc00-40eb-b62f-252c80dfd22e",
   "metadata": {},
   "outputs": [
    {
     "name": "stdout",
     "output_type": "stream",
     "text": [
      "[0, 1, 2, 3, 4, 5, 6, 7, 8, 9]\n",
      "[]\n"
     ]
    }
   ],
   "source": [
    "range_of_values = list(range(10))\n",
    "empty_list = []\n",
    "\n",
    "print(range_of_values)\n",
    "print(empty_list)"
   ]
  },
  {
   "cell_type": "code",
   "execution_count": 7,
   "id": "a58e7fd7-79c0-4ba8-997b-0a76bb479621",
   "metadata": {},
   "outputs": [],
   "source": [
    "my_tuple = (1, 2, 3, 'my_string')"
   ]
  },
  {
   "cell_type": "code",
   "execution_count": 12,
   "id": "00b80e1f-6062-47be-ba68-a2d2eb8e8c75",
   "metadata": {},
   "outputs": [
    {
     "data": {
      "text/plain": [
       "tuple"
      ]
     },
     "execution_count": 12,
     "metadata": {},
     "output_type": "execute_result"
    }
   ],
   "source": [
    "empty_tuple = ()\n",
    "type(empty_tuple)"
   ]
  },
  {
   "cell_type": "markdown",
   "id": "4ec733a1-6118-4d2b-a18f-e6f863a9cd76",
   "metadata": {},
   "source": [
    "## Appending to Lists"
   ]
  },
  {
   "cell_type": "code",
   "execution_count": 15,
   "id": "5adeabe8-b5c6-4ebe-be35-239c54fe4080",
   "metadata": {},
   "outputs": [
    {
     "name": "stdout",
     "output_type": "stream",
     "text": [
      "[0, 1, 2, 3.0, 'Some string', 5]\n",
      "[0, 1, 2, 3.0, 'Some string', 5, 40, 41, 42]\n"
     ]
    }
   ],
   "source": [
    "my_list = [ 0, 1, 2, 3.0, 'Some string' ]\n",
    "\n",
    "# adds a single element to the end of a list\n",
    "my_list.append(5)\n",
    "\n",
    "print(my_list)\n",
    "\n",
    "# adds multiple elements to the end of a list\n",
    "my_list.extend([40, 41, 42])\n",
    "\n",
    "print(my_list)"
   ]
  },
  {
   "cell_type": "markdown",
   "id": "667dfcf5-9d94-47ae-8810-f34ae6e88aac",
   "metadata": {},
   "source": [
    "## Indexing and Slicing"
   ]
  },
  {
   "cell_type": "code",
   "execution_count": 19,
   "id": "d459fb30-18df-44d3-abaa-125da2d25fde",
   "metadata": {},
   "outputs": [
    {
     "name": "stdout",
     "output_type": "stream",
     "text": [
      "Some string\n",
      "3.0\n",
      "0\n",
      "42\n"
     ]
    }
   ],
   "source": [
    "print(my_list[4])\n",
    "print(my_list[3])\n",
    "print(my_list[0])\n",
    "print(my_list[-1])"
   ]
  },
  {
   "cell_type": "code",
   "execution_count": 21,
   "id": "797f3d2b-a934-42fe-bf29-3207779c1da0",
   "metadata": {},
   "outputs": [
    {
     "data": {
      "text/plain": [
       "3"
      ]
     },
     "execution_count": 21,
     "metadata": {},
     "output_type": "execute_result"
    }
   ],
   "source": [
    "my_tuple = (1, 2, 3, 'my_string')\n",
    "my_tuple[-2]"
   ]
  },
  {
   "cell_type": "code",
   "execution_count": 25,
   "id": "8eaa282f-5c4c-4705-b57e-b27d071bf0c1",
   "metadata": {},
   "outputs": [
    {
     "name": "stdout",
     "output_type": "stream",
     "text": [
      "[1, 2, 3, 4]\n",
      "(10, 11, 12, 13)\n"
     ]
    }
   ],
   "source": [
    "# initialize list and tuple examples:\n",
    "list_1 = [ 0, 1, 2, 3, 4 ]\n",
    "tuple_1 = (10, 11, 12, 13, 14)\n",
    "\n",
    "list_slice = list_1[1:]\n",
    "tuple_slice = tuple_1[:4]\n",
    "print(list_slice)\n",
    "print(tuple_slice)"
   ]
  },
  {
   "cell_type": "code",
   "execution_count": 30,
   "id": "64e3a048-e2d8-4d72-8242-0df4202fa70c",
   "metadata": {},
   "outputs": [
    {
     "name": "stdout",
     "output_type": "stream",
     "text": [
      "[0, 2, 4, 6, 8, 10, 12, 14, 16, 18]\n"
     ]
    }
   ],
   "source": [
    "numbers = list(range(20))\n",
    "even_numbers = numbers[::2]\n",
    "print(even_numbers)"
   ]
  },
  {
   "cell_type": "code",
   "execution_count": 36,
   "id": "cb41d6da-f0b6-470d-a78d-1ff1946cfbd7",
   "metadata": {},
   "outputs": [
    {
     "name": "stdout",
     "output_type": "stream",
     "text": [
      "[3, 5, 7, 9, 11]\n"
     ]
    }
   ],
   "source": [
    "my_numbers = numbers[3:12:2]\n",
    "print(my_numbers)"
   ]
  },
  {
   "cell_type": "code",
   "execution_count": 38,
   "id": "47f076f4-0e52-4812-92fa-685a3fc1f6c5",
   "metadata": {},
   "outputs": [
    {
     "name": "stdout",
     "output_type": "stream",
     "text": [
      "1\n"
     ]
    }
   ],
   "source": [
    "identity = [\n",
    "    [1, 0, 0],\n",
    "    [0, 1, 0],\n",
    "    [0, 0, 1]\n",
    "]\n",
    "\n",
    "print(identity[2][2])"
   ]
  },
  {
   "cell_type": "markdown",
   "id": "822e70ec-60ee-4434-b2fc-25cd3ff54f51",
   "metadata": {},
   "source": [
    "## Modifying a List"
   ]
  },
  {
   "cell_type": "code",
   "execution_count": 42,
   "id": "171aea16-d268-42fd-8c7b-6c2e5977b827",
   "metadata": {},
   "outputs": [
    {
     "name": "stdout",
     "output_type": "stream",
     "text": [
      "[1, 20, 3]\n"
     ]
    }
   ],
   "source": [
    "my_list = [1,2,3]\n",
    "\n",
    "my_list[1] = 20\n",
    "\n",
    "print(my_list)"
   ]
  },
  {
   "cell_type": "code",
   "execution_count": 49,
   "id": "16987ca8-5da3-43a1-8590-414bdb51eaa6",
   "metadata": {},
   "outputs": [],
   "source": [
    "my_name = 'Colin Burdine'"
   ]
  },
  {
   "cell_type": "code",
   "execution_count": 51,
   "id": "fcc43630-0841-4213-9f51-049f8e022811",
   "metadata": {},
   "outputs": [
    {
     "name": "stdout",
     "output_type": "stream",
     "text": [
      "[0, 1, 2, 4, 5]\n",
      "HelloWorld\n"
     ]
    }
   ],
   "source": [
    "list_a = list(range(3))\n",
    "list_b = list(range(4,6))\n",
    "\n",
    "str_a = 'Hello'\n",
    "str_b = 'World'\n",
    "\n",
    "print(list_a + list_b)\n",
    "print(str_a + str_b)"
   ]
  },
  {
   "cell_type": "code",
   "execution_count": 55,
   "id": "e921bb80-8cbb-421c-bd4b-9a68000a2d00",
   "metadata": {},
   "outputs": [
    {
     "name": "stdout",
     "output_type": "stream",
     "text": [
      "False\n"
     ]
    }
   ],
   "source": [
    "# tuples can be compared, but lists cannot!\n",
    "name = ('Burdine', 'Colin')\n",
    "name_2 = ('Blair', 'Enrique')\n",
    "\n",
    "print(name < name_2)"
   ]
  },
  {
   "cell_type": "code",
   "execution_count": 59,
   "id": "c881c2e9-4687-4107-b821-9b15a62bb0f1",
   "metadata": {},
   "outputs": [
    {
     "name": "stdout",
     "output_type": "stream",
     "text": [
      "3\n",
      "4\n",
      "11\n"
     ]
    }
   ],
   "source": [
    "# the len() function returns the length of a list, tuple, or string\n",
    "print(len([1,2,3]))\n",
    "print(len((3,4,5,6)))\n",
    "print(len('Hello World'))"
   ]
  },
  {
   "cell_type": "code",
   "execution_count": 60,
   "id": "4dd17af0-0f6d-4b25-ad8f-f99f996f4488",
   "metadata": {},
   "outputs": [
    {
     "name": "stdout",
     "output_type": "stream",
     "text": [
      "[1, 2, 3, 1, 2, 3, 1, 2, 3]\n"
     ]
    }
   ],
   "source": [
    "my_list = [1,2,3]\n",
    "\n",
    "repeated_list = my_list * 3\n",
    "\n",
    "print(repeated_list)"
   ]
  },
  {
   "cell_type": "markdown",
   "id": "69fc2983-6d64-4cad-a65f-4b9d4c1a4b41",
   "metadata": {},
   "source": [
    "## List Comprehension"
   ]
  },
  {
   "cell_type": "code",
   "execution_count": 63,
   "id": "4ca7f0e1-990d-4280-9dac-7d0fa6f26f21",
   "metadata": {},
   "outputs": [
    {
     "name": "stdout",
     "output_type": "stream",
     "text": [
      "[0, 1, 4, 9, 16, 25, 36, 49, 64, 81]\n"
     ]
    }
   ],
   "source": [
    "numbers = list(range(10))\n",
    "\n",
    "# this applies a transformation to numbers\n",
    "square_numbers = [ x**2 for x in numbers ]\n",
    "\n",
    "print(square_numbers)"
   ]
  },
  {
   "cell_type": "code",
   "execution_count": 66,
   "id": "64e83fb6-2237-411e-b172-08183abe6313",
   "metadata": {},
   "outputs": [],
   "source": [
    "# this will filter the list \"numbers\":\n",
    "small_numbers = [ 2*x for x in numbers if x <= 5 ]"
   ]
  },
  {
   "cell_type": "code",
   "execution_count": 67,
   "id": "81d52377-76ae-4020-962e-f8ef67518aab",
   "metadata": {},
   "outputs": [
    {
     "name": "stdout",
     "output_type": "stream",
     "text": [
      "[0, 2, 4, 6, 8, 10]\n"
     ]
    }
   ],
   "source": [
    "print(small_numbers)"
   ]
  },
  {
   "cell_type": "markdown",
   "id": "b3c1ca04-7818-400d-b325-5bc649ba6a98",
   "metadata": {},
   "source": [
    "## Exercise 1:"
   ]
  },
  {
   "cell_type": "code",
   "execution_count": 70,
   "id": "e4a5b497-106f-4496-8c1a-fb41934a9939",
   "metadata": {},
   "outputs": [],
   "source": [
    "small_primes = [2, 3, 5, 7]\n",
    "numbers = list(range(0,121))\n",
    "\n",
    "for prime in small_primes:\n",
    "    for index in range(2*prime,121,prime):\n",
    "        numbers[index] = 0\n",
    "\n",
    "primes_list = [ x for x in numbers if x > 1 ]"
   ]
  },
  {
   "cell_type": "code",
   "execution_count": 72,
   "id": "13022b83-9872-49d9-a978-aedbfee3b608",
   "metadata": {},
   "outputs": [
    {
     "name": "stdout",
     "output_type": "stream",
     "text": [
      "[2, 3, 5, 7, 11, 13, 17, 19, 23, 29, 31, 37, 41, 43, 47, 53, 59, 61, 67, 71, 73, 79, 83, 89, 97, 101, 103, 107, 109, 113]\n",
      "30\n"
     ]
    }
   ],
   "source": [
    "print(primes_list)\n",
    "print(len(primes_list))"
   ]
  },
  {
   "cell_type": "code",
   "execution_count": 74,
   "id": "e4a13914-940c-4d7f-a91e-8531f409f13a",
   "metadata": {},
   "outputs": [
    {
     "name": "stdout",
     "output_type": "stream",
     "text": [
      "{1, 3, 4, 6, 7, 8}\n",
      "{1, 3, 4, 6, 7, 8}\n"
     ]
    }
   ],
   "source": [
    "numbers = [ 1, 3, 6, 7, 3, 8, 4, 3, 6, 7 ]\n",
    "\n",
    "unique_numbers = set(numbers)\n",
    "unique_numbers_2 = { 1, 3, 6, 7, 3, 8, 4, 3, 6, 7 }\n",
    "print(unique_numbers)\n",
    "print(unique_numbers_2)"
   ]
  },
  {
   "cell_type": "code",
   "execution_count": 77,
   "id": "ebedac87-d6bb-43bb-8139-19319d2ba867",
   "metadata": {},
   "outputs": [
    {
     "name": "stdout",
     "output_type": "stream",
     "text": [
      "{(1, 2), (3, 4)}\n"
     ]
    }
   ],
   "source": [
    "tuples = [ (1,2), (1,2), (3,4) ]\n",
    "print(set(tuples))"
   ]
  },
  {
   "cell_type": "code",
   "execution_count": null,
   "id": "f875e0ed-4167-480d-bdf9-7c28f419735e",
   "metadata": {},
   "outputs": [],
   "source": [
    "chemists = { 'Bohr', 'Curie', 'Pauling', 'Berzelius' }\n",
    "physicists = { 'Planck', 'Bohr', 'Pauli', 'Curie', 'Fermi' }"
   ]
  }
 ],
 "metadata": {
  "kernelspec": {
   "display_name": "Python 3 (ipykernel)",
   "language": "python",
   "name": "python3"
  },
  "language_info": {
   "codemirror_mode": {
    "name": "ipython",
    "version": 3
   },
   "file_extension": ".py",
   "mimetype": "text/x-python",
   "name": "python",
   "nbconvert_exporter": "python",
   "pygments_lexer": "ipython3",
   "version": "3.10.12"
  }
 },
 "nbformat": 4,
 "nbformat_minor": 5
}
