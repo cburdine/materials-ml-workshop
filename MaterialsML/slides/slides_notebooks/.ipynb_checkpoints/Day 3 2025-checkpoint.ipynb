{
 "cells": [
  {
   "cell_type": "markdown",
   "id": "34f8e3e7",
   "metadata": {
    "editable": true,
    "slideshow": {
     "slide_type": "slide"
    },
    "tags": []
   },
   "source": [
    "# Materials+ML Workshop Day 3\n",
    "\n",
    "![logo](logo.svg)\n"
   ]
  },
  {
   "cell_type": "markdown",
   "id": "7572813e",
   "metadata": {
    "editable": true,
    "slideshow": {
     "slide_type": "slide"
    },
    "tags": []
   },
   "source": [
    "## Day 3 Agenda:\n",
    "\n",
    "* Questions about Day 2 Material\n",
    "* Review of Day 2"
   ]
  },
  {
   "cell_type": "markdown",
   "id": "2f48e2f1",
   "metadata": {
    "editable": true,
    "slideshow": {
     "slide_type": "fragment"
    },
    "tags": []
   },
   "source": [
    "Content for today:\n",
    "* The NumPy package:\n",
    "    * Numpy Arrays\n",
    "    * Array Operations\n",
    "    * Matrix and Vector Operations\n",
    "* The SciPy package:\n",
    "    * Scientific Constants\n",
    "    * Integration\n",
    "    * Optimization"
   ]
  },
  {
   "cell_type": "markdown",
   "id": "fe1ccbbf",
   "metadata": {
    "editable": true,
    "slideshow": {
     "slide_type": "slide"
    },
    "tags": []
   },
   "source": [
    "## Background Survey\n",
    "\n",
    "<img src=\"survey_qr_2025.png\" width=400/>\n",
    "\n",
    "## [https://forms.gle/ArUHPp2C6TdLF5dQ7](https://forms.gle/ArUHPp2C6TdLF5dQ7)\n"
   ]
  },
  {
   "cell_type": "markdown",
   "id": "ad7b71a1",
   "metadata": {
    "editable": true,
    "slideshow": {
     "slide_type": "slide"
    },
    "tags": []
   },
   "source": [
    "## The Workshop Online Book:\n",
    "\n",
    "### [https://cburdine.github.io/materials-ml-workshop/](https://cburdine.github.io/materials-ml-workshop/)"
   ]
  },
  {
   "cell_type": "markdown",
   "id": "3466e435",
   "metadata": {
    "editable": true,
    "slideshow": {
     "slide_type": "slide"
    },
    "tags": []
   },
   "source": [
    "## Tentative Week 1 Schedule:\n",
    "\n",
    "<table>\n",
    "    <tr>\n",
    "        <td>Session</td>\n",
    "        <td>Date</td>\n",
    "        <td>Content</td>\n",
    "    </tr>\n",
    "    <tr>\n",
    "        <td>Day 1</td>\n",
    "        <td>06/09/2025 (2:00-4:00 PM)</td>\n",
    "        <td>Introduction, Python Data Types</td>\n",
    "    </r>\n",
    "    <tr>\n",
    "        <td>Day 2</td>\n",
    "        <td>06/10/2025 (2:00-4:00 PM)</td>\n",
    "        <td>Python Functions and Classes</td>\n",
    "    </tr>\n",
    "    <tr>\n",
    "        <td><b>Day 3</b></td>\n",
    "        <td><b>06/11/2025 (2:00-4:00 PM)</b></td>\n",
    "        <td><b>Scientific Computing with Numpy and Scipy</b></td>\n",
    "    </tr>\n",
    "    <tr>\n",
    "        <td>Day 4</td>\n",
    "        <td>06/12/2025 (2:00-4:00 PM)</td>\n",
    "        <td>Data Manipulation and Visualization</td>\n",
    "    </tr>\n",
    "    <tr>\n",
    "        <td>Day 5</td>\n",
    "        <td>06/13/2025 (2:00-4:00 PM)</td>\n",
    "        <td>Materials Science Packages, Introduction to ML</td>\n",
    "    </tr>\n",
    "</table>"
   ]
  },
  {
   "cell_type": "markdown",
   "id": "63d72dae-1d9b-47e5-b3e1-1c961bbc2f39",
   "metadata": {
    "editable": true,
    "slideshow": {
     "slide_type": "slide"
    },
    "tags": []
   },
   "source": [
    "### Install Workshop Requirements:\n",
    "\n",
    "Make sure you have installed the [Python packages needed for this workshop](https://gist.githubusercontent.com/cburdine/cae13221fb0e1d134d88a25f01498c67/raw/5c0e14277388b5e7318940679e8905c5e847962f/requirements.txt):\n",
    "\n",
    "\n",
    "Copy the command from [cburdine.github.io/materials-ml-workshop/](http://localhost:8000/python/getting_started.html#installing-packages) in the _Getting Started_ section.\n",
    "```\n",
    "pip install -r https://gist.github.com/cburdine/.../requirements.txt\n",
    "```"
   ]
  },
  {
   "cell_type": "markdown",
   "id": "3359d847",
   "metadata": {
    "editable": true,
    "slideshow": {
     "slide_type": "slide"
    },
    "tags": []
   },
   "source": [
    "# Questions\n",
    "\n",
    "Material covered yesterday:\n",
    "* Python Data Types\n",
    "* Python Functions\n",
    "* Python Classes"
   ]
  },
  {
   "cell_type": "markdown",
   "id": "478a27bc-a843-4fb9-b5b5-779a0d80b20b",
   "metadata": {
    "editable": true,
    "slideshow": {
     "slide_type": "slide"
    },
    "tags": []
   },
   "source": [
    "# Review: Day 2"
   ]
  },
  {
   "cell_type": "markdown",
   "id": "c6613162-3c1c-42db-b4c6-8bdecad5cf27",
   "metadata": {
    "editable": true,
    "slideshow": {
     "slide_type": "subslide"
    },
    "tags": []
   },
   "source": [
    "## Lists and Tuples\n",
    "* Lists and tuples are ordered sequences of data\n",
    "* Lists are _mutable_ (they can be modified)\n",
    "* Tuples are _immutable_ (they cannot be modified)"
   ]
  },
  {
   "cell_type": "code",
   "execution_count": 10,
   "id": "7fe6f68f-7123-4f9f-86f7-947cb64945d0",
   "metadata": {
    "editable": true,
    "slideshow": {
     "slide_type": "fragment"
    },
    "tags": []
   },
   "outputs": [],
   "source": [
    "# example of a list\n",
    "my_list = [ 1, 2, 3, 4 ]"
   ]
  },
  {
   "cell_type": "code",
   "execution_count": 11,
   "id": "300db4ba-9842-4af5-b3d9-042ff89c9575",
   "metadata": {
    "editable": true,
    "slideshow": {
     "slide_type": "fragment"
    },
    "tags": []
   },
   "outputs": [],
   "source": [
    "# example of a tuple\n",
    "my_tuple = ( 1, 2, 3, 4 )"
   ]
  },
  {
   "cell_type": "markdown",
   "id": "d42e24c2-0b2a-4a23-9adb-406409d11b7a",
   "metadata": {
    "editable": true,
    "slideshow": {
     "slide_type": "subslide"
    },
    "tags": []
   },
   "source": [
    "## Sets and Dictionaries\n",
    "\n",
    "* Sets store an unordered collection of unique objects\n",
    "* Dictionaries store key-value pairs"
   ]
  },
  {
   "cell_type": "code",
   "execution_count": 13,
   "id": "586137c1-dea1-4c89-acd8-ca94f7525f7a",
   "metadata": {
    "editable": true,
    "slideshow": {
     "slide_type": "fragment"
    },
    "tags": []
   },
   "outputs": [
    {
     "name": "stdout",
     "output_type": "stream",
     "text": [
      "{'C', 'A', 'D', 'B'}\n"
     ]
    }
   ],
   "source": [
    "# example of a set\n",
    "my_set = { 'A', 'B', 'C', 'D', 'C'}\n",
    "print(my_set)"
   ]
  },
  {
   "cell_type": "code",
   "execution_count": 15,
   "id": "04214a1a-0fd1-43b6-98d6-779922caf30d",
   "metadata": {
    "editable": true,
    "slideshow": {
     "slide_type": "fragment"
    },
    "tags": []
   },
   "outputs": [
    {
     "name": "stdout",
     "output_type": "stream",
     "text": [
      "{'A': 1, 'B': 2}\n"
     ]
    }
   ],
   "source": [
    "# example of a dict\n",
    "my_dict = { 'A' : 1, 'B' : 2 }\n",
    "print(my_dict)"
   ]
  },
  {
   "cell_type": "markdown",
   "id": "7f5d7f60",
   "metadata": {
    "editable": true,
    "slideshow": {
     "slide_type": "subslide"
    },
    "tags": []
   },
   "source": [
    "## Functions\n",
    "\n",
    "* Python functions are reusable blocks of code that we can execute when it is called.\n",
    "* Similar to mathematical functions, Python functions can have inputs, outputs, or even modify variables"
   ]
  },
  {
   "cell_type": "code",
   "execution_count": 1,
   "id": "04cf98b8",
   "metadata": {
    "editable": true,
    "slideshow": {
     "slide_type": "fragment"
    },
    "tags": []
   },
   "outputs": [
    {
     "name": "stdout",
     "output_type": "stream",
     "text": [
      "8\n"
     ]
    }
   ],
   "source": [
    "# create a function to add two numbers:\n",
    "def add_numbers(a,b):\n",
    "    total = a + b\n",
    "    return total # <-- output of function\n",
    "\n",
    "# call `add_numbers` and store the output:\n",
    "result = add_numbers(3,5)\n",
    "\n",
    "print(result)"
   ]
  },
  {
   "cell_type": "markdown",
   "id": "39078a44",
   "metadata": {
    "editable": true,
    "slideshow": {
     "slide_type": "subslide"
    },
    "tags": []
   },
   "source": [
    "* Functions can also have default values:\n"
   ]
  },
  {
   "cell_type": "code",
   "execution_count": 2,
   "id": "46669491",
   "metadata": {
    "editable": true,
    "slideshow": {
     "slide_type": "fragment"
    },
    "tags": []
   },
   "outputs": [
    {
     "name": "stdout",
     "output_type": "stream",
     "text": [
      "Hello, Albert!\n",
      "Greetings, Albert!\n"
     ]
    }
   ],
   "source": [
    "def greet(name, message=\"Hello\"):\n",
    "    \"\"\" Prints a greeting with a name and a message \"\"\"\n",
    "    print(message + ', ' + name + '!')\n",
    "\n",
    "# call greet with the default message:\n",
    "greet('Albert')\n",
    "\n",
    "# call greet with a non-default message:\n",
    "greet('Albert', 'Greetings')"
   ]
  },
  {
   "cell_type": "markdown",
   "id": "fc0be945",
   "metadata": {
    "editable": true,
    "slideshow": {
     "slide_type": "subslide"
    },
    "tags": []
   },
   "source": [
    "## Python Classes\n",
    "\n",
    "* Python classes serve as a kind of \"blueprint\" for a data type\n",
    "* Instances of classes we create are called _objects_"
   ]
  },
  {
   "cell_type": "code",
   "execution_count": 2,
   "id": "87859cdd",
   "metadata": {
    "editable": true,
    "slideshow": {
     "slide_type": "fragment"
    },
    "tags": []
   },
   "outputs": [],
   "source": [
    "class Dog:\n",
    "    \"\"\" This class represents a pet dog \"\"\"\n",
    "    \n",
    "    def __init__(self, dog_name):\n",
    "        \"\"\" Constructs a Dog instance with given name \"\"\"\n",
    "        self.name = dog_name\n",
    "    \n",
    "    def bark(self):\n",
    "        \"\"\" Causes this dog to bark \"\"\"\n",
    "        print(self.name + ' says: \"Woof!\"')\n",
    "        "
   ]
  },
  {
   "cell_type": "markdown",
   "id": "a395d176-44e5-4eb3-87d4-869f38127564",
   "metadata": {
    "editable": true,
    "slideshow": {
     "slide_type": "subslide"
    },
    "tags": []
   },
   "source": [
    "* Creating Instances of classes calls the `__init__` function\n",
    "* Other methods can be called by name"
   ]
  },
  {
   "cell_type": "code",
   "execution_count": 4,
   "id": "417b6dd6",
   "metadata": {
    "editable": true,
    "slideshow": {
     "slide_type": "fragment"
    },
    "tags": []
   },
   "outputs": [
    {
     "name": "stdout",
     "output_type": "stream",
     "text": [
      "Fido says: \"Woof!\"\n"
     ]
    }
   ],
   "source": [
    "# construct a Dog object (calls __init__):\n",
    "my_dog = Dog('Snoopy')\n",
    "\n",
    "# change the `name` instance variable:\n",
    "my_dog.name = 'Fido'\n",
    "\n",
    "# call the bark() method:\n",
    "my_dog.bark()"
   ]
  },
  {
   "cell_type": "markdown",
   "id": "a17ba31e",
   "metadata": {
    "editable": true,
    "slideshow": {
     "slide_type": "slide"
    },
    "tags": []
   },
   "source": [
    "## New Content:\n",
    "\n",
    "* Installing and Importing Python Packages\n",
    "* Scientific Python packages\n",
    "    * NumPy (\"Numerical Python\")\n",
    "    * SciPy (\"Scientific Python\")"
   ]
  },
  {
   "cell_type": "markdown",
   "id": "4a56ffdc",
   "metadata": {
    "editable": true,
    "slideshow": {
     "slide_type": "slide"
    },
    "tags": []
   },
   "source": [
    "## Checking if Packages are installed\n",
    "\n",
    "* The quickest way to check if a package is installed on your system is to import it:"
   ]
  },
  {
   "cell_type": "code",
   "execution_count": 17,
   "id": "01827814",
   "metadata": {
    "editable": true,
    "slideshow": {
     "slide_type": "fragment"
    },
    "tags": []
   },
   "outputs": [],
   "source": [
    "import numpy # import the NumPy base package"
   ]
  },
  {
   "cell_type": "code",
   "execution_count": 18,
   "id": "cd4f7777",
   "metadata": {
    "editable": true,
    "slideshow": {
     "slide_type": "fragment"
    },
    "tags": []
   },
   "outputs": [],
   "source": [
    "import scipy # import the Scipy base package"
   ]
  },
  {
   "cell_type": "markdown",
   "id": "f67bc77c",
   "metadata": {
    "editable": true,
    "slideshow": {
     "slide_type": "fragment"
    },
    "tags": []
   },
   "source": [
    "* If either of these `import` statements results in an error, you will need to install the corresponding package."
   ]
  },
  {
   "cell_type": "markdown",
   "id": "94be3043",
   "metadata": {
    "editable": true,
    "slideshow": {
     "slide_type": "slide"
    },
    "tags": []
   },
   "source": [
    "## Installing Python Packages\n",
    "\n",
    "If a package is not installed on your system, you can install it using `pip` (the package installer for Python) on your system:"
   ]
  },
  {
   "cell_type": "code",
   "execution_count": 15,
   "id": "cc2b3745",
   "metadata": {
    "editable": true,
    "slideshow": {
     "slide_type": "fragment"
    },
    "tags": []
   },
   "outputs": [
    {
     "name": "stdout",
     "output_type": "stream",
     "text": [
      "Defaulting to user installation because normal site-packages is not writeable\n",
      "Requirement already satisfied: numpy in /usr/lib/python3/dist-packages (1.21.5)\n",
      "Note: you may need to restart the kernel to use updated packages.\n"
     ]
    }
   ],
   "source": [
    "pip install numpy"
   ]
  },
  {
   "cell_type": "code",
   "execution_count": 16,
   "id": "6c1970c1",
   "metadata": {
    "editable": true,
    "slideshow": {
     "slide_type": "fragment"
    },
    "tags": []
   },
   "outputs": [
    {
     "name": "stdout",
     "output_type": "stream",
     "text": [
      "Defaulting to user installation because normal site-packages is not writeable\n",
      "Requirement already satisfied: scipy in /usr/lib/python3/dist-packages (1.8.0)\n",
      "Note: you may need to restart the kernel to use updated packages.\n"
     ]
    }
   ],
   "source": [
    "pip install scipy"
   ]
  },
  {
   "cell_type": "markdown",
   "id": "10583127",
   "metadata": {
    "editable": true,
    "slideshow": {
     "slide_type": "subslide"
    },
    "tags": []
   },
   "source": [
    "* On some systems, you may need to invoke your command shell:"
   ]
  },
  {
   "cell_type": "code",
   "execution_count": 13,
   "id": "6e658703",
   "metadata": {
    "editable": true,
    "slideshow": {
     "slide_type": "fragment"
    },
    "tags": []
   },
   "outputs": [
    {
     "name": "stdout",
     "output_type": "stream",
     "text": [
      "Requirement already satisfied: numpy in /media/colin/Shared/colin/git/materials-ml-workshop-notebooks/env/lib/python3.10/site-packages (1.24.3)\r\n",
      "Requirement already satisfied: scipy in /media/colin/Shared/colin/git/materials-ml-workshop-notebooks/env/lib/python3.10/site-packages (1.10.1)\r\n"
     ]
    }
   ],
   "source": [
    "!pip install numpy scipy"
   ]
  },
  {
   "cell_type": "markdown",
   "id": "03515e95",
   "metadata": {
    "editable": true,
    "slideshow": {
     "slide_type": "slide"
    },
    "tags": []
   },
   "source": [
    "## Working with Packages \n",
    "\n",
    "* When working with a package for the first time, it is helpful to read the package's online documentation\n",
    "    * Numpy package: [https://numpy.org/doc/stable/](https://numpy.org/doc/stable/)\n",
    "    * Scipy package: [https://docs.scipy.org/doc/scipy/](https://docs.scipy.org/doc/scipy/)"
   ]
  },
  {
   "cell_type": "markdown",
   "id": "e22f86ef",
   "metadata": {
    "editable": true,
    "slideshow": {
     "slide_type": "subslide"
    },
    "tags": []
   },
   "source": [
    "![numpy documentation](numpy_docs.png)"
   ]
  },
  {
   "cell_type": "markdown",
   "id": "4a0f1f17",
   "metadata": {
    "editable": true,
    "slideshow": {
     "slide_type": "slide"
    },
    "tags": []
   },
   "source": [
    "## The NumPy Package"
   ]
  },
  {
   "cell_type": "markdown",
   "id": "bc6d80a8",
   "metadata": {
    "editable": true,
    "slideshow": {
     "slide_type": "fragment"
    },
    "tags": []
   },
   "source": [
    "* Numpy is a numerical computing package in Python\n",
    "* Numpy provides an interface to several mathematical functions\n",
    "* Numpy supports multi-dimensional arrays for fast numerical computing\n",
    "    * These arrays are instances of the `numpy.ndarray` class\n",
    "    * `ndarray`s can be used to represent vectors, matrices, tensors, etc."
   ]
  },
  {
   "cell_type": "markdown",
   "id": "feff1793",
   "metadata": {
    "editable": true,
    "slideshow": {
     "slide_type": "fragment"
    },
    "tags": []
   },
   "source": [
    "* Common practice is to import `numpy` with the alias `np` at the beginning of a program:"
   ]
  },
  {
   "cell_type": "code",
   "execution_count": 19,
   "id": "ac3ff1ae",
   "metadata": {
    "editable": true,
    "slideshow": {
     "slide_type": "fragment"
    },
    "tags": []
   },
   "outputs": [],
   "source": [
    "import numpy as np"
   ]
  },
  {
   "cell_type": "markdown",
   "id": "98f53780",
   "metadata": {
    "editable": true,
    "slideshow": {
     "slide_type": "slide"
    },
    "tags": []
   },
   "source": [
    "## The SciPy Package"
   ]
  },
  {
   "cell_type": "markdown",
   "id": "7d89309d",
   "metadata": {
    "editable": true,
    "slideshow": {
     "slide_type": "fragment"
    },
    "tags": []
   },
   "source": [
    "* Scipy provides many useful subpackages for scientific computing\n",
    "* Subpackages you may find useful include:\n",
    "    * `scipy.constants`: physical constants, unit conversions\n",
    "    * `scipy.optimize`:  functions for optimization and root finding\n",
    "    * `scipy.integrate`: functions numerical integration\n",
    "    * `scipy.stats`: statistical analysis functions\n",
    "    * `scipy.special`: special functions (e.g. Bessel functions, Ganna function, etc.)"
   ]
  },
  {
   "cell_type": "markdown",
   "id": "e3237153-fb1a-4c1d-9f92-9bda94abc851",
   "metadata": {
    "editable": true,
    "slideshow": {
     "slide_type": "slide"
    },
    "tags": []
   },
   "source": [
    "## Tutorial: The Numpy Package\n",
    "\n",
    "* Math Functions\n",
    "* Numpy Arrays\n",
    "* Array Operations\n",
    "* Linear Algebra"
   ]
  },
  {
   "cell_type": "markdown",
   "id": "6f5df303-2650-41cd-b6c7-0f1903ed4783",
   "metadata": {
    "editable": true,
    "slideshow": {
     "slide_type": "subslide"
    },
    "tags": []
   },
   "source": [
    "## Exercises: The Numpy Package\n",
    "\n",
    "* Solving a linear system\n",
    "* Eigendecomposition"
   ]
  },
  {
   "cell_type": "markdown",
   "id": "37e89ad7-597b-464f-b665-e67e5891396e",
   "metadata": {
    "editable": true,
    "slideshow": {
     "slide_type": "slide"
    },
    "tags": []
   },
   "source": [
    "## Tutorial: The Scipy Package\n",
    "* Integration\n",
    "* Optimization\n",
    "* Special Functions"
   ]
  },
  {
   "cell_type": "markdown",
   "id": "f7f2c8ca-1368-49cf-868b-05a91f198a0d",
   "metadata": {
    "editable": true,
    "slideshow": {
     "slide_type": "subslide"
    },
    "tags": []
   },
   "source": [
    "## Exercises: The Scipy Package\n",
    "\n",
    "* Resistivity of Metals\n",
    "* Modeling the Resistivity of Platinum"
   ]
  },
  {
   "cell_type": "markdown",
   "id": "abb2aad5-6972-4d18-9ae3-c8478d3794fc",
   "metadata": {
    "editable": true,
    "slideshow": {
     "slide_type": "slide"
    },
    "tags": []
   },
   "source": [
    "# Questions\n",
    "\n",
    "![logo](logo.svg)"
   ]
  },
  {
   "cell_type": "markdown",
   "id": "57d4261f",
   "metadata": {
    "editable": true,
    "slideshow": {
     "slide_type": "slide"
    },
    "tags": []
   },
   "source": [
    "## Recommended Online Book Reading:\n",
    "* Data Manipulation and Visualization\n",
    "\n",
    "Bring your questions to our next meeting tomorrow!"
   ]
  }
 ],
 "metadata": {
  "celltoolbar": "Slideshow",
  "kernelspec": {
   "display_name": "Python 3 (ipykernel)",
   "language": "python",
   "name": "python3"
  },
  "language_info": {
   "codemirror_mode": {
    "name": "ipython",
    "version": 3
   },
   "file_extension": ".py",
   "mimetype": "text/x-python",
   "name": "python",
   "nbconvert_exporter": "python",
   "pygments_lexer": "ipython3",
   "version": "3.10.12"
  }
 },
 "nbformat": 4,
 "nbformat_minor": 5
}
