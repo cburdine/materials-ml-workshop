{
 "cells": [
  {
   "cell_type": "markdown",
   "id": "34f8e3e7",
   "metadata": {
    "editable": true,
    "slideshow": {
     "slide_type": "slide"
    },
    "tags": []
   },
   "source": [
    "# Materials+ML Workshop Day 2\n",
    "\n",
    "![logo](logo.svg)\n"
   ]
  },
  {
   "cell_type": "markdown",
   "id": "7572813e",
   "metadata": {
    "editable": true,
    "slideshow": {
     "slide_type": "slide"
    },
    "tags": []
   },
   "source": [
    "## Day 2 Agenda:\n",
    "\n",
    "* Questions about Day 1 Material\n",
    "* Review of Day 1\n",
    "* _Python Data Types_:\n",
    "    * Lists\n",
    "    * Tuples\n",
    "    * Sets\n",
    "    * Dictionaries\n",
    "* Python Functions\n",
    "* Python Classes\n",
    "* Object-Oriented Programming"
   ]
  },
  {
   "cell_type": "markdown",
   "id": "6ed6d4d4-3ba1-4447-be5c-e277f38e90e6",
   "metadata": {
    "editable": true,
    "slideshow": {
     "slide_type": "slide"
    },
    "tags": []
   },
   "source": [
    "## Background Survey\n",
    "\n",
    "<img src=\"survey_qr_2025.png\" width=400/>\n",
    "\n",
    "## [https://forms.gle/ArUHPp2C6TdLF5dQ7](https://forms.gle/ArUHPp2C6TdLF5dQ7)\n"
   ]
  },
  {
   "cell_type": "markdown",
   "id": "ad7b71a1",
   "metadata": {
    "editable": true,
    "slideshow": {
     "slide_type": "slide"
    },
    "tags": []
   },
   "source": [
    "## The Workshop Online Book:\n",
    "\n",
    "### [https://cburdine.github.io/materials-ml-workshop/](https://cburdine.github.io/materials-ml-workshop/)"
   ]
  },
  {
   "cell_type": "markdown",
   "id": "3466e435",
   "metadata": {
    "editable": true,
    "slideshow": {
     "slide_type": "slide"
    },
    "tags": []
   },
   "source": [
    "## Tentative Week 1 Schedule:\n",
    "\n",
    "<table>\n",
    "    <tr>\n",
    "        <td>Session</td>\n",
    "        <td>Date</td>\n",
    "        <td>Content</td>\n",
    "    </tr>\n",
    "    <tr>\n",
    "        <td>Day 1</td>\n",
    "        <td>06/09/2025 (2:00-4:00 PM)</td>\n",
    "        <td>Introduction, <b>Python Data Types</b></td>\n",
    "    </r>\n",
    "    <tr>\n",
    "        <td><b>Day 2</b></td>\n",
    "        <td><b>06/10/2025 (2:00-4:00 PM)</b></td>\n",
    "        <td><b>Python Functions and Classes</b></td>\n",
    "    </tr>\n",
    "    <tr>\n",
    "        <td>Day 3</td>\n",
    "        <td>06/11/2025 (2:00-4:00 PM)</td>\n",
    "        <td>Scientific Computing with Numpy and Scipy</td>\n",
    "    </tr>\n",
    "    <tr>\n",
    "        <td>Day 4</td>\n",
    "        <td>06/12/2025 (2:00-4:00 PM)</td>\n",
    "        <td>Data Manipulation and Visualization</td>\n",
    "    </tr>\n",
    "    <tr>\n",
    "        <td>Day 5</td>\n",
    "        <td>06/13/2025 (2:00-4:00 PM)</td>\n",
    "        <td>Materials Science Packages, Introduction to ML</td>\n",
    "    </tr>\n",
    "</table>"
   ]
  },
  {
   "cell_type": "markdown",
   "id": "871a4b79-e003-4c1c-8136-bfc7c78ba8c4",
   "metadata": {
    "editable": true,
    "slideshow": {
     "slide_type": "slide"
    },
    "tags": []
   },
   "source": [
    "### Install Workshop Requirements:\n",
    "\n",
    "Make sure you have installed the [Python packages needed for this workshop](https://gist.githubusercontent.com/cburdine/cae13221fb0e1d134d88a25f01498c67/raw/5c0e14277388b5e7318940679e8905c5e847962f/requirements.txt):\n",
    "\n",
    "\n",
    "Copy the command from [cburdine.github.io/materials-ml-workshop/](http://localhost:8000/python/getting_started.html#installing-packages) in the _Getting Started_ section.\n",
    "```\n",
    "pip install -r https://gist.github.com/cburdine/.../requirements.txt\n",
    "```"
   ]
  },
  {
   "cell_type": "markdown",
   "id": "3359d847",
   "metadata": {
    "editable": true,
    "slideshow": {
     "slide_type": "slide"
    },
    "tags": []
   },
   "source": [
    "# Questions\n",
    "\n",
    "Material covered yesterday:\n",
    "* Python Types\n",
    "* Variables\n",
    "* Boolean variables\n",
    "* Conditional statements and comparison operators\n",
    "* Loops (`for` and `while`)"
   ]
  },
  {
   "cell_type": "markdown",
   "id": "7f5d7f60",
   "metadata": {
    "editable": true,
    "slideshow": {
     "slide_type": "slide"
    },
    "tags": []
   },
   "source": [
    "# Review: Day 1"
   ]
  },
  {
   "cell_type": "markdown",
   "id": "d02c5923-b432-4763-8969-d2718d3cb8c7",
   "metadata": {
    "editable": true,
    "slideshow": {
     "slide_type": "subslide"
    },
    "tags": []
   },
   "source": [
    "## Variables"
   ]
  },
  {
   "cell_type": "code",
   "execution_count": 1,
   "id": "2341a2a9-db99-47d7-9195-5871bd2f94ab",
   "metadata": {
    "editable": true,
    "slideshow": {
     "slide_type": "fragment"
    },
    "tags": []
   },
   "outputs": [],
   "source": [
    "pi_approximation = 3.14 # float variable\n",
    "number_of_steps = 100   # int variable\n",
    "name = 'James T. Kirk'  # str variable"
   ]
  },
  {
   "cell_type": "markdown",
   "id": "adc24b28-86bf-4c2b-92d9-f45fad0eaf66",
   "metadata": {
    "editable": true,
    "slideshow": {
     "slide_type": "subslide"
    },
    "tags": []
   },
   "source": [
    "## Conditional Statements"
   ]
  },
  {
   "cell_type": "code",
   "execution_count": 2,
   "id": "1655a082-57fe-4e53-b7d4-116bb63fd292",
   "metadata": {
    "editable": true,
    "slideshow": {
     "slide_type": "fragment"
    },
    "tags": []
   },
   "outputs": [
    {
     "name": "stdout",
     "output_type": "stream",
     "text": [
      "5.0\n"
     ]
    }
   ],
   "source": [
    "numerator = 10.0\n",
    "denominator = 2.0\n",
    "quotient = 0.0\n",
    "\n",
    "# perform division only if the denominator is nonzero:\n",
    "if denominator != 0:\n",
    "    quotient = numerator / denominator\n",
    "\n",
    "print(quotient)"
   ]
  },
  {
   "cell_type": "markdown",
   "id": "0483be2e-a306-45ce-979c-ba30590c27dd",
   "metadata": {
    "editable": true,
    "slideshow": {
     "slide_type": "subslide"
    },
    "tags": []
   },
   "source": [
    "### `if`/`elif`/`else` Statements"
   ]
  },
  {
   "cell_type": "code",
   "execution_count": 3,
   "id": "92961faf-89ab-4705-a6dc-5e61befd03a7",
   "metadata": {
    "editable": true,
    "slideshow": {
     "slide_type": "fragment"
    },
    "tags": []
   },
   "outputs": [
    {
     "name": "stdout",
     "output_type": "stream",
     "text": [
      "Value is positive.\n"
     ]
    }
   ],
   "source": [
    "# initialize a numeric value:\n",
    "value = 100.0\n",
    "\n",
    "# print out the sign of the value:\n",
    "if value < 0:\n",
    "    print('Value is negative.')\n",
    "elif value == 0:\n",
    "    print('Value is zero.')\n",
    "else:\n",
    "    print('Value is positive.')"
   ]
  },
  {
   "cell_type": "markdown",
   "id": "b2f55c07-1715-4ff5-bcff-87baf0705e4a",
   "metadata": {
    "editable": true,
    "slideshow": {
     "slide_type": "subslide"
    },
    "tags": []
   },
   "source": [
    "## While loop"
   ]
  },
  {
   "cell_type": "code",
   "execution_count": 4,
   "id": "3f2380ac-c852-48a5-98dd-fc30735fe722",
   "metadata": {
    "editable": true,
    "slideshow": {
     "slide_type": "fragment"
    },
    "tags": []
   },
   "outputs": [
    {
     "name": "stdout",
     "output_type": "stream",
     "text": [
      "1\n",
      "2\n",
      "3\n",
      "Done\n"
     ]
    }
   ],
   "source": [
    "step = 1\n",
    "\n",
    "# execute the `while` loop:\n",
    "while step < 4:\n",
    "    \n",
    "    print(step)\n",
    "    step += 1\n",
    "\n",
    "# print \"Done\" upon completion of the loop:\n",
    "print('Done')"
   ]
  },
  {
   "cell_type": "markdown",
   "id": "f7d2babd-f844-494a-ab53-13d64ae6ff3a",
   "metadata": {
    "editable": true,
    "slideshow": {
     "slide_type": "subslide"
    },
    "tags": []
   },
   "source": [
    "## For loop"
   ]
  },
  {
   "cell_type": "code",
   "execution_count": 5,
   "id": "10338648-cffa-462f-b5ba-f8587a6a6c41",
   "metadata": {
    "editable": true,
    "slideshow": {
     "slide_type": "fragment"
    },
    "tags": []
   },
   "outputs": [
    {
     "name": "stdout",
     "output_type": "stream",
     "text": [
      "1\n",
      "2\n",
      "3\n",
      "Done\n"
     ]
    }
   ],
   "source": [
    "for step in range(1,4):\n",
    "    print(step)\n",
    "\n",
    "print('Done')"
   ]
  },
  {
   "cell_type": "markdown",
   "id": "6f8e7327-2d9f-41e8-a6a3-fc9c8cdc5b33",
   "metadata": {
    "editable": true,
    "slideshow": {
     "slide_type": "subslide"
    },
    "tags": []
   },
   "source": [
    "* We can also use `for` loops with sequences of items:"
   ]
  },
  {
   "cell_type": "code",
   "execution_count": 6,
   "id": "21ce3e68-13c0-45c6-b54f-e1dbc942b3ad",
   "metadata": {
    "editable": true,
    "slideshow": {
     "slide_type": "fragment"
    },
    "tags": []
   },
   "outputs": [
    {
     "name": "stdout",
     "output_type": "stream",
     "text": [
      "Orange\n",
      "Kiwi\n",
      "Mango\n"
     ]
    }
   ],
   "source": [
    "for fruit in ['Orange', 'Kiwi', 'Mango']:\n",
    "    print(fruit)"
   ]
  },
  {
   "cell_type": "markdown",
   "id": "183dd08c-26fd-4a17-8dbc-d6da8da8b847",
   "metadata": {
    "editable": true,
    "slideshow": {
     "slide_type": "fragment"
    },
    "tags": []
   },
   "source": [
    "* The data enclosed in `[`...`]` is called a list."
   ]
  },
  {
   "cell_type": "markdown",
   "id": "e924b2aa-40d0-4c89-bcca-296dea2b2a9b",
   "metadata": {
    "editable": true,
    "slideshow": {
     "slide_type": "slide"
    },
    "tags": []
   },
   "source": [
    "## Tutorial: Python Data Types\n",
    "\n",
    "* Lists and tuples store sequences of items:"
   ]
  },
  {
   "cell_type": "code",
   "execution_count": 7,
   "id": "96748ca5",
   "metadata": {
    "editable": true,
    "slideshow": {
     "slide_type": "fragment"
    },
    "tags": []
   },
   "outputs": [],
   "source": [
    "# example of a list\n",
    "my_list = [ 1, 2, 3, 4 ]"
   ]
  },
  {
   "cell_type": "code",
   "execution_count": 8,
   "id": "ca10d1f7-b05c-47ff-b837-f999edb738df",
   "metadata": {
    "editable": true,
    "slideshow": {
     "slide_type": "fragment"
    },
    "tags": []
   },
   "outputs": [],
   "source": [
    "# example of a tuple\n",
    "my_tuple = ( 1, 2, 3, 4 )"
   ]
  },
  {
   "cell_type": "markdown",
   "id": "372e1246",
   "metadata": {
    "editable": true,
    "slideshow": {
     "slide_type": "fragment"
    },
    "tags": []
   },
   "source": [
    "* Lists are _mutable_ (they can be modified)\n",
    "* Tuples are _immutable_ (they cannot be modified)"
   ]
  },
  {
   "cell_type": "markdown",
   "id": "41d2130a-1ae4-4e7e-a067-61933ff6bc22",
   "metadata": {
    "editable": true,
    "slideshow": {
     "slide_type": "subslide"
    },
    "tags": []
   },
   "source": [
    "## Exercises: Python Data Types\n",
    "\n",
    "* Sieve of Eratosthenes"
   ]
  },
  {
   "cell_type": "markdown",
   "id": "2287b69a-34fb-46fb-a929-bf1394e7a612",
   "metadata": {
    "editable": true,
    "slideshow": {
     "slide_type": "slide"
    },
    "tags": []
   },
   "source": [
    "## Tutorial: Sets and Dictionaries\n",
    "* Sets and dictionaries keep track of unique items:"
   ]
  },
  {
   "cell_type": "code",
   "execution_count": 9,
   "id": "7f2f1174-9921-4b79-9671-133a2efe07e0",
   "metadata": {
    "editable": true,
    "slideshow": {
     "slide_type": "fragment"
    },
    "tags": []
   },
   "outputs": [],
   "source": [
    "# example of a set\n",
    "my_set = { 1, 2, 3, 4 }"
   ]
  },
  {
   "cell_type": "code",
   "execution_count": 10,
   "id": "7e1733ae-5bec-457e-9df7-d8135e347fc6",
   "metadata": {
    "editable": true,
    "slideshow": {
     "slide_type": "fragment"
    },
    "tags": []
   },
   "outputs": [],
   "source": [
    "# example of a dictionary\n",
    "my_dict = { 'A': 1.0, 'B': 2.0 }"
   ]
  },
  {
   "cell_type": "markdown",
   "id": "bbc08acf-7fe2-49bf-9093-d19cf487b7ab",
   "metadata": {
    "editable": true,
    "slideshow": {
     "slide_type": "fragment"
    },
    "tags": []
   },
   "source": [
    "* Sets store an unordered collection of unique objects\n",
    "* Dictionaries store key-value pairs"
   ]
  },
  {
   "cell_type": "markdown",
   "id": "8722e3e9-ef55-4dbf-a9b7-12d99cc9bf6a",
   "metadata": {
    "editable": true,
    "slideshow": {
     "slide_type": "subslide"
    },
    "tags": []
   },
   "source": [
    "## Exercises: Sets and Dictionaries\n",
    "\n",
    "* Scheduling\n",
    "* Most Frequent Number"
   ]
  },
  {
   "cell_type": "markdown",
   "id": "53c0a2e7-e496-445b-b72d-9f8e8b73875c",
   "metadata": {
    "editable": true,
    "slideshow": {
     "slide_type": "slide"
    },
    "tags": []
   },
   "source": [
    "## Tutorial: Python Functions and Classes"
   ]
  },
  {
   "cell_type": "code",
   "execution_count": 11,
   "id": "d17490bc-7d6a-49bf-b6f9-61eba930c049",
   "metadata": {
    "editable": true,
    "slideshow": {
     "slide_type": "fragment"
    },
    "tags": []
   },
   "outputs": [],
   "source": [
    "# example of a function\n",
    "def my_function(x, y):\n",
    "    z = (x**2 + y**2)**0.5\n",
    "    return z"
   ]
  },
  {
   "cell_type": "markdown",
   "id": "e4d684a3-939f-43f0-b9d9-60be15413f34",
   "metadata": {
    "editable": true,
    "slideshow": {
     "slide_type": ""
    },
    "tags": []
   },
   "source": [
    "* Python functions make your code re-usable and modular:"
   ]
  },
  {
   "cell_type": "code",
   "execution_count": 12,
   "id": "7b6a4a90-bc83-4900-8129-28cf1a3c66ea",
   "metadata": {
    "editable": true,
    "slideshow": {
     "slide_type": "fragment"
    },
    "tags": []
   },
   "outputs": [
    {
     "name": "stdout",
     "output_type": "stream",
     "text": [
      "5.0\n"
     ]
    }
   ],
   "source": [
    "print(my_function(3, 4))"
   ]
  },
  {
   "cell_type": "markdown",
   "id": "e6a57c8e-6929-4b01-88cc-a137bfd6d483",
   "metadata": {
    "editable": true,
    "slideshow": {
     "slide_type": "subslide"
    },
    "tags": []
   },
   "source": [
    "## Exercises: Python Functions and Classes\n",
    "\n",
    "* List Statistics\n",
    "* Star Rectangle"
   ]
  },
  {
   "cell_type": "markdown",
   "id": "a688db7a-770c-4a78-b3d3-a0e6a1395eb4",
   "metadata": {
    "editable": true,
    "slideshow": {
     "slide_type": "slide"
    },
    "tags": []
   },
   "source": [
    "## Tutorial: Classes and Object-Oriented Programming\n",
    "\n",
    "* Classes serve as a \"blueprint\" for user-defined Python objects"
   ]
  },
  {
   "cell_type": "code",
   "execution_count": 13,
   "id": "5a945dc4-46d1-45ba-80de-78b3d76ebd13",
   "metadata": {
    "editable": true,
    "slideshow": {
     "slide_type": "fragment"
    },
    "tags": []
   },
   "outputs": [],
   "source": [
    "class MyPythonClass:\n",
    "    \"\"\" This is an example of a Python Class \"\"\"\n",
    "       \n",
    "    def __init__(self, x_value):\n",
    "        \"\"\" This is a constructor \"\"\"\n",
    "        self.x = x_value"
   ]
  },
  {
   "cell_type": "code",
   "execution_count": 14,
   "id": "99154434-84f6-453a-8ddd-6e5f2325f312",
   "metadata": {
    "editable": true,
    "slideshow": {
     "slide_type": "fragment"
    },
    "tags": []
   },
   "outputs": [
    {
     "name": "stdout",
     "output_type": "stream",
     "text": [
      "10\n"
     ]
    }
   ],
   "source": [
    "instance = MyPythonClass(10)\n",
    "print(instance.x)"
   ]
  },
  {
   "cell_type": "markdown",
   "id": "9d4256f1-ef33-488e-8b2f-be688ebbd575",
   "metadata": {
    "editable": true,
    "slideshow": {
     "slide_type": "subslide"
    },
    "tags": []
   },
   "source": [
    "## Exercise: Classes and Object-Oriented Programming\n",
    "\n",
    "* Inorganic Material Class"
   ]
  },
  {
   "cell_type": "markdown",
   "id": "17f9227a-80b7-4914-ad82-3269f9eceb44",
   "metadata": {
    "editable": true,
    "slideshow": {
     "slide_type": "slide"
    },
    "tags": []
   },
   "source": [
    "# Review"
   ]
  },
  {
   "cell_type": "markdown",
   "id": "3275035f-15d0-44f6-af24-2692a8a20fba",
   "metadata": {
    "editable": true,
    "slideshow": {
     "slide_type": "subslide"
    },
    "tags": []
   },
   "source": [
    "## Lists and Tuples\n",
    "\n",
    "* Lists and tuples are ordered sequences of data\n",
    "* Lists are _mutable_ (they can be modified)\n",
    "* Tuples are _immutable_ (they cannot be modified)"
   ]
  },
  {
   "cell_type": "code",
   "execution_count": 15,
   "id": "ea1c5299-e1e6-469d-829f-2e43f6b9e057",
   "metadata": {
    "editable": true,
    "slideshow": {
     "slide_type": "fragment"
    },
    "tags": []
   },
   "outputs": [],
   "source": [
    "my_list = [ 'A', 'B', 'C', 'D' ]\n",
    "my_tuple = ('A', 'B', 'C', 'D' )"
   ]
  },
  {
   "cell_type": "markdown",
   "id": "d41ea526",
   "metadata": {
    "editable": true,
    "slideshow": {
     "slide_type": "subslide"
    },
    "tags": []
   },
   "source": [
    "## Sets and Dictionaries\n",
    "\n",
    "* Sets store an unordered collection of unique objects\n",
    "* Dictionaries store key-value pairs"
   ]
  },
  {
   "cell_type": "code",
   "execution_count": 16,
   "id": "829b95c5",
   "metadata": {
    "editable": true,
    "slideshow": {
     "slide_type": "fragment"
    },
    "tags": []
   },
   "outputs": [
    {
     "name": "stdout",
     "output_type": "stream",
     "text": [
      "{'B', 'D', 'C', 'A'}\n",
      "{'A': 1, 'B': 11, 'C': 12, 'D': 0}\n"
     ]
    }
   ],
   "source": [
    "my_set = { 'A', 'B', 'C', 'D', 'C'}\n",
    "my_dict = { 'A' : 1, 'B' : 11, 'C' : 12, 'D' : 0}\n",
    "\n",
    "print(my_set)\n",
    "print(my_dict)"
   ]
  },
  {
   "cell_type": "markdown",
   "id": "4c790755",
   "metadata": {
    "editable": true,
    "slideshow": {
     "slide_type": "subslide"
    },
    "tags": []
   },
   "source": [
    "## Python Functions\n",
    "\n",
    "* We have already encountered few functions in Python, such as `print()`\n",
    "* We have also seen functions associated with lists and tuples:"
   ]
  },
  {
   "cell_type": "code",
   "execution_count": 17,
   "id": "04e210ae",
   "metadata": {
    "editable": true,
    "slideshow": {
     "slide_type": "fragment"
    },
    "tags": []
   },
   "outputs": [
    {
     "name": "stdout",
     "output_type": "stream",
     "text": [
      "4\n"
     ]
    }
   ],
   "source": [
    "# len() returns the length of a tuple, list, set, str, or dict:\n",
    "my_list = [ 1, 2, 3, 4 ]\n",
    "print( len(my_list) )"
   ]
  },
  {
   "cell_type": "code",
   "execution_count": 18,
   "id": "a1460ccc",
   "metadata": {
    "editable": true,
    "slideshow": {
     "slide_type": "fragment"
    },
    "tags": []
   },
   "outputs": [
    {
     "name": "stdout",
     "output_type": "stream",
     "text": [
      "[1, 2, 3, 4, 10]\n"
     ]
    }
   ],
   "source": [
    "# list.append() adds a value to the end of a list\n",
    "my_list.append(10)\n",
    "print(my_list)"
   ]
  },
  {
   "cell_type": "markdown",
   "id": "5fb22159",
   "metadata": {
    "editable": true,
    "slideshow": {
     "slide_type": "subslide"
    },
    "tags": []
   },
   "source": [
    "## More examples of functions:"
   ]
  },
  {
   "cell_type": "code",
   "execution_count": 19,
   "id": "003558e6",
   "metadata": {
    "editable": true,
    "slideshow": {
     "slide_type": "fragment"
    },
    "tags": []
   },
   "outputs": [
    {
     "name": "stdout",
     "output_type": "stream",
     "text": [
      "{1, 2, 3, 5}\n"
     ]
    }
   ],
   "source": [
    "# set.add() adds a value to a set:\n",
    "my_set = {1,2,3}\n",
    "my_set.add(2)\n",
    "my_set.add(5)\n",
    "\n",
    "print(my_set)"
   ]
  },
  {
   "cell_type": "code",
   "execution_count": 20,
   "id": "55d19613",
   "metadata": {
    "editable": true,
    "slideshow": {
     "slide_type": "fragment"
    },
    "tags": []
   },
   "outputs": [
    {
     "name": "stdout",
     "output_type": "stream",
     "text": [
      "[0, 2, 1]\n"
     ]
    }
   ],
   "source": [
    "my_dict = { 'A' : 0, 'B' : 2, 'C' : 1 }\n",
    "\n",
    "# dict.values() returns the values in a dictionary:\n",
    "dict_vals = list( my_dict.values() )\n",
    "print(dict_vals)"
   ]
  },
  {
   "cell_type": "markdown",
   "id": "751bce22",
   "metadata": {
    "editable": true,
    "slideshow": {
     "slide_type": "subslide"
    },
    "tags": []
   },
   "source": [
    "## Writing Python Functions\n"
   ]
  },
  {
   "cell_type": "code",
   "execution_count": 21,
   "id": "197f6d31",
   "metadata": {
    "editable": true,
    "slideshow": {
     "slide_type": "fragment"
    },
    "tags": []
   },
   "outputs": [],
   "source": [
    "# create a function to print out a greeting:\n",
    "def greet():\n",
    "    print('Hello there!')"
   ]
  },
  {
   "cell_type": "markdown",
   "id": "33344611",
   "metadata": {
    "editable": true,
    "slideshow": {
     "slide_type": "fragment"
    },
    "tags": []
   },
   "source": [
    "* The name of the function (`greet`) follows the `def` keyword\n",
    "* After the function name is list parameters in parentheses (there none in this case)\n",
    "* The function is followed by an indented block of code (the function body)\n",
    "* A function can optionally output a value using the `return` statement."
   ]
  },
  {
   "cell_type": "markdown",
   "id": "705ac048",
   "metadata": {
    "editable": true,
    "slideshow": {
     "slide_type": "subslide"
    },
    "tags": []
   },
   "source": [
    "## Function parameters and returned values:"
   ]
  },
  {
   "cell_type": "code",
   "execution_count": 22,
   "id": "6eded90c",
   "metadata": {
    "editable": true,
    "slideshow": {
     "slide_type": "fragment"
    },
    "tags": []
   },
   "outputs": [
    {
     "name": "stdout",
     "output_type": "stream",
     "text": [
      "8\n"
     ]
    }
   ],
   "source": [
    "# create a function to add two numbers:\n",
    "def add_numbers(a,b):\n",
    "    total = a + b\n",
    "    return total # <-- output of function\n",
    "\n",
    "# store the returned value of a + b in `result`:\n",
    "result = add_numbers(3,5)\n",
    "\n",
    "print(result)"
   ]
  },
  {
   "cell_type": "markdown",
   "id": "7b1bda5e",
   "metadata": {
    "editable": true,
    "slideshow": {
     "slide_type": "fragment"
    },
    "tags": []
   },
   "source": [
    "* The parameters (`a` and `b`) are \"temporary variables that store the values that are passed to function.\n",
    "* Returned values can be assigned to a variable when the function is called"
   ]
  },
  {
   "cell_type": "markdown",
   "id": "8c3128e1",
   "metadata": {
    "editable": true,
    "slideshow": {
     "slide_type": "subslide"
    },
    "tags": []
   },
   "source": [
    "## Documenting Functions\n",
    "\n",
    "* It is important to write comments that describe what a function does.\n",
    "* We do this with special comments called _docstrings_ (`\"\"\"`...`\"\"\"`)"
   ]
  },
  {
   "cell_type": "code",
   "execution_count": 23,
   "id": "95d65867",
   "metadata": {
    "editable": true,
    "slideshow": {
     "slide_type": "fragment"
    },
    "tags": []
   },
   "outputs": [],
   "source": [
    "def greet(name = 'Albert'):\n",
    "    \"\"\" prints a greeting for the given name \"\"\"\n",
    "    print('Hello, ' + name + '!')"
   ]
  },
  {
   "cell_type": "markdown",
   "id": "d04357e6",
   "metadata": {
    "editable": true,
    "slideshow": {
     "slide_type": "subslide"
    },
    "tags": []
   },
   "source": [
    "* Function docstrings get printed when the `help` function is called:"
   ]
  },
  {
   "cell_type": "code",
   "execution_count": 24,
   "id": "62746dd3",
   "metadata": {
    "editable": true,
    "slideshow": {
     "slide_type": "fragment"
    },
    "tags": []
   },
   "outputs": [
    {
     "name": "stdout",
     "output_type": "stream",
     "text": [
      "Help on function greet in module __main__:\n",
      "\n",
      "greet(name='Albert')\n",
      "    prints a greeting for the given name\n",
      "\n"
     ]
    }
   ],
   "source": [
    "help(greet)"
   ]
  },
  {
   "cell_type": "markdown",
   "id": "beb56c50",
   "metadata": {
    "editable": true,
    "slideshow": {
     "slide_type": "subslide"
    },
    "tags": []
   },
   "source": [
    "## Objects in Python\n",
    "\n",
    "* In computer programming, an _object_ is something that contains data and has prescribed behaviors.\n",
    "* In Python, every data type that we have encountered so far (`list`, `str`, `set`, etc.) is an object."
   ]
  },
  {
   "cell_type": "markdown",
   "id": "4cff6266",
   "metadata": {
    "editable": true,
    "slideshow": {
     "slide_type": "fragment"
    },
    "tags": []
   },
   "source": [
    "* The data and behaviors of an object are described in something called a _class_\n",
    "* Classes are an important concept in _Object-Oriented Programming_ (OOP)"
   ]
  },
  {
   "cell_type": "markdown",
   "id": "08769894",
   "metadata": {
    "editable": true,
    "slideshow": {
     "slide_type": "subslide"
    },
    "tags": []
   },
   "source": [
    "## Python Classes\n",
    "\n",
    "* Classes serve as a kind of _blueprint_ for objects.\n",
    "* We can define our own classes in Python as follows:\n",
    "* Classes typically represent real-world objects, concepts, or services."
   ]
  },
  {
   "cell_type": "markdown",
   "id": "9be8b4c7",
   "metadata": {
    "editable": true,
    "slideshow": {
     "slide_type": "subslide"
    },
    "tags": []
   },
   "source": [
    "## Constructing Instances of a Class"
   ]
  },
  {
   "cell_type": "code",
   "execution_count": 25,
   "id": "761cac40",
   "metadata": {
    "editable": true,
    "slideshow": {
     "slide_type": "fragment"
    },
    "tags": []
   },
   "outputs": [],
   "source": [
    "class Dog:\n",
    "    \"\"\" This class represents a pet dog \"\"\"\n",
    "       \n",
    "    def __init__(self, dog_name):\n",
    "        \"\"\" Constructs a Dog instance with given name \"\"\"\n",
    "        self.name = dog_name"
   ]
  },
  {
   "cell_type": "code",
   "execution_count": 26,
   "id": "d9d8bcef",
   "metadata": {
    "editable": true,
    "slideshow": {
     "slide_type": "fragment"
    },
    "tags": []
   },
   "outputs": [],
   "source": [
    "# construct two different Dog objects:\n",
    "my_dog = Dog('Snoopy')\n",
    "my_other_dog = Dog('Fido')"
   ]
  },
  {
   "cell_type": "code",
   "execution_count": 27,
   "id": "789df096",
   "metadata": {
    "editable": true,
    "slideshow": {
     "slide_type": "fragment"
    },
    "tags": []
   },
   "outputs": [
    {
     "name": "stdout",
     "output_type": "stream",
     "text": [
      "Snoopy Fido\n",
      "Snoopy Rover\n"
     ]
    }
   ],
   "source": [
    "# print the names of the dogs:\n",
    "print(my_dog.name, my_other_dog.name)\n",
    "\n",
    "# assign the name of one dog to 'Rover'\n",
    "my_other_dog.name = 'Rover'\n",
    "\n",
    "print(my_dog.name, my_other_dog.name)"
   ]
  },
  {
   "cell_type": "markdown",
   "id": "d78e044e-957f-4197-926f-c5feb071d952",
   "metadata": {
    "editable": true,
    "slideshow": {
     "slide_type": "slide"
    },
    "tags": []
   },
   "source": [
    "# Questions\n",
    "\n",
    "![logo](logo.svg)\n"
   ]
  },
  {
   "cell_type": "markdown",
   "id": "57d4261f",
   "metadata": {
    "editable": true,
    "slideshow": {
     "slide_type": "slide"
    },
    "tags": []
   },
   "source": [
    "## Recommended Online Book Reading:\n",
    "* Scientific Computing with Numpy and Scipy\n",
    "\n",
    "Bring your questions to our next meeting tomorrow!"
   ]
  }
 ],
 "metadata": {
  "celltoolbar": "Slideshow",
  "kernelspec": {
   "display_name": "Python 3 (ipykernel)",
   "language": "python",
   "name": "python3"
  },
  "language_info": {
   "codemirror_mode": {
    "name": "ipython",
    "version": 3
   },
   "file_extension": ".py",
   "mimetype": "text/x-python",
   "name": "python",
   "nbconvert_exporter": "python",
   "pygments_lexer": "ipython3",
   "version": "3.10.12"
  }
 },
 "nbformat": 4,
 "nbformat_minor": 5
}
